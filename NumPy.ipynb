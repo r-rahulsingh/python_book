{
 "cells": [
  {
   "cell_type": "code",
   "execution_count": 1,
   "id": "048de8ee-674d-44df-be26-0d3fda617340",
   "metadata": {
    "tags": []
   },
   "outputs": [
    {
     "name": "stdout",
     "output_type": "stream",
     "text": [
      "/Users/rahulsingh/Desktop/python_book\n"
     ]
    }
   ],
   "source": [
    "!pwd"
   ]
  },
  {
   "cell_type": "code",
   "execution_count": 2,
   "id": "5a926acb-05b6-480f-9f94-6a7e8c906e81",
   "metadata": {
    "tags": []
   },
   "outputs": [
    {
     "name": "stdout",
     "output_type": "stream",
     "text": [
      "Jupyter.ipynb Notes.txt     NumPy.ipynb   hello.py      myscript.py\n"
     ]
    }
   ],
   "source": [
    "!ls"
   ]
  },
  {
   "cell_type": "markdown",
   "id": "b428b90e-9219-4ac3-bd78-459031b64635",
   "metadata": {},
   "source": [
    "images—particularly digital images can be thought of as simply two- dimensional arrays of numbers representing pixel brightness across the area.\n",
    "\n",
    "Sound clips can be thought of as one-dimensional arrays of intensity versus time.\n",
    "\n",
    "Text can be converted in various ways into numerical representations, such as binary digits representing the frequency of certain words or pairs of words. "
   ]
  },
  {
   "cell_type": "markdown",
   "id": "8f98fdd8-a099-48b4-8d5c-4ecb6bfd8083",
   "metadata": {},
   "source": [
    "NumPy (short for Numerical Python) provides an efficient interface to store and operate on dense data buffers.\n",
    "\n",
    "NumPy arrays are like Python’s built-in list type, but NumPy arrays provide much more efficient storage and data operations as the arrays grow larger in size."
   ]
  },
  {
   "cell_type": "code",
   "execution_count": 5,
   "id": "d5c531a0-394d-446c-b774-f32e5968fe5f",
   "metadata": {
    "tags": []
   },
   "outputs": [],
   "source": [
    "import numpy as np"
   ]
  },
  {
   "cell_type": "code",
   "execution_count": 6,
   "id": "08bb12e2-8460-4fe4-ae01-105da7697236",
   "metadata": {
    "tags": []
   },
   "outputs": [
    {
     "data": {
      "text/plain": [
       "'1.26.4'"
      ]
     },
     "execution_count": 6,
     "metadata": {},
     "output_type": "execute_result"
    }
   ],
   "source": [
    "np.__version__"
   ]
  },
  {
   "cell_type": "code",
   "execution_count": 7,
   "id": "a68ada0e-9250-429b-9768-2d5182c59179",
   "metadata": {
    "tags": []
   },
   "outputs": [
    {
     "data": {
      "text/plain": [
       "'np.__version__'"
      ]
     },
     "execution_count": 7,
     "metadata": {},
     "output_type": "execute_result"
    }
   ],
   "source": [
    "In[6]"
   ]
  },
  {
   "cell_type": "code",
   "execution_count": 8,
   "id": "63e878b3-889a-48ba-ac70-9172c8e85d1c",
   "metadata": {
    "tags": []
   },
   "outputs": [
    {
     "data": {
      "text/plain": [
       "'1.26.4'"
      ]
     },
     "execution_count": 8,
     "metadata": {},
     "output_type": "execute_result"
    }
   ],
   "source": [
    "Out[6]"
   ]
  },
  {
   "cell_type": "markdown",
   "id": "12b215ef-326f-4cfe-b50a-c4102c9f58f7",
   "metadata": {
    "jp-MarkdownHeadingCollapsed": true,
    "tags": []
   },
   "source": [
    "# Understanding Data Types in Python"
   ]
  },
  {
   "cell_type": "code",
   "execution_count": 9,
   "id": "47a6a62b-cc73-4d49-892b-b667693ad33e",
   "metadata": {
    "tags": []
   },
   "outputs": [],
   "source": [
    "L = list(range(10))"
   ]
  },
  {
   "cell_type": "code",
   "execution_count": 10,
   "id": "5893f39d-8f48-49ae-9a03-9edf135b4bef",
   "metadata": {
    "tags": []
   },
   "outputs": [
    {
     "data": {
      "text/plain": [
       "[0, 1, 2, 3, 4, 5, 6, 7, 8, 9]"
      ]
     },
     "execution_count": 10,
     "metadata": {},
     "output_type": "execute_result"
    }
   ],
   "source": [
    "L"
   ]
  },
  {
   "cell_type": "code",
   "execution_count": 11,
   "id": "dd86daf8-871d-484f-bd64-7e4f210a2382",
   "metadata": {
    "tags": []
   },
   "outputs": [
    {
     "data": {
      "text/plain": [
       "int"
      ]
     },
     "execution_count": 11,
     "metadata": {},
     "output_type": "execute_result"
    }
   ],
   "source": [
    "type(L[0])"
   ]
  },
  {
   "cell_type": "code",
   "execution_count": 12,
   "id": "efdb9881-f338-4caf-b8f3-d9566730ab04",
   "metadata": {
    "tags": []
   },
   "outputs": [
    {
     "data": {
      "text/plain": [
       "['0', '1', '2', '3', '4', '5', '6', '7', '8', '9']"
      ]
     },
     "execution_count": 12,
     "metadata": {},
     "output_type": "execute_result"
    }
   ],
   "source": [
    "L2 = [str(c) for c in L]\n",
    "L2"
   ]
  },
  {
   "cell_type": "code",
   "execution_count": 13,
   "id": "69a40c2d-ac6d-4b7b-8958-9c2555f52f7f",
   "metadata": {
    "tags": []
   },
   "outputs": [
    {
     "data": {
      "text/plain": [
       "str"
      ]
     },
     "execution_count": 13,
     "metadata": {},
     "output_type": "execute_result"
    }
   ],
   "source": [
    "type(L2[0])"
   ]
  },
  {
   "cell_type": "code",
   "execution_count": 14,
   "id": "ca61b821-0d45-4a44-9871-eb16a1d3017a",
   "metadata": {
    "tags": []
   },
   "outputs": [
    {
     "data": {
      "text/plain": [
       "[bool, str, float, int]"
      ]
     },
     "execution_count": 14,
     "metadata": {},
     "output_type": "execute_result"
    }
   ],
   "source": [
    "L3 = [True, \"2\", 3.0, 4]\n",
    "[type(item) for item in L3]"
   ]
  },
  {
   "cell_type": "code",
   "execution_count": 15,
   "id": "243861a7-3bb0-4b98-a861-57a8c26c1471",
   "metadata": {
    "tags": []
   },
   "outputs": [
    {
     "data": {
      "text/plain": [
       "array('i', [0, 1, 2, 3, 4, 5, 6, 7, 8, 9])"
      ]
     },
     "execution_count": 15,
     "metadata": {},
     "output_type": "execute_result"
    }
   ],
   "source": [
    "import array\n",
    "L = list(range(10))\n",
    "A = array.array('i',L)\n",
    "A"
   ]
  },
  {
   "cell_type": "markdown",
   "id": "71437e90-795d-4a3a-9661-0602256760d6",
   "metadata": {},
   "source": [
    "Here, 'i' is a type code indicating the contents are integers."
   ]
  },
  {
   "cell_type": "code",
   "execution_count": 16,
   "id": "6ac8562c-24ab-4188-8f70-f085ada09d56",
   "metadata": {
    "tags": []
   },
   "outputs": [
    {
     "data": {
      "text/plain": [
       "array([1, 2, 3, 4])"
      ]
     },
     "execution_count": 16,
     "metadata": {},
     "output_type": "execute_result"
    }
   ],
   "source": [
    "np.array([1,2,3,4])"
   ]
  },
  {
   "cell_type": "markdown",
   "id": "dd6c217f-612e-478e-877c-609e036eed94",
   "metadata": {},
   "source": [
    "Remember that unlike Python lists, NumPy arrays can only contain data of the same type. \n",
    "\n",
    "If the types do not match, NumPy will upcast them according to its type promo‐ tion rules; here, integers are upcast to floating point:"
   ]
  },
  {
   "cell_type": "code",
   "execution_count": 17,
   "id": "241198d9-745e-4fdd-be81-d0c9304a7315",
   "metadata": {
    "tags": []
   },
   "outputs": [
    {
     "data": {
      "text/plain": [
       "array([3.14, 4.  , 5.  , 6.  ])"
      ]
     },
     "execution_count": 17,
     "metadata": {},
     "output_type": "execute_result"
    }
   ],
   "source": [
    "np.array([3.14,4,5,6])"
   ]
  },
  {
   "cell_type": "markdown",
   "id": "c8b86e5e-0550-4240-80bf-b7be8d0b71da",
   "metadata": {},
   "source": [
    "If we want to explicitly set the data type of the resulting array, we can use the dtype keyword:"
   ]
  },
  {
   "cell_type": "code",
   "execution_count": 18,
   "id": "623bbaf8-fd06-43bc-9e80-80224a7d6f57",
   "metadata": {
    "tags": []
   },
   "outputs": [
    {
     "data": {
      "text/plain": [
       "array([1., 2., 3., 4.], dtype=float32)"
      ]
     },
     "execution_count": 18,
     "metadata": {},
     "output_type": "execute_result"
    }
   ],
   "source": [
    "np.array([1,2,3,4],dtype=np.float32)"
   ]
  },
  {
   "cell_type": "markdown",
   "id": "46526d06-1524-4f98-8232-186679f4422b",
   "metadata": {},
   "source": [
    "Finally, unlike Python lists, which are always one-dimensional sequences, NumPy arrays can be multidimensional."
   ]
  },
  {
   "cell_type": "code",
   "execution_count": 24,
   "id": "b4bfd53d-1d3d-49aa-b8bd-a4dac15d4306",
   "metadata": {
    "tags": []
   },
   "outputs": [
    {
     "data": {
      "text/plain": [
       "array([[2, 3, 4],\n",
       "       [4, 5, 6],\n",
       "       [6, 7, 8]])"
      ]
     },
     "execution_count": 24,
     "metadata": {},
     "output_type": "execute_result"
    }
   ],
   "source": [
    "np.array([range(i,i+3) for i in [2,4,6]])"
   ]
  },
  {
   "cell_type": "markdown",
   "id": "aba02c59-6c31-405e-89f5-4f1319d58a5c",
   "metadata": {},
   "source": [
    "Creating Arrays from Scratch"
   ]
  },
  {
   "cell_type": "code",
   "execution_count": 25,
   "id": "0313d54a-1228-42a7-b9cb-50173c4425bd",
   "metadata": {
    "tags": []
   },
   "outputs": [
    {
     "data": {
      "text/plain": [
       "array([0, 0, 0, 0, 0, 0, 0, 0, 0, 0])"
      ]
     },
     "execution_count": 25,
     "metadata": {},
     "output_type": "execute_result"
    }
   ],
   "source": [
    "# Create a length-10 integer array filled with 0s\n",
    "np.zeros(10,dtype=int)"
   ]
  },
  {
   "cell_type": "code",
   "execution_count": 27,
   "id": "cb471f48-8cfb-42d0-954e-eab766502f81",
   "metadata": {
    "tags": []
   },
   "outputs": [
    {
     "data": {
      "text/plain": [
       "array([[1., 1., 1., 1., 1.],\n",
       "       [1., 1., 1., 1., 1.],\n",
       "       [1., 1., 1., 1., 1.]])"
      ]
     },
     "execution_count": 27,
     "metadata": {},
     "output_type": "execute_result"
    }
   ],
   "source": [
    "# Create a 3x5 floating-point array filled with 1s\n",
    "np.ones((3,5),dtype=float)"
   ]
  },
  {
   "cell_type": "code",
   "execution_count": 28,
   "id": "12f10bc0-94fd-4e33-8462-e6a58f633147",
   "metadata": {
    "tags": []
   },
   "outputs": [
    {
     "data": {
      "text/plain": [
       "array([[3.14, 3.14, 3.14, 3.14, 3.14],\n",
       "       [3.14, 3.14, 3.14, 3.14, 3.14],\n",
       "       [3.14, 3.14, 3.14, 3.14, 3.14]])"
      ]
     },
     "execution_count": 28,
     "metadata": {},
     "output_type": "execute_result"
    }
   ],
   "source": [
    "# Create a 3x5 array filled with 3.14\n",
    "np.full((3,5),3.14)"
   ]
  },
  {
   "cell_type": "code",
   "execution_count": 29,
   "id": "c685adc5-4a8b-4c17-90fa-84b96e0e937e",
   "metadata": {
    "tags": []
   },
   "outputs": [
    {
     "data": {
      "text/plain": [
       "array([ 0,  2,  4,  6,  8, 10, 12, 14, 16, 18])"
      ]
     },
     "execution_count": 29,
     "metadata": {},
     "output_type": "execute_result"
    }
   ],
   "source": [
    "# Create an array filled with a linear sequence\n",
    "# starting at 0, ending at 20, stepping by 2\n",
    "# (this is similar to the built-in range function)\n",
    "np.arange(0,20,2)"
   ]
  },
  {
   "cell_type": "code",
   "execution_count": 30,
   "id": "7f8eedbc-3083-42f2-99e4-1b36d3236c68",
   "metadata": {
    "tags": []
   },
   "outputs": [
    {
     "data": {
      "text/plain": [
       "array([0.  , 0.25, 0.5 , 0.75, 1.  ])"
      ]
     },
     "execution_count": 30,
     "metadata": {},
     "output_type": "execute_result"
    }
   ],
   "source": [
    "# Create an array of five values evenly spaced between 0 and 1\n",
    "np.linspace(0,1,5)"
   ]
  },
  {
   "cell_type": "code",
   "execution_count": 33,
   "id": "ed382c54-b08e-4184-98d1-6d8b3695ac37",
   "metadata": {
    "tags": []
   },
   "outputs": [
    {
     "data": {
      "text/plain": [
       "array([[0.98581261, 0.10458764, 0.78748059],\n",
       "       [0.37019616, 0.14428973, 0.47215449],\n",
       "       [0.43975316, 0.51274027, 0.52396253]])"
      ]
     },
     "execution_count": 33,
     "metadata": {},
     "output_type": "execute_result"
    }
   ],
   "source": [
    "# Create a 3x3 array of uniformly distributed \\\n",
    "# pseudorandom values between 0 and 1\n",
    "np.random.random((3,3))"
   ]
  },
  {
   "cell_type": "code",
   "execution_count": 35,
   "id": "3886b434-72b3-412f-beae-87769a035d8e",
   "metadata": {
    "tags": []
   },
   "outputs": [
    {
     "data": {
      "text/plain": [
       "array([[-1.43137961, -0.31984503,  0.1385818 ],\n",
       "       [ 1.19654725, -0.29374762,  2.85815754],\n",
       "       [-0.85123982, -0.33820729, -0.4910674 ]])"
      ]
     },
     "execution_count": 35,
     "metadata": {},
     "output_type": "execute_result"
    }
   ],
   "source": [
    "# Create a 3x3 array of uniformly distributed \n",
    "# pseudorandom values between 0 and 1\n",
    "np.random.normal(0,1,(3,3))"
   ]
  },
  {
   "cell_type": "code",
   "execution_count": 36,
   "id": "4feee5a2-ad88-4b83-add0-47b57d8f8a9f",
   "metadata": {
    "tags": []
   },
   "outputs": [
    {
     "data": {
      "text/plain": [
       "array([[1, 9, 2],\n",
       "       [0, 3, 4],\n",
       "       [6, 2, 9]])"
      ]
     },
     "execution_count": 36,
     "metadata": {},
     "output_type": "execute_result"
    }
   ],
   "source": [
    "# Create a 3x3 array of pseudorandom integers in the interval [0, 10)\n",
    "np.random.randint(0,10,(3,3))"
   ]
  },
  {
   "cell_type": "code",
   "execution_count": 37,
   "id": "ea0245ea-2c34-4f06-9dfc-94c06f8c6a1b",
   "metadata": {
    "tags": []
   },
   "outputs": [
    {
     "data": {
      "text/plain": [
       "array([[1., 0., 0.],\n",
       "       [0., 1., 0.],\n",
       "       [0., 0., 1.]])"
      ]
     },
     "execution_count": 37,
     "metadata": {},
     "output_type": "execute_result"
    }
   ],
   "source": [
    "# Create a 3x3 identity matrix\n",
    "np.eye(3)"
   ]
  },
  {
   "cell_type": "code",
   "execution_count": 38,
   "id": "28c64e8c-c7a9-40c6-8c3e-10f5bd53b483",
   "metadata": {
    "tags": []
   },
   "outputs": [
    {
     "data": {
      "text/plain": [
       "array([1., 1., 1.])"
      ]
     },
     "execution_count": 38,
     "metadata": {},
     "output_type": "execute_result"
    }
   ],
   "source": [
    "# Create an uninitialized array of three integers; the values will be \n",
    "# whatever happens to already exist at that memory location\n",
    "np.empty(3)"
   ]
  },
  {
   "cell_type": "markdown",
   "id": "4e814273-b934-445a-bd89-455e33874b58",
   "metadata": {},
   "source": [
    "NumPy Standard Data Types"
   ]
  },
  {
   "cell_type": "code",
   "execution_count": 39,
   "id": "e7d82732-52ec-40f7-aa4c-a0511d398098",
   "metadata": {
    "tags": []
   },
   "outputs": [
    {
     "data": {
      "text/plain": [
       "array([0, 0, 0, 0, 0, 0, 0, 0, 0, 0], dtype=int16)"
      ]
     },
     "execution_count": 39,
     "metadata": {},
     "output_type": "execute_result"
    }
   ],
   "source": [
    "np.zeros(10, dtype='int16')"
   ]
  },
  {
   "cell_type": "code",
   "execution_count": 40,
   "id": "e2ff53b2-0709-4227-818c-b36c785cf496",
   "metadata": {
    "tags": []
   },
   "outputs": [
    {
     "data": {
      "text/plain": [
       "array([0, 0, 0, 0, 0, 0, 0, 0, 0, 0], dtype=int16)"
      ]
     },
     "execution_count": 40,
     "metadata": {},
     "output_type": "execute_result"
    }
   ],
   "source": [
    " np.zeros(10, dtype=np.int16)"
   ]
  },
  {
   "cell_type": "markdown",
   "id": "20ed4933-800b-49a1-b440-2b34ae6e7798",
   "metadata": {
    "jp-MarkdownHeadingCollapsed": true,
    "tags": []
   },
   "source": [
    "# The Basics of NumPy Arrays"
   ]
  },
  {
   "cell_type": "markdown",
   "id": "a74c3d12-f926-482d-be82-61185f5e12b3",
   "metadata": {},
   "source": [
    "Attributes of arrays\n",
    "\n",
    "Determining the size, shape, memory consumption, and data types of arrays"
   ]
  },
  {
   "cell_type": "code",
   "execution_count": 47,
   "id": "1b7f390b-7506-4716-8df1-d39a54191903",
   "metadata": {
    "tags": []
   },
   "outputs": [],
   "source": [
    "rng = np.random.default_rng(seed=1701) # seed for reproducibility\n",
    "\n",
    "x1 = rng.integers(10, size =6) # 1D array\n",
    "x2 = rng.integers(10, size =(3,4)) # 2D array\n",
    "x3 = rng.integers(10, size =(3,4,5)) # 3D array # 3 arrays, 4 rows in each array, 5 columns in each array"
   ]
  },
  {
   "cell_type": "code",
   "execution_count": 43,
   "id": "8fa41d46-ea11-4679-ac2b-c06ab8a9fd00",
   "metadata": {
    "tags": []
   },
   "outputs": [
    {
     "data": {
      "text/plain": [
       "array([9, 4, 0, 3, 8, 6])"
      ]
     },
     "execution_count": 43,
     "metadata": {},
     "output_type": "execute_result"
    }
   ],
   "source": [
    "x1"
   ]
  },
  {
   "cell_type": "code",
   "execution_count": 45,
   "id": "c9d9ccee-97cc-49c3-9b2e-6742f3d274b7",
   "metadata": {
    "tags": []
   },
   "outputs": [
    {
     "data": {
      "text/plain": [
       "array([[3, 1, 3, 7],\n",
       "       [4, 0, 2, 3],\n",
       "       [0, 0, 6, 9]])"
      ]
     },
     "execution_count": 45,
     "metadata": {},
     "output_type": "execute_result"
    }
   ],
   "source": [
    "x2"
   ]
  },
  {
   "cell_type": "code",
   "execution_count": 46,
   "id": "acb7ec70-c4fb-47dc-b34c-80bb5a1852e5",
   "metadata": {
    "collapsed": true,
    "jupyter": {
     "outputs_hidden": true
    },
    "tags": []
   },
   "outputs": [
    {
     "data": {
      "text/plain": [
       "array([[[4, 3, 5, 5, 0],\n",
       "        [8, 3, 5, 2, 2],\n",
       "        [1, 8, 8, 5, 3],\n",
       "        [0, 0, 8, 5, 8]],\n",
       "\n",
       "       [[5, 1, 6, 2, 3],\n",
       "        [1, 2, 5, 6, 2],\n",
       "        [5, 2, 7, 9, 3],\n",
       "        [5, 6, 0, 2, 0]],\n",
       "\n",
       "       [[2, 9, 4, 3, 9],\n",
       "        [9, 2, 2, 4, 0],\n",
       "        [0, 3, 0, 0, 2],\n",
       "        [3, 2, 7, 4, 7]]])"
      ]
     },
     "execution_count": 46,
     "metadata": {},
     "output_type": "execute_result"
    }
   ],
   "source": [
    "x3"
   ]
  },
  {
   "cell_type": "code",
   "execution_count": 49,
   "id": "7154e001-2e9b-43b6-8ffb-1c47a0cde33c",
   "metadata": {
    "tags": []
   },
   "outputs": [
    {
     "name": "stdout",
     "output_type": "stream",
     "text": [
      "x3 ndim:  3\n",
      "x3 shape:  (3, 4, 5)\n",
      "x3 size:  60\n",
      "dtype:  int64\n"
     ]
    }
   ],
   "source": [
    "print(\"x3 ndim: \", x3.ndim)\n",
    "print(\"x3 shape: \", x3.shape)\n",
    "print(\"x3 size: \", x3.size)\n",
    "print(\"dtype: \", x3.dtype)"
   ]
  },
  {
   "cell_type": "markdown",
   "id": "e0cfb64a-9fe9-4af5-a8c6-9df35f313942",
   "metadata": {},
   "source": [
    "Indexing of arrays\n",
    "\n",
    "Getting and setting the values of individual array elements"
   ]
  },
  {
   "cell_type": "code",
   "execution_count": 50,
   "id": "bafb402e-e8ae-4610-b5e0-25864700650f",
   "metadata": {
    "tags": []
   },
   "outputs": [
    {
     "data": {
      "text/plain": [
       "9"
      ]
     },
     "execution_count": 50,
     "metadata": {},
     "output_type": "execute_result"
    }
   ],
   "source": [
    "x1[0]"
   ]
  },
  {
   "cell_type": "code",
   "execution_count": 51,
   "id": "2fe19af4-36b1-4c26-a534-09ee453b26e5",
   "metadata": {
    "tags": []
   },
   "outputs": [
    {
     "data": {
      "text/plain": [
       "6"
      ]
     },
     "execution_count": 51,
     "metadata": {},
     "output_type": "execute_result"
    }
   ],
   "source": [
    "x1[-1]"
   ]
  },
  {
   "cell_type": "code",
   "execution_count": 52,
   "id": "fd36c64c-69b0-44ae-8e8f-d81bb426a687",
   "metadata": {
    "tags": []
   },
   "outputs": [
    {
     "data": {
      "text/plain": [
       "3"
      ]
     },
     "execution_count": 52,
     "metadata": {},
     "output_type": "execute_result"
    }
   ],
   "source": [
    "x2[0,0]"
   ]
  },
  {
   "cell_type": "code",
   "execution_count": 54,
   "id": "24b170c1-5a71-4a6a-826d-8da5e85fd9e4",
   "metadata": {
    "tags": []
   },
   "outputs": [
    {
     "data": {
      "text/plain": [
       "0"
      ]
     },
     "execution_count": 54,
     "metadata": {},
     "output_type": "execute_result"
    }
   ],
   "source": [
    "x2[2,0]"
   ]
  },
  {
   "cell_type": "code",
   "execution_count": 55,
   "id": "54d5904a-b3c1-41da-bf13-a413f4c37f04",
   "metadata": {
    "tags": []
   },
   "outputs": [
    {
     "data": {
      "text/plain": [
       "9"
      ]
     },
     "execution_count": 55,
     "metadata": {},
     "output_type": "execute_result"
    }
   ],
   "source": [
    "x2[2,3]"
   ]
  },
  {
   "cell_type": "code",
   "execution_count": 53,
   "id": "5e342e31-f6eb-46c9-bd45-0b1cb041c045",
   "metadata": {
    "tags": []
   },
   "outputs": [
    {
     "data": {
      "text/plain": [
       "9"
      ]
     },
     "execution_count": 53,
     "metadata": {},
     "output_type": "execute_result"
    }
   ],
   "source": [
    "x2[2,-1]"
   ]
  },
  {
   "cell_type": "markdown",
   "id": "82ba0689-2573-41f2-ada4-184a5abb5006",
   "metadata": {},
   "source": [
    "Values can also be modified using any of the preceding index notation:\n"
   ]
  },
  {
   "cell_type": "code",
   "execution_count": 56,
   "id": "aca85c4a-156a-4b37-b830-eee50719d4b0",
   "metadata": {
    "tags": []
   },
   "outputs": [
    {
     "data": {
      "text/plain": [
       "array([[12,  1,  3,  7],\n",
       "       [ 4,  0,  2,  3],\n",
       "       [ 0,  0,  6,  9]])"
      ]
     },
     "execution_count": 56,
     "metadata": {},
     "output_type": "execute_result"
    }
   ],
   "source": [
    "x2[0,0] = 12\n",
    "x2"
   ]
  },
  {
   "cell_type": "markdown",
   "id": "95729712-7fd2-4395-9943-daa8496c70ec",
   "metadata": {},
   "source": [
    "Keep in mind that, unlike Python lists, NumPy arrays have a fixed type. \n",
    "\n",
    "This means, for example, that if you attempt to insert a floating-point value into an integer array, the value will be silently truncated. \n",
    "\n",
    "Don’t be caught unaware by this behavior!"
   ]
  },
  {
   "cell_type": "code",
   "execution_count": 59,
   "id": "8e1538d8-4ad4-4a80-9438-99acf9c06e2b",
   "metadata": {
    "tags": []
   },
   "outputs": [
    {
     "name": "stdout",
     "output_type": "stream",
     "text": [
      "x1 = [9 4 0 3 8 6]\n"
     ]
    }
   ],
   "source": [
    "print(f\"x1 = {Out[43]}\")"
   ]
  },
  {
   "cell_type": "code",
   "execution_count": 62,
   "id": "183063ca-1d1e-4ece-b1d5-55ec8137fd13",
   "metadata": {
    "tags": []
   },
   "outputs": [
    {
     "name": "stdout",
     "output_type": "stream",
     "text": [
      "x1 updated = [3 4 0 3 8 6]\n"
     ]
    }
   ],
   "source": [
    "x1[0] = 3.14159 # this will be truncated!\n",
    "print(f\"x1 updated = {x1}\")"
   ]
  },
  {
   "cell_type": "markdown",
   "id": "662b9ed6-225a-4fed-890c-6263a7072115",
   "metadata": {},
   "source": [
    "Slicing of arrays\n",
    "\n",
    "Getting and setting smaller subarrays within a larger array\n",
    "\n",
    "x[start:stop:step]\n",
    "\n",
    "If any of these are unspecified, they default to the values start=0, stop=size of dimension, step=1."
   ]
  },
  {
   "cell_type": "code",
   "execution_count": 63,
   "id": "11a30a5b-e7fb-46cb-9349-06852c968a3c",
   "metadata": {
    "tags": []
   },
   "outputs": [
    {
     "data": {
      "text/plain": [
       "array([3, 4, 0, 3, 8, 6])"
      ]
     },
     "execution_count": 63,
     "metadata": {},
     "output_type": "execute_result"
    }
   ],
   "source": [
    "# 1D Subarrays\n",
    "\n",
    "x1"
   ]
  },
  {
   "cell_type": "code",
   "execution_count": 64,
   "id": "71c1abfd-7d50-423f-a000-f38b9615f7cd",
   "metadata": {
    "tags": []
   },
   "outputs": [
    {
     "data": {
      "text/plain": [
       "array([3, 4, 0])"
      ]
     },
     "execution_count": 64,
     "metadata": {},
     "output_type": "execute_result"
    }
   ],
   "source": [
    "x1[:3]"
   ]
  },
  {
   "cell_type": "code",
   "execution_count": 65,
   "id": "a40cf54f-a51a-4cd0-919e-02381fbd3878",
   "metadata": {
    "tags": []
   },
   "outputs": [
    {
     "data": {
      "text/plain": [
       "array([3, 8, 6])"
      ]
     },
     "execution_count": 65,
     "metadata": {},
     "output_type": "execute_result"
    }
   ],
   "source": [
    "x1[3:]"
   ]
  },
  {
   "cell_type": "code",
   "execution_count": 66,
   "id": "d0c71218-50e3-4d1e-8240-6a51bf6cec1a",
   "metadata": {
    "tags": []
   },
   "outputs": [
    {
     "data": {
      "text/plain": [
       "array([4, 0, 3])"
      ]
     },
     "execution_count": 66,
     "metadata": {},
     "output_type": "execute_result"
    }
   ],
   "source": [
    "x1[1:4]"
   ]
  },
  {
   "cell_type": "code",
   "execution_count": 67,
   "id": "7f184075-c766-4d06-8d76-9e30e8ac6f4a",
   "metadata": {
    "tags": []
   },
   "outputs": [
    {
     "data": {
      "text/plain": [
       "array([3, 0, 8])"
      ]
     },
     "execution_count": 67,
     "metadata": {},
     "output_type": "execute_result"
    }
   ],
   "source": [
    "x1[::2]"
   ]
  },
  {
   "cell_type": "code",
   "execution_count": 68,
   "id": "ad3f9b46-ba79-4053-8b96-5718356494df",
   "metadata": {
    "tags": []
   },
   "outputs": [
    {
     "data": {
      "text/plain": [
       "array([4, 3, 6])"
      ]
     },
     "execution_count": 68,
     "metadata": {},
     "output_type": "execute_result"
    }
   ],
   "source": [
    "x1[1::2]"
   ]
  },
  {
   "cell_type": "markdown",
   "id": "9bc428c7-c5bf-4baa-b701-2cfca1e7d7ab",
   "metadata": {
    "tags": []
   },
   "source": [
    "A potentially confusing case is when the step value is negative. \n",
    "\n",
    "In this case, the defaults for start and stop are swapped.\n",
    "\n",
    "This becomes a convenient way to reverse an array:"
   ]
  },
  {
   "cell_type": "code",
   "execution_count": 74,
   "id": "8696518b-f4eb-4517-9fc9-ab8633723d2d",
   "metadata": {
    "tags": []
   },
   "outputs": [
    {
     "data": {
      "text/plain": [
       "array([3, 4, 0, 3, 8, 6])"
      ]
     },
     "execution_count": 74,
     "metadata": {},
     "output_type": "execute_result"
    }
   ],
   "source": [
    "x1"
   ]
  },
  {
   "cell_type": "code",
   "execution_count": 77,
   "id": "35e35c32-a8e6-4b79-94d5-87c6bbad0ed7",
   "metadata": {
    "tags": []
   },
   "outputs": [
    {
     "data": {
      "text/plain": [
       "array([6, 8, 3, 0, 4, 3])"
      ]
     },
     "execution_count": 77,
     "metadata": {},
     "output_type": "execute_result"
    }
   ],
   "source": [
    "x1[::-1] #all elements, reversed"
   ]
  },
  {
   "cell_type": "code",
   "execution_count": 83,
   "id": "17cc154b-dd64-4313-a3b2-db49ddee1e33",
   "metadata": {
    "tags": []
   },
   "outputs": [
    {
     "data": {
      "text/plain": [
       "array([8, 0, 3])"
      ]
     },
     "execution_count": 83,
     "metadata": {},
     "output_type": "execute_result"
    }
   ],
   "source": [
    "x1[4::-2] # every second element from index 4, reversed"
   ]
  },
  {
   "cell_type": "code",
   "execution_count": 79,
   "id": "7800da70-0f61-4a74-b4d8-23c43dd35ad0",
   "metadata": {
    "tags": []
   },
   "outputs": [
    {
     "data": {
      "text/plain": [
       "array([0, 3])"
      ]
     },
     "execution_count": 79,
     "metadata": {},
     "output_type": "execute_result"
    }
   ],
   "source": [
    "x1[2::-2] # every second element from index 4, reversed"
   ]
  },
  {
   "cell_type": "markdown",
   "id": "5ca18f88-d193-4f3e-82f7-bfd5c4ea6a35",
   "metadata": {},
   "source": [
    "Multidimensional Subarrays"
   ]
  },
  {
   "cell_type": "code",
   "execution_count": 84,
   "id": "a2b3f8ec-aaf1-4858-8ba5-d7826c29b3fe",
   "metadata": {
    "tags": []
   },
   "outputs": [
    {
     "data": {
      "text/plain": [
       "array([[12,  1,  3,  7],\n",
       "       [ 4,  0,  2,  3],\n",
       "       [ 0,  0,  6,  9]])"
      ]
     },
     "execution_count": 84,
     "metadata": {},
     "output_type": "execute_result"
    }
   ],
   "source": [
    "x2"
   ]
  },
  {
   "cell_type": "code",
   "execution_count": 85,
   "id": "e40a4096-b621-4ea9-b439-9157708c0d4c",
   "metadata": {
    "tags": []
   },
   "outputs": [
    {
     "data": {
      "text/plain": [
       "array([[12,  1,  3],\n",
       "       [ 4,  0,  2]])"
      ]
     },
     "execution_count": 85,
     "metadata": {},
     "output_type": "execute_result"
    }
   ],
   "source": [
    "x2[:2,:3] #first two rows & three coloum"
   ]
  },
  {
   "cell_type": "code",
   "execution_count": 86,
   "id": "61e69d44-1b72-440c-89d3-4bb2bc2d5b0f",
   "metadata": {
    "tags": []
   },
   "outputs": [
    {
     "data": {
      "text/plain": [
       "array([[12,  3],\n",
       "       [ 4,  2],\n",
       "       [ 0,  6]])"
      ]
     },
     "execution_count": 86,
     "metadata": {},
     "output_type": "execute_result"
    }
   ],
   "source": [
    "x2[:3,::2] #three rows, every second column"
   ]
  },
  {
   "cell_type": "code",
   "execution_count": 88,
   "id": "244ddbd9-6d4f-4748-a81f-94bf6bdcf8ed",
   "metadata": {
    "tags": []
   },
   "outputs": [
    {
     "data": {
      "text/plain": [
       "array([[ 9,  6,  0,  0],\n",
       "       [ 3,  2,  0,  4],\n",
       "       [ 7,  3,  1, 12]])"
      ]
     },
     "execution_count": 88,
     "metadata": {},
     "output_type": "execute_result"
    }
   ],
   "source": [
    "x2[::-1,::-1] # all rows and columns reversed"
   ]
  },
  {
   "cell_type": "markdown",
   "id": "85b0f263-b621-427a-b0f1-b369e1e7f970",
   "metadata": {},
   "source": [
    "Accessing single rows or columns of an array. \n",
    "\n",
    "This can be done by combining indexing and slicing, using an empty slice marked by a single colon (:):"
   ]
  },
  {
   "cell_type": "code",
   "execution_count": 89,
   "id": "ec042331-464b-4b12-aedf-bac7ef5e20d6",
   "metadata": {
    "tags": []
   },
   "outputs": [
    {
     "data": {
      "text/plain": [
       "array([12,  4,  0])"
      ]
     },
     "execution_count": 89,
     "metadata": {},
     "output_type": "execute_result"
    }
   ],
   "source": [
    "x2[:,0] # first column of x2"
   ]
  },
  {
   "cell_type": "code",
   "execution_count": 90,
   "id": "99238c2b-1f00-4bcb-b15c-167536700a32",
   "metadata": {
    "tags": []
   },
   "outputs": [
    {
     "data": {
      "text/plain": [
       "array([12,  1,  3,  7])"
      ]
     },
     "execution_count": 90,
     "metadata": {},
     "output_type": "execute_result"
    }
   ],
   "source": [
    "x2[0,:] # first row of x2"
   ]
  },
  {
   "cell_type": "code",
   "execution_count": 91,
   "id": "f1b84eb8-37fd-4f06-aa3e-10c7c8181aff",
   "metadata": {
    "tags": []
   },
   "outputs": [
    {
     "data": {
      "text/plain": [
       "array([12,  1,  3,  7])"
      ]
     },
     "execution_count": 91,
     "metadata": {},
     "output_type": "execute_result"
    }
   ],
   "source": [
    "x2[0] # same as x2[0,:]"
   ]
  },
  {
   "cell_type": "markdown",
   "id": "0a56b03a-a94b-4dda-90d1-b2cab30d5667",
   "metadata": {},
   "source": [
    "Subarrays as No-Copy Views\n",
    "\n",
    "Unlike Python list slices, NumPy array slices are returned as views rather than copies of the array data. "
   ]
  },
  {
   "cell_type": "code",
   "execution_count": 92,
   "id": "d50dce05-cccf-4845-9600-45e524211019",
   "metadata": {
    "tags": []
   },
   "outputs": [
    {
     "data": {
      "text/plain": [
       "array([[12,  1,  3,  7],\n",
       "       [ 4,  0,  2,  3],\n",
       "       [ 0,  0,  6,  9]])"
      ]
     },
     "execution_count": 92,
     "metadata": {},
     "output_type": "execute_result"
    }
   ],
   "source": [
    "x2"
   ]
  },
  {
   "cell_type": "code",
   "execution_count": 94,
   "id": "bae5131a-fb6a-42f8-b2f4-32fae194b437",
   "metadata": {
    "tags": []
   },
   "outputs": [
    {
     "data": {
      "text/plain": [
       "array([[12,  1],\n",
       "       [ 4,  0]])"
      ]
     },
     "execution_count": 94,
     "metadata": {},
     "output_type": "execute_result"
    }
   ],
   "source": [
    "x2_sub = x2[:2,:2]\n",
    "x2_sub"
   ]
  },
  {
   "cell_type": "code",
   "execution_count": 95,
   "id": "5f72efa8-4332-40ab-a432-48cd7ac4709a",
   "metadata": {
    "tags": []
   },
   "outputs": [
    {
     "data": {
      "text/plain": [
       "array([[99,  1],\n",
       "       [ 4,  0]])"
      ]
     },
     "execution_count": 95,
     "metadata": {},
     "output_type": "execute_result"
    }
   ],
   "source": [
    "x2_sub[0,0] = 99\n",
    "x2_sub"
   ]
  },
  {
   "cell_type": "code",
   "execution_count": 96,
   "id": "1898c42c-874b-46dc-a977-796cdc35825f",
   "metadata": {
    "tags": []
   },
   "outputs": [
    {
     "data": {
      "text/plain": [
       "array([[99,  1,  3,  7],\n",
       "       [ 4,  0,  2,  3],\n",
       "       [ 0,  0,  6,  9]])"
      ]
     },
     "execution_count": 96,
     "metadata": {},
     "output_type": "execute_result"
    }
   ],
   "source": [
    "x2"
   ]
  },
  {
   "cell_type": "markdown",
   "id": "d44f60da-262a-415e-899d-0774736b5bb8",
   "metadata": {},
   "source": [
    "This is surprising but advantageous: \n",
    "\n",
    "For example, when working with large datasets, we can access and process pieces of these datasets without the need to copy the underlying data buffer."
   ]
  },
  {
   "cell_type": "markdown",
   "id": "bfc97d49-59a8-4359-93ce-f1043552a9d2",
   "metadata": {},
   "source": [
    "Creating Copies of Arrays"
   ]
  },
  {
   "cell_type": "code",
   "execution_count": 97,
   "id": "72c84e4c-244f-4939-9e43-8ad13e2e18d5",
   "metadata": {
    "tags": []
   },
   "outputs": [
    {
     "data": {
      "text/plain": [
       "array([[99,  1],\n",
       "       [ 4,  0]])"
      ]
     },
     "execution_count": 97,
     "metadata": {},
     "output_type": "execute_result"
    }
   ],
   "source": [
    "x2_sub_copy = x2[:2,:2].copy()\n",
    "x2_sub_copy"
   ]
  },
  {
   "cell_type": "markdown",
   "id": "b26a282d-6c54-4a41-8f9e-17c17855e96b",
   "metadata": {},
   "source": [
    "If we now modify this subarray, the original array is not touched:"
   ]
  },
  {
   "cell_type": "code",
   "execution_count": 98,
   "id": "46dfcfce-97d4-4b94-b2a1-1db803611ca0",
   "metadata": {
    "tags": []
   },
   "outputs": [
    {
     "data": {
      "text/plain": [
       "array([[42,  1],\n",
       "       [ 4,  0]])"
      ]
     },
     "execution_count": 98,
     "metadata": {},
     "output_type": "execute_result"
    }
   ],
   "source": [
    "x2_sub_copy[0,0] = 42\n",
    "x2_sub_copy"
   ]
  },
  {
   "cell_type": "code",
   "execution_count": 99,
   "id": "af6c1dbb-f31d-4897-85ac-f79fb36fe34a",
   "metadata": {
    "tags": []
   },
   "outputs": [
    {
     "data": {
      "text/plain": [
       "array([[99,  1,  3,  7],\n",
       "       [ 4,  0,  2,  3],\n",
       "       [ 0,  0,  6,  9]])"
      ]
     },
     "execution_count": 99,
     "metadata": {},
     "output_type": "execute_result"
    }
   ],
   "source": [
    "x2"
   ]
  },
  {
   "cell_type": "markdown",
   "id": "253309f8-b2af-4972-a02b-07a699819b93",
   "metadata": {},
   "source": [
    "Reshaping of arrays\n",
    "\n",
    "Changing the shape of a given array"
   ]
  },
  {
   "cell_type": "code",
   "execution_count": 100,
   "id": "fbcde0fa-1ff0-4379-b6a5-96693ff37c9e",
   "metadata": {
    "tags": []
   },
   "outputs": [
    {
     "data": {
      "text/plain": [
       "array([1, 2, 3, 4, 5, 6, 7, 8, 9])"
      ]
     },
     "execution_count": 100,
     "metadata": {},
     "output_type": "execute_result"
    }
   ],
   "source": [
    "grid = np.arange(1,10)\n",
    "grid"
   ]
  },
  {
   "cell_type": "code",
   "execution_count": 101,
   "id": "7c42bcca-9ac1-4ffd-882f-b56dc33ee55e",
   "metadata": {
    "tags": []
   },
   "outputs": [
    {
     "data": {
      "text/plain": [
       "array([[1, 2, 3],\n",
       "       [4, 5, 6],\n",
       "       [7, 8, 9]])"
      ]
     },
     "execution_count": 101,
     "metadata": {},
     "output_type": "execute_result"
    }
   ],
   "source": [
    "grid.reshape(3,3)"
   ]
  },
  {
   "cell_type": "markdown",
   "id": "7abd07e9-707d-4dae-9903-b0e72fc91a26",
   "metadata": {},
   "source": [
    "Note that for this to work, the size of the initial array must match the size of the reshaped array"
   ]
  },
  {
   "cell_type": "code",
   "execution_count": 106,
   "id": "5a7e3f4d-148b-4ac2-9282-3fba8b49f48d",
   "metadata": {
    "tags": []
   },
   "outputs": [
    {
     "data": {
      "text/plain": [
       "array([[1, 2, 3]])"
      ]
     },
     "execution_count": 106,
     "metadata": {},
     "output_type": "execute_result"
    }
   ],
   "source": [
    "x = np.array([1,2,3])\n",
    "x.reshape((1,3)) # row vector via reshape"
   ]
  },
  {
   "cell_type": "code",
   "execution_count": 107,
   "id": "370f1b32-649f-4aab-84d3-8c641ead61c5",
   "metadata": {
    "tags": []
   },
   "outputs": [
    {
     "data": {
      "text/plain": [
       "array([[1],\n",
       "       [2],\n",
       "       [3]])"
      ]
     },
     "execution_count": 107,
     "metadata": {},
     "output_type": "execute_result"
    }
   ],
   "source": [
    "x.reshape((3, 1)) # column vector via reshape"
   ]
  },
  {
   "cell_type": "code",
   "execution_count": 108,
   "id": "b708ff74-f59c-47ef-9c99-b7d6bf59d015",
   "metadata": {
    "tags": []
   },
   "outputs": [
    {
     "data": {
      "text/plain": [
       "array([[1, 2, 3]])"
      ]
     },
     "execution_count": 108,
     "metadata": {},
     "output_type": "execute_result"
    }
   ],
   "source": [
    "x[np.newaxis, :] # row vector via newaxis"
   ]
  },
  {
   "cell_type": "code",
   "execution_count": 109,
   "id": "da5794e1-1ae7-4be2-b119-153bca8823c5",
   "metadata": {
    "tags": []
   },
   "outputs": [
    {
     "data": {
      "text/plain": [
       "array([[1],\n",
       "       [2],\n",
       "       [3]])"
      ]
     },
     "execution_count": 109,
     "metadata": {},
     "output_type": "execute_result"
    }
   ],
   "source": [
    "x[:, np.newaxis] # column vector via newaxis"
   ]
  },
  {
   "cell_type": "markdown",
   "id": "daae8506-c4d0-4d72-930c-2d1faa4c2396",
   "metadata": {},
   "source": [
    "Concatenation of Arrays"
   ]
  },
  {
   "cell_type": "code",
   "execution_count": 115,
   "id": "161e80c1-e1cd-4c0c-ac67-b8a5cb26cf90",
   "metadata": {
    "tags": []
   },
   "outputs": [
    {
     "data": {
      "text/plain": [
       "array([1, 2, 3, 3, 2, 1])"
      ]
     },
     "execution_count": 115,
     "metadata": {},
     "output_type": "execute_result"
    }
   ],
   "source": [
    "x = np.array([1,2,3])\n",
    "y = np.array([3,2,1])\n",
    "np.concatenate([x,y])"
   ]
  },
  {
   "cell_type": "code",
   "execution_count": 116,
   "id": "dc7c3162-a1af-4ab3-92b9-5c8b3d4423ad",
   "metadata": {
    "tags": []
   },
   "outputs": [
    {
     "data": {
      "text/plain": [
       "array([ 1,  2,  3,  3,  2,  1, 99, 99, 23])"
      ]
     },
     "execution_count": 116,
     "metadata": {},
     "output_type": "execute_result"
    }
   ],
   "source": [
    "z = np.array([99,99,23])\n",
    "np.concatenate([x,y,z])"
   ]
  },
  {
   "cell_type": "code",
   "execution_count": 117,
   "id": "0684c0bf-08af-4ace-94a9-86495b504c82",
   "metadata": {
    "tags": []
   },
   "outputs": [],
   "source": [
    "grid = np.array([[1,2,3],[4,5,6]])"
   ]
  },
  {
   "cell_type": "code",
   "execution_count": 118,
   "id": "ee868d58-cd96-416b-be18-718493222504",
   "metadata": {
    "tags": []
   },
   "outputs": [
    {
     "data": {
      "text/plain": [
       "array([[1, 2, 3],\n",
       "       [4, 5, 6],\n",
       "       [1, 2, 3],\n",
       "       [4, 5, 6]])"
      ]
     },
     "execution_count": 118,
     "metadata": {},
     "output_type": "execute_result"
    }
   ],
   "source": [
    "np.concatenate([grid,grid])"
   ]
  },
  {
   "cell_type": "code",
   "execution_count": 119,
   "id": "6f1624c5-802e-4113-b2d6-cb6dc24b8537",
   "metadata": {
    "tags": []
   },
   "outputs": [
    {
     "data": {
      "text/plain": [
       "array([[1, 2, 3, 1, 2, 3],\n",
       "       [4, 5, 6, 4, 5, 6]])"
      ]
     },
     "execution_count": 119,
     "metadata": {},
     "output_type": "execute_result"
    }
   ],
   "source": [
    "# concatenate along the second axis (zero-indexed)\n",
    "np.concatenate([grid, grid], axis=1)"
   ]
  },
  {
   "cell_type": "markdown",
   "id": "138a3c17-3860-4dbe-a0fd-d2cc2c4dc73f",
   "metadata": {},
   "source": [
    "use the np.vstack (vertical stack) and np.hstack (horizontal stack) functions:"
   ]
  },
  {
   "cell_type": "code",
   "execution_count": 120,
   "id": "d6fe7910-b2d3-4bfd-9a0b-080fcfd2e54f",
   "metadata": {
    "tags": []
   },
   "outputs": [
    {
     "data": {
      "text/plain": [
       "array([[1, 2, 3],\n",
       "       [1, 2, 3],\n",
       "       [4, 5, 6]])"
      ]
     },
     "execution_count": 120,
     "metadata": {},
     "output_type": "execute_result"
    }
   ],
   "source": [
    "# vertically stack the arrays\n",
    "np.vstack([x, grid])"
   ]
  },
  {
   "cell_type": "code",
   "execution_count": 121,
   "id": "3006e1d9-dadb-4040-9f3a-75296c27becd",
   "metadata": {
    "tags": []
   },
   "outputs": [
    {
     "data": {
      "text/plain": [
       "array([[ 1,  2,  3, 99],\n",
       "       [ 4,  5,  6, 99]])"
      ]
     },
     "execution_count": 121,
     "metadata": {},
     "output_type": "execute_result"
    }
   ],
   "source": [
    "# horizontally stack the arrays \n",
    "y = np.array([[99],\n",
    "             [99]])\n",
    "np.hstack([grid, y])"
   ]
  },
  {
   "cell_type": "markdown",
   "id": "f6f12dd2-fc48-447c-8537-e8e6a124364b",
   "metadata": {},
   "source": [
    "For higher-dimensional arrays, np.dstack will stack arrays along the third axis."
   ]
  },
  {
   "cell_type": "markdown",
   "id": "fd1f3839-cd37-4f4f-86c5-a60b11120088",
   "metadata": {},
   "source": [
    "Joining and splitting of arrays\n",
    "\n",
    "Combining multiple arrays into one, and splitting one array into many"
   ]
  },
  {
   "cell_type": "markdown",
   "id": "3703f773-bc84-42ec-bd9a-f45a7157d2f4",
   "metadata": {},
   "source": [
    "The opposite of concatenation is splitting, which is implemented by the functions np.split, np.hsplit, and np.vsplit. \n",
    "\n",
    "For each of these, we can pass a list of indices giving the split points."
   ]
  },
  {
   "cell_type": "code",
   "execution_count": 125,
   "id": "54a2aae4-9b0a-4113-96e3-58efbdf37a23",
   "metadata": {
    "tags": []
   },
   "outputs": [
    {
     "name": "stdout",
     "output_type": "stream",
     "text": [
      "[1 2 3] [99 99] [3 2 1]\n"
     ]
    }
   ],
   "source": [
    "x = [1, 2, 3, 99, 99, 3, 2, 1]\n",
    "x1, x2, x3 = np.split(x, [3, 5])\n",
    "print(x1,x2,x3)"
   ]
  },
  {
   "cell_type": "markdown",
   "id": "efe50f1f-34fd-4a53-a5bd-74a2c3c3d720",
   "metadata": {},
   "source": [
    "In this case, x is split into three parts using the positions [3, 5]. Here's how it works:\n",
    "\n",
    "x1: The elements from the beginning up to the index 3 are taken. So, x1 contains [1, 2, 3].\n",
    "\n",
    "x2: The elements from index 3 to index 5 (exclusive) are taken. So, x2 contains [99, 99].\n",
    "\n",
    "x3: The elements from index 5 to the end are taken. So, x3 contains [3, 2, 1]"
   ]
  },
  {
   "cell_type": "code",
   "execution_count": 127,
   "id": "7521b2d0-7d90-48e6-b804-ce3fa2b39bb1",
   "metadata": {
    "collapsed": true,
    "jupyter": {
     "outputs_hidden": true
    },
    "tags": []
   },
   "outputs": [
    {
     "data": {
      "text/plain": [
       "\u001b[0;31mSignature:\u001b[0m       \u001b[0mnp\u001b[0m\u001b[0;34m.\u001b[0m\u001b[0msplit\u001b[0m\u001b[0;34m(\u001b[0m\u001b[0mary\u001b[0m\u001b[0;34m,\u001b[0m \u001b[0mindices_or_sections\u001b[0m\u001b[0;34m,\u001b[0m \u001b[0maxis\u001b[0m\u001b[0;34m=\u001b[0m\u001b[0;36m0\u001b[0m\u001b[0;34m)\u001b[0m\u001b[0;34m\u001b[0m\u001b[0;34m\u001b[0m\u001b[0m\n",
       "\u001b[0;31mCall signature:\u001b[0m  \u001b[0mnp\u001b[0m\u001b[0;34m.\u001b[0m\u001b[0msplit\u001b[0m\u001b[0;34m(\u001b[0m\u001b[0;34m*\u001b[0m\u001b[0margs\u001b[0m\u001b[0;34m,\u001b[0m \u001b[0;34m**\u001b[0m\u001b[0mkwargs\u001b[0m\u001b[0;34m)\u001b[0m\u001b[0;34m\u001b[0m\u001b[0;34m\u001b[0m\u001b[0m\n",
       "\u001b[0;31mType:\u001b[0m            _ArrayFunctionDispatcher\n",
       "\u001b[0;31mString form:\u001b[0m     <function split at 0x106b4afc0>\n",
       "\u001b[0;31mFile:\u001b[0m            ~/anaconda3/lib/python3.11/site-packages/numpy/lib/shape_base.py\n",
       "\u001b[0;31mSource:\u001b[0m         \n",
       "\u001b[0;34m@\u001b[0m\u001b[0marray_function_dispatch\u001b[0m\u001b[0;34m(\u001b[0m\u001b[0m_split_dispatcher\u001b[0m\u001b[0;34m)\u001b[0m\u001b[0;34m\u001b[0m\n",
       "\u001b[0;34m\u001b[0m\u001b[0;32mdef\u001b[0m \u001b[0msplit\u001b[0m\u001b[0;34m(\u001b[0m\u001b[0mary\u001b[0m\u001b[0;34m,\u001b[0m \u001b[0mindices_or_sections\u001b[0m\u001b[0;34m,\u001b[0m \u001b[0maxis\u001b[0m\u001b[0;34m=\u001b[0m\u001b[0;36m0\u001b[0m\u001b[0;34m)\u001b[0m\u001b[0;34m:\u001b[0m\u001b[0;34m\u001b[0m\n",
       "\u001b[0;34m\u001b[0m    \u001b[0;34m\"\"\"\u001b[0m\n",
       "\u001b[0;34m    Split an array into multiple sub-arrays as views into `ary`.\u001b[0m\n",
       "\u001b[0;34m\u001b[0m\n",
       "\u001b[0;34m    Parameters\u001b[0m\n",
       "\u001b[0;34m    ----------\u001b[0m\n",
       "\u001b[0;34m    ary : ndarray\u001b[0m\n",
       "\u001b[0;34m        Array to be divided into sub-arrays.\u001b[0m\n",
       "\u001b[0;34m    indices_or_sections : int or 1-D array\u001b[0m\n",
       "\u001b[0;34m        If `indices_or_sections` is an integer, N, the array will be divided\u001b[0m\n",
       "\u001b[0;34m        into N equal arrays along `axis`.  If such a split is not possible,\u001b[0m\n",
       "\u001b[0;34m        an error is raised.\u001b[0m\n",
       "\u001b[0;34m\u001b[0m\n",
       "\u001b[0;34m        If `indices_or_sections` is a 1-D array of sorted integers, the entries\u001b[0m\n",
       "\u001b[0;34m        indicate where along `axis` the array is split.  For example,\u001b[0m\n",
       "\u001b[0;34m        ``[2, 3]`` would, for ``axis=0``, result in\u001b[0m\n",
       "\u001b[0;34m\u001b[0m\n",
       "\u001b[0;34m          - ary[:2]\u001b[0m\n",
       "\u001b[0;34m          - ary[2:3]\u001b[0m\n",
       "\u001b[0;34m          - ary[3:]\u001b[0m\n",
       "\u001b[0;34m\u001b[0m\n",
       "\u001b[0;34m        If an index exceeds the dimension of the array along `axis`,\u001b[0m\n",
       "\u001b[0;34m        an empty sub-array is returned correspondingly.\u001b[0m\n",
       "\u001b[0;34m    axis : int, optional\u001b[0m\n",
       "\u001b[0;34m        The axis along which to split, default is 0.\u001b[0m\n",
       "\u001b[0;34m\u001b[0m\n",
       "\u001b[0;34m    Returns\u001b[0m\n",
       "\u001b[0;34m    -------\u001b[0m\n",
       "\u001b[0;34m    sub-arrays : list of ndarrays\u001b[0m\n",
       "\u001b[0;34m        A list of sub-arrays as views into `ary`.\u001b[0m\n",
       "\u001b[0;34m\u001b[0m\n",
       "\u001b[0;34m    Raises\u001b[0m\n",
       "\u001b[0;34m    ------\u001b[0m\n",
       "\u001b[0;34m    ValueError\u001b[0m\n",
       "\u001b[0;34m        If `indices_or_sections` is given as an integer, but\u001b[0m\n",
       "\u001b[0;34m        a split does not result in equal division.\u001b[0m\n",
       "\u001b[0;34m\u001b[0m\n",
       "\u001b[0;34m    See Also\u001b[0m\n",
       "\u001b[0;34m    --------\u001b[0m\n",
       "\u001b[0;34m    array_split : Split an array into multiple sub-arrays of equal or\u001b[0m\n",
       "\u001b[0;34m                  near-equal size.  Does not raise an exception if\u001b[0m\n",
       "\u001b[0;34m                  an equal division cannot be made.\u001b[0m\n",
       "\u001b[0;34m    hsplit : Split array into multiple sub-arrays horizontally (column-wise).\u001b[0m\n",
       "\u001b[0;34m    vsplit : Split array into multiple sub-arrays vertically (row wise).\u001b[0m\n",
       "\u001b[0;34m    dsplit : Split array into multiple sub-arrays along the 3rd axis (depth).\u001b[0m\n",
       "\u001b[0;34m    concatenate : Join a sequence of arrays along an existing axis.\u001b[0m\n",
       "\u001b[0;34m    stack : Join a sequence of arrays along a new axis.\u001b[0m\n",
       "\u001b[0;34m    hstack : Stack arrays in sequence horizontally (column wise).\u001b[0m\n",
       "\u001b[0;34m    vstack : Stack arrays in sequence vertically (row wise).\u001b[0m\n",
       "\u001b[0;34m    dstack : Stack arrays in sequence depth wise (along third dimension).\u001b[0m\n",
       "\u001b[0;34m\u001b[0m\n",
       "\u001b[0;34m    Examples\u001b[0m\n",
       "\u001b[0;34m    --------\u001b[0m\n",
       "\u001b[0;34m    >>> x = np.arange(9.0)\u001b[0m\n",
       "\u001b[0;34m    >>> np.split(x, 3)\u001b[0m\n",
       "\u001b[0;34m    [array([0.,  1.,  2.]), array([3.,  4.,  5.]), array([6.,  7.,  8.])]\u001b[0m\n",
       "\u001b[0;34m\u001b[0m\n",
       "\u001b[0;34m    >>> x = np.arange(8.0)\u001b[0m\n",
       "\u001b[0;34m    >>> np.split(x, [3, 5, 6, 10])\u001b[0m\n",
       "\u001b[0;34m    [array([0.,  1.,  2.]),\u001b[0m\n",
       "\u001b[0;34m     array([3.,  4.]),\u001b[0m\n",
       "\u001b[0;34m     array([5.]),\u001b[0m\n",
       "\u001b[0;34m     array([6.,  7.]),\u001b[0m\n",
       "\u001b[0;34m     array([], dtype=float64)]\u001b[0m\n",
       "\u001b[0;34m\u001b[0m\n",
       "\u001b[0;34m    \"\"\"\u001b[0m\u001b[0;34m\u001b[0m\n",
       "\u001b[0;34m\u001b[0m    \u001b[0;32mtry\u001b[0m\u001b[0;34m:\u001b[0m\u001b[0;34m\u001b[0m\n",
       "\u001b[0;34m\u001b[0m        \u001b[0mlen\u001b[0m\u001b[0;34m(\u001b[0m\u001b[0mindices_or_sections\u001b[0m\u001b[0;34m)\u001b[0m\u001b[0;34m\u001b[0m\n",
       "\u001b[0;34m\u001b[0m    \u001b[0;32mexcept\u001b[0m \u001b[0mTypeError\u001b[0m\u001b[0;34m:\u001b[0m\u001b[0;34m\u001b[0m\n",
       "\u001b[0;34m\u001b[0m        \u001b[0msections\u001b[0m \u001b[0;34m=\u001b[0m \u001b[0mindices_or_sections\u001b[0m\u001b[0;34m\u001b[0m\n",
       "\u001b[0;34m\u001b[0m        \u001b[0mN\u001b[0m \u001b[0;34m=\u001b[0m \u001b[0mary\u001b[0m\u001b[0;34m.\u001b[0m\u001b[0mshape\u001b[0m\u001b[0;34m[\u001b[0m\u001b[0maxis\u001b[0m\u001b[0;34m]\u001b[0m\u001b[0;34m\u001b[0m\n",
       "\u001b[0;34m\u001b[0m        \u001b[0;32mif\u001b[0m \u001b[0mN\u001b[0m \u001b[0;34m%\u001b[0m \u001b[0msections\u001b[0m\u001b[0;34m:\u001b[0m\u001b[0;34m\u001b[0m\n",
       "\u001b[0;34m\u001b[0m            \u001b[0;32mraise\u001b[0m \u001b[0mValueError\u001b[0m\u001b[0;34m(\u001b[0m\u001b[0;34m\u001b[0m\n",
       "\u001b[0;34m\u001b[0m                \u001b[0;34m'array split does not result in an equal division'\u001b[0m\u001b[0;34m)\u001b[0m \u001b[0;32mfrom\u001b[0m \u001b[0;32mNone\u001b[0m\u001b[0;34m\u001b[0m\n",
       "\u001b[0;34m\u001b[0m    \u001b[0;32mreturn\u001b[0m \u001b[0marray_split\u001b[0m\u001b[0;34m(\u001b[0m\u001b[0mary\u001b[0m\u001b[0;34m,\u001b[0m \u001b[0mindices_or_sections\u001b[0m\u001b[0;34m,\u001b[0m \u001b[0maxis\u001b[0m\u001b[0;34m)\u001b[0m\u001b[0;34m\u001b[0m\u001b[0;34m\u001b[0m\u001b[0m\n",
       "\u001b[0;31mClass docstring:\u001b[0m\n",
       "Class to wrap functions with checks for __array_function__ overrides.\n",
       "\n",
       "All arguments are required, and can only be passed by position.\n",
       "\n",
       "Parameters\n",
       "----------\n",
       "dispatcher : function or None\n",
       "    The dispatcher function that returns a single sequence-like object\n",
       "    of all arguments relevant.  It must have the same signature (except\n",
       "    the default values) as the actual implementation.\n",
       "    If ``None``, this is a ``like=`` dispatcher and the\n",
       "    ``_ArrayFunctionDispatcher`` must be called with ``like`` as the\n",
       "    first (additional and positional) argument.\n",
       "implementation : function\n",
       "    Function that implements the operation on NumPy arrays without\n",
       "    overrides.  Arguments passed calling the ``_ArrayFunctionDispatcher``\n",
       "    will be forwarded to this (and the ``dispatcher``) as if using\n",
       "    ``*args, **kwargs``.\n",
       "\n",
       "Attributes\n",
       "----------\n",
       "_implementation : function\n",
       "    The original implementation passed in."
      ]
     },
     "metadata": {},
     "output_type": "display_data"
    }
   ],
   "source": [
    "np.split??"
   ]
  },
  {
   "cell_type": "code",
   "execution_count": 128,
   "id": "5361e4b6-0fb5-4cf6-bf1c-8310cb8e8694",
   "metadata": {
    "tags": []
   },
   "outputs": [
    {
     "data": {
      "text/plain": [
       "array([[ 0,  1,  2,  3],\n",
       "       [ 4,  5,  6,  7],\n",
       "       [ 8,  9, 10, 11],\n",
       "       [12, 13, 14, 15]])"
      ]
     },
     "execution_count": 128,
     "metadata": {},
     "output_type": "execute_result"
    }
   ],
   "source": [
    "grid = np.arange(16).reshape((4, 4))\n",
    "grid"
   ]
  },
  {
   "cell_type": "code",
   "execution_count": 131,
   "id": "729ddb9d-71ad-4a08-bd23-6cf4ce1ab568",
   "metadata": {
    "tags": []
   },
   "outputs": [
    {
     "name": "stdout",
     "output_type": "stream",
     "text": [
      "[[0 1 2 3]\n",
      " [4 5 6 7]]\n",
      "[[ 8  9 10 11]\n",
      " [12 13 14 15]]\n"
     ]
    }
   ],
   "source": [
    "upper, lower = np.vsplit(grid, [2])\n",
    "print(upper)\n",
    "print(lower)"
   ]
  },
  {
   "cell_type": "code",
   "execution_count": 132,
   "id": "41514c89-a691-4ecf-a056-d562b7bfd73a",
   "metadata": {
    "tags": []
   },
   "outputs": [
    {
     "name": "stdout",
     "output_type": "stream",
     "text": [
      "[[ 0  1]\n",
      " [ 4  5]\n",
      " [ 8  9]\n",
      " [12 13]]\n",
      "[[ 2  3]\n",
      " [ 6  7]\n",
      " [10 11]\n",
      " [14 15]]\n"
     ]
    }
   ],
   "source": [
    "left, right = np.hsplit(grid, [2])\n",
    "print(left)\n",
    "print(right)"
   ]
  },
  {
   "cell_type": "markdown",
   "id": "8aaa3e30-e147-4bf7-af45-1b54aeb6657e",
   "metadata": {},
   "source": [
    "Similarly, for higher-dimensional arrays, np.dsplit will split arrays along the third\n",
    "axis."
   ]
  },
  {
   "cell_type": "markdown",
   "id": "95f35bed-621e-4e2f-8924-1938f4cd0ad9",
   "metadata": {
    "tags": []
   },
   "source": [
    "# Computation on NumPy Arrays: Universal Functions"
   ]
  },
  {
   "cell_type": "code",
   "execution_count": null,
   "id": "28c3ef67-2261-4b29-8f97-25478131776b",
   "metadata": {},
   "outputs": [],
   "source": []
  }
 ],
 "metadata": {
  "kernelspec": {
   "display_name": "Python 3 (ipykernel)",
   "language": "python",
   "name": "python3"
  },
  "language_info": {
   "codemirror_mode": {
    "name": "ipython",
    "version": 3
   },
   "file_extension": ".py",
   "mimetype": "text/x-python",
   "name": "python",
   "nbconvert_exporter": "python",
   "pygments_lexer": "ipython3",
   "version": "3.11.0"
  }
 },
 "nbformat": 4,
 "nbformat_minor": 5
}
