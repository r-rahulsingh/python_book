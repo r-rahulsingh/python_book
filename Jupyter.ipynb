{
 "cells": [
  {
   "cell_type": "code",
   "execution_count": null,
   "id": "6d031b2a-ae80-4f7a-9ff0-a1e27a0c4ce6",
   "metadata": {
    "tags": []
   },
   "outputs": [],
   "source": [
    "print(\"hello, world!\")"
   ]
  },
  {
   "cell_type": "markdown",
   "id": "a43c3299-2a53-4923-ad61-57af71db0413",
   "metadata": {},
   "source": [
    "Accessing Documentation with ?"
   ]
  },
  {
   "cell_type": "code",
   "execution_count": 2,
   "id": "b3e1e95d-401d-4e35-97db-53a1361fd458",
   "metadata": {
    "tags": []
   },
   "outputs": [
    {
     "name": "stdout",
     "output_type": "stream",
     "text": [
      "Help on built-in function len in module builtins:\n",
      "\n",
      "len(obj, /)\n",
      "    Return the number of items in a container.\n",
      "\n"
     ]
    }
   ],
   "source": [
    "help(len)"
   ]
  },
  {
   "cell_type": "code",
   "execution_count": 3,
   "id": "0923ad5d-fc8e-4c56-b337-74667c956ab8",
   "metadata": {
    "tags": []
   },
   "outputs": [
    {
     "data": {
      "text/plain": [
       "\u001b[0;31mSignature:\u001b[0m \u001b[0mlen\u001b[0m\u001b[0;34m(\u001b[0m\u001b[0mobj\u001b[0m\u001b[0;34m,\u001b[0m \u001b[0;34m/\u001b[0m\u001b[0;34m)\u001b[0m\u001b[0;34m\u001b[0m\u001b[0;34m\u001b[0m\u001b[0m\n",
       "\u001b[0;31mDocstring:\u001b[0m Return the number of items in a container.\n",
       "\u001b[0;31mType:\u001b[0m      builtin_function_or_method"
      ]
     },
     "metadata": {},
     "output_type": "display_data"
    }
   ],
   "source": [
    "len?"
   ]
  },
  {
   "cell_type": "markdown",
   "id": "34c0e4d8-711e-4b28-8a66-17c1c97da020",
   "metadata": {},
   "source": [
    "This notation of ? works for anything "
   ]
  },
  {
   "cell_type": "code",
   "execution_count": 4,
   "id": "0b3380ed-47fa-4c78-8a35-4e0f1ba18514",
   "metadata": {
    "tags": []
   },
   "outputs": [],
   "source": [
    "L = [1,2,3]"
   ]
  },
  {
   "cell_type": "code",
   "execution_count": 5,
   "id": "fc6251cc-44a9-4a92-87b1-e99dcdf7a826",
   "metadata": {
    "tags": []
   },
   "outputs": [
    {
     "data": {
      "text/plain": [
       "\u001b[0;31mSignature:\u001b[0m \u001b[0mL\u001b[0m\u001b[0;34m.\u001b[0m\u001b[0minsert\u001b[0m\u001b[0;34m(\u001b[0m\u001b[0mindex\u001b[0m\u001b[0;34m,\u001b[0m \u001b[0mobject\u001b[0m\u001b[0;34m,\u001b[0m \u001b[0;34m/\u001b[0m\u001b[0;34m)\u001b[0m\u001b[0;34m\u001b[0m\u001b[0;34m\u001b[0m\u001b[0m\n",
       "\u001b[0;31mDocstring:\u001b[0m Insert object before index.\n",
       "\u001b[0;31mType:\u001b[0m      builtin_function_or_method"
      ]
     },
     "metadata": {},
     "output_type": "display_data"
    }
   ],
   "source": [
    "L.insert?"
   ]
  },
  {
   "cell_type": "code",
   "execution_count": 6,
   "id": "b9ff39d3-61b8-4917-a85c-a2f5bd2d8241",
   "metadata": {
    "tags": []
   },
   "outputs": [
    {
     "data": {
      "text/plain": [
       "\u001b[0;31mType:\u001b[0m        list\n",
       "\u001b[0;31mString form:\u001b[0m [1, 2, 3]\n",
       "\u001b[0;31mLength:\u001b[0m      3\n",
       "\u001b[0;31mDocstring:\u001b[0m  \n",
       "Built-in mutable sequence.\n",
       "\n",
       "If no argument is given, the constructor creates a new empty list.\n",
       "The argument must be an iterable if specified."
      ]
     },
     "metadata": {},
     "output_type": "display_data"
    }
   ],
   "source": [
    "L?"
   ]
  },
  {
   "cell_type": "markdown",
   "id": "e50104a2-0196-4e6d-84ee-1ad7c51e9405",
   "metadata": {},
   "source": [
    "adding such inline documentation to the code you write."
   ]
  },
  {
   "cell_type": "code",
   "execution_count": 7,
   "id": "6f32625b-e770-4f35-ba84-7d4491a9db63",
   "metadata": {
    "tags": []
   },
   "outputs": [],
   "source": [
    "def square(a):\n",
    "    ''' Return the square of a.'''\n",
    "    return a ** 2 "
   ]
  },
  {
   "cell_type": "code",
   "execution_count": 8,
   "id": "9d2c8d9f-fc6b-4e54-935b-aba90bb25023",
   "metadata": {
    "tags": []
   },
   "outputs": [
    {
     "data": {
      "text/plain": [
       "\u001b[0;31mSignature:\u001b[0m \u001b[0msquare\u001b[0m\u001b[0;34m(\u001b[0m\u001b[0ma\u001b[0m\u001b[0;34m)\u001b[0m\u001b[0;34m\u001b[0m\u001b[0;34m\u001b[0m\u001b[0m\n",
       "\u001b[0;31mDocstring:\u001b[0m Return the square of a.\n",
       "\u001b[0;31mFile:\u001b[0m      /var/folders/bt/35f6qmss40lcsmbmj3srx0zc0000gn/T/ipykernel_13987/3859910450.py\n",
       "\u001b[0;31mType:\u001b[0m      function"
      ]
     },
     "metadata": {},
     "output_type": "display_data"
    }
   ],
   "source": [
    "square?"
   ]
  },
  {
   "cell_type": "code",
   "execution_count": 9,
   "id": "a3400280-8534-4e3b-9a2b-779685ce0b36",
   "metadata": {
    "tags": []
   },
   "outputs": [
    {
     "data": {
      "text/plain": [
       "25"
      ]
     },
     "execution_count": 9,
     "metadata": {},
     "output_type": "execute_result"
    }
   ],
   "source": [
    "square(5)"
   ]
  },
  {
   "cell_type": "markdown",
   "id": "42fbc538-d711-47b3-af55-5b01d6472f4c",
   "metadata": {},
   "source": [
    "Accessing Source Code with ??"
   ]
  },
  {
   "cell_type": "code",
   "execution_count": 11,
   "id": "64a581ce-cb4d-4788-b290-f804a2a5290b",
   "metadata": {
    "tags": []
   },
   "outputs": [
    {
     "data": {
      "text/plain": [
       "\u001b[0;31mSignature:\u001b[0m \u001b[0msquare\u001b[0m\u001b[0;34m(\u001b[0m\u001b[0ma\u001b[0m\u001b[0;34m)\u001b[0m\u001b[0;34m\u001b[0m\u001b[0;34m\u001b[0m\u001b[0m\n",
       "\u001b[0;31mSource:\u001b[0m   \n",
       "\u001b[0;32mdef\u001b[0m \u001b[0msquare\u001b[0m\u001b[0;34m(\u001b[0m\u001b[0ma\u001b[0m\u001b[0;34m)\u001b[0m\u001b[0;34m:\u001b[0m\u001b[0;34m\u001b[0m\n",
       "\u001b[0;34m\u001b[0m    \u001b[0;34m''' Return the square of a.'''\u001b[0m\u001b[0;34m\u001b[0m\n",
       "\u001b[0;34m\u001b[0m    \u001b[0;32mreturn\u001b[0m \u001b[0ma\u001b[0m \u001b[0;34m**\u001b[0m \u001b[0;36m2\u001b[0m\u001b[0;34m\u001b[0m\u001b[0;34m\u001b[0m\u001b[0m\n",
       "\u001b[0;31mFile:\u001b[0m      /var/folders/bt/35f6qmss40lcsmbmj3srx0zc0000gn/T/ipykernel_13987/3859910450.py\n",
       "\u001b[0;31mType:\u001b[0m      function"
      ]
     },
     "metadata": {},
     "output_type": "display_data"
    }
   ],
   "source": [
    "square??"
   ]
  },
  {
   "cell_type": "markdown",
   "id": "f761e8f2-3a5b-46bf-b337-fae86cda34cf",
   "metadata": {},
   "source": [
    "Exploring Modules with Tab Completion"
   ]
  },
  {
   "cell_type": "code",
   "execution_count": null,
   "id": "f8edc0d1-1f36-4d16-baaa-c7093b0bfd59",
   "metadata": {
    "tags": []
   },
   "outputs": [],
   "source": [
    "L.<Press TAB in Keyboard>"
   ]
  },
  {
   "cell_type": "code",
   "execution_count": null,
   "id": "2403e601-8b2b-4639-acc8-f4b4e65da65d",
   "metadata": {},
   "outputs": [],
   "source": [
    "L.c<Press TAB in Keyboard> #It narrow downs to specific command"
   ]
  },
  {
   "cell_type": "markdown",
   "id": "6c6553c1-f387-4c53-a079-93ecaee6d078",
   "metadata": {},
   "source": [
    "dunder” methods"
   ]
  },
  {
   "cell_type": "code",
   "execution_count": null,
   "id": "9681c22c-ebd0-4f58-84eb-f9bfe0578fe0",
   "metadata": {},
   "outputs": [],
   "source": [
    "L._<Press TAB in Keyboard>"
   ]
  },
  {
   "cell_type": "code",
   "execution_count": 13,
   "id": "cfc7173e-6b1f-4d3f-97d6-b1f7f4f289c2",
   "metadata": {
    "tags": []
   },
   "outputs": [
    {
     "data": {
      "text/plain": [
       "\u001b[0;31mSignature:\u001b[0m      \u001b[0mL\u001b[0m\u001b[0;34m.\u001b[0m\u001b[0m__add__\u001b[0m\u001b[0;34m(\u001b[0m\u001b[0mvalue\u001b[0m\u001b[0;34m,\u001b[0m \u001b[0;34m/\u001b[0m\u001b[0;34m)\u001b[0m\u001b[0;34m\u001b[0m\u001b[0;34m\u001b[0m\u001b[0m\n",
       "\u001b[0;31mCall signature:\u001b[0m \u001b[0mL\u001b[0m\u001b[0;34m.\u001b[0m\u001b[0m__add__\u001b[0m\u001b[0;34m(\u001b[0m\u001b[0;34m*\u001b[0m\u001b[0margs\u001b[0m\u001b[0;34m,\u001b[0m \u001b[0;34m**\u001b[0m\u001b[0mkwargs\u001b[0m\u001b[0;34m)\u001b[0m\u001b[0;34m\u001b[0m\u001b[0;34m\u001b[0m\u001b[0m\n",
       "\u001b[0;31mType:\u001b[0m           method-wrapper\n",
       "\u001b[0;31mString form:\u001b[0m    <method-wrapper '__add__' of list object at 0x1062b86c0>\n",
       "\u001b[0;31mDocstring:\u001b[0m      Return self+value."
      ]
     },
     "metadata": {},
     "output_type": "display_data"
    }
   ],
   "source": [
    "L.__add__?"
   ]
  },
  {
   "cell_type": "code",
   "execution_count": null,
   "id": "86d9fe46-a1f0-425b-bc81-99cf8bd48e12",
   "metadata": {},
   "outputs": [],
   "source": [
    "from itertools import co<TAB>"
   ]
  },
  {
   "cell_type": "markdown",
   "id": "e5adb8a8-de22-472c-8f22-1370922d0302",
   "metadata": {},
   "source": [
    "you can use tab-completion to see which imports are available on your sys‐ tem "
   ]
  },
  {
   "cell_type": "code",
   "execution_count": null,
   "id": "8780fc14-d604-44e0-9817-781b40f48627",
   "metadata": {},
   "outputs": [],
   "source": [
    "import <TAB>"
   ]
  },
  {
   "cell_type": "code",
   "execution_count": null,
   "id": "290a551e-0101-4d09-99e1-d3b7c07446ad",
   "metadata": {},
   "outputs": [],
   "source": [
    "import h<TAB>"
   ]
  },
  {
   "cell_type": "markdown",
   "id": "9f11f7c3-f234-49b8-b215-47510575a327",
   "metadata": {},
   "source": [
    "'*' character matches any string, including the empty string."
   ]
  },
  {
   "cell_type": "code",
   "execution_count": 14,
   "id": "5f04a370-a622-4748-8195-0a7cc818c8cb",
   "metadata": {
    "tags": []
   },
   "outputs": [
    {
     "data": {
      "text/plain": [
       "BytesWarning\n",
       "DeprecationWarning\n",
       "EncodingWarning\n",
       "FutureWarning\n",
       "ImportWarning\n",
       "PendingDeprecationWarning\n",
       "ResourceWarning\n",
       "RuntimeWarning\n",
       "SyntaxWarning\n",
       "UnicodeWarning\n",
       "UserWarning\n",
       "Warning"
      ]
     },
     "metadata": {},
     "output_type": "display_data"
    }
   ],
   "source": [
    "*Warning?"
   ]
  },
  {
   "cell_type": "code",
   "execution_count": 16,
   "id": "e4c85d8e-96a6-4598-b7a2-1d863b7ab9de",
   "metadata": {
    "tags": []
   },
   "outputs": [
    {
     "data": {
      "text/plain": [
       "str.find\n",
       "str.rfind"
      ]
     },
     "metadata": {},
     "output_type": "display_data"
    }
   ],
   "source": [
    "str.*find*?"
   ]
  },
  {
   "cell_type": "code",
   "execution_count": 18,
   "id": "d2d2b5f2-b774-4929-993e-003133ab5394",
   "metadata": {
    "tags": []
   },
   "outputs": [
    {
     "data": {
      "text/plain": [
       "str.__add__"
      ]
     },
     "metadata": {},
     "output_type": "display_data"
    }
   ],
   "source": [
    "str.*add*?"
   ]
  },
  {
   "cell_type": "markdown",
   "id": "68bcc070-ffe7-4451-a74f-c35d7c32b4ab",
   "metadata": {},
   "source": [
    "Navigation Shortcuts"
   ]
  },
  {
   "cell_type": "markdown",
   "id": "2b541617-fbc1-4039-81a6-dcc985f4cb47",
   "metadata": {},
   "source": [
    "Ctrl-a : Move cursor to beginning of line\n",
    "\n",
    "Ctrl-e : Move cursor to end of the line\n",
    "\n",
    "Ctrl-b or the left arrow key : Move cursor back one character\n",
    "\n",
    "Ctrl-f or the right arrow key : Move cursor forward one character\n",
    "\n",
    "\n",
    "   "
   ]
  },
  {
   "cell_type": "markdown",
   "id": "322585bc-f752-43dc-a0cf-b4333cac8a01",
   "metadata": {},
   "source": [
    "Text Entry Shortcuts"
   ]
  },
  {
   "cell_type": "markdown",
   "id": "ba7a5ef9-bb35-4d1e-afe4-238962ff2067",
   "metadata": {},
   "source": [
    "Ctrl-d : Delete next character in line\n",
    "\n",
    "Ctrl-k : Cut text from cursor to end of line\n",
    "\n",
    "Ctrl-u : Cut text from beginning of line to cursor\n",
    "\n",
    "Ctrl-y : Yank (i.e., paste) text that was previously cut\n",
    "\n",
    "Ctrl-t : Transpose (i.e., switch) previous two characters"
   ]
  },
  {
   "cell_type": "markdown",
   "id": "878f0c9b-9fa1-4093-968f-fd7f8ec03a3a",
   "metadata": {},
   "source": [
    "Miscellaneous Shortcuts"
   ]
  },
  {
   "cell_type": "markdown",
   "id": "d81b28f4-846a-47b9-bb1a-d45e9a29871e",
   "metadata": {},
   "source": [
    "Ctrl-l : Clear terminal screen\n",
    "\n",
    "Ctrl-c : Interrupt current Python command \n",
    "\n",
    "Ctrl-d : Exit IPython session"
   ]
  },
  {
   "cell_type": "code",
   "execution_count": null,
   "id": "8da619bd-fc0b-4448-8e74-68c23f8e29fb",
   "metadata": {},
   "outputs": [],
   "source": []
  }
 ],
 "metadata": {
  "kernelspec": {
   "display_name": "Python 3 (ipykernel)",
   "language": "python",
   "name": "python3"
  },
  "language_info": {
   "codemirror_mode": {
    "name": "ipython",
    "version": 3
   },
   "file_extension": ".py",
   "mimetype": "text/x-python",
   "name": "python",
   "nbconvert_exporter": "python",
   "pygments_lexer": "ipython3",
   "version": "3.11.0"
  }
 },
 "nbformat": 4,
 "nbformat_minor": 5
}
