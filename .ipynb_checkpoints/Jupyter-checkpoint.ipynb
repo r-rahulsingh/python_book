{
 "cells": [
  {
   "cell_type": "markdown",
   "id": "72445df5-0989-442e-a302-7a6e43fc1144",
   "metadata": {
    "jp-MarkdownHeadingCollapsed": true,
    "tags": []
   },
   "source": [
    "# Jupyter basics"
   ]
  },
  {
   "cell_type": "code",
   "execution_count": null,
   "id": "6d031b2a-ae80-4f7a-9ff0-a1e27a0c4ce6",
   "metadata": {
    "tags": []
   },
   "outputs": [],
   "source": [
    "print(\"hello, world!\")"
   ]
  },
  {
   "cell_type": "markdown",
   "id": "a43c3299-2a53-4923-ad61-57af71db0413",
   "metadata": {},
   "source": [
    "Accessing Documentation with ?"
   ]
  },
  {
   "cell_type": "code",
   "execution_count": 2,
   "id": "b3e1e95d-401d-4e35-97db-53a1361fd458",
   "metadata": {
    "tags": []
   },
   "outputs": [
    {
     "name": "stdout",
     "output_type": "stream",
     "text": [
      "Help on built-in function len in module builtins:\n",
      "\n",
      "len(obj, /)\n",
      "    Return the number of items in a container.\n",
      "\n"
     ]
    }
   ],
   "source": [
    "help(len)"
   ]
  },
  {
   "cell_type": "code",
   "execution_count": 3,
   "id": "0923ad5d-fc8e-4c56-b337-74667c956ab8",
   "metadata": {
    "tags": []
   },
   "outputs": [
    {
     "data": {
      "text/plain": [
       "\u001b[0;31mSignature:\u001b[0m \u001b[0mlen\u001b[0m\u001b[0;34m(\u001b[0m\u001b[0mobj\u001b[0m\u001b[0;34m,\u001b[0m \u001b[0;34m/\u001b[0m\u001b[0;34m)\u001b[0m\u001b[0;34m\u001b[0m\u001b[0;34m\u001b[0m\u001b[0m\n",
       "\u001b[0;31mDocstring:\u001b[0m Return the number of items in a container.\n",
       "\u001b[0;31mType:\u001b[0m      builtin_function_or_method"
      ]
     },
     "metadata": {},
     "output_type": "display_data"
    }
   ],
   "source": [
    "len?"
   ]
  },
  {
   "cell_type": "markdown",
   "id": "34c0e4d8-711e-4b28-8a66-17c1c97da020",
   "metadata": {},
   "source": [
    "This notation of ? works for anything "
   ]
  },
  {
   "cell_type": "code",
   "execution_count": 4,
   "id": "0b3380ed-47fa-4c78-8a35-4e0f1ba18514",
   "metadata": {
    "tags": []
   },
   "outputs": [],
   "source": [
    "L = [1,2,3]"
   ]
  },
  {
   "cell_type": "code",
   "execution_count": 5,
   "id": "fc6251cc-44a9-4a92-87b1-e99dcdf7a826",
   "metadata": {
    "tags": []
   },
   "outputs": [
    {
     "data": {
      "text/plain": [
       "\u001b[0;31mSignature:\u001b[0m \u001b[0mL\u001b[0m\u001b[0;34m.\u001b[0m\u001b[0minsert\u001b[0m\u001b[0;34m(\u001b[0m\u001b[0mindex\u001b[0m\u001b[0;34m,\u001b[0m \u001b[0mobject\u001b[0m\u001b[0;34m,\u001b[0m \u001b[0;34m/\u001b[0m\u001b[0;34m)\u001b[0m\u001b[0;34m\u001b[0m\u001b[0;34m\u001b[0m\u001b[0m\n",
       "\u001b[0;31mDocstring:\u001b[0m Insert object before index.\n",
       "\u001b[0;31mType:\u001b[0m      builtin_function_or_method"
      ]
     },
     "metadata": {},
     "output_type": "display_data"
    }
   ],
   "source": [
    "L.insert?"
   ]
  },
  {
   "cell_type": "code",
   "execution_count": 6,
   "id": "b9ff39d3-61b8-4917-a85c-a2f5bd2d8241",
   "metadata": {
    "tags": []
   },
   "outputs": [
    {
     "data": {
      "text/plain": [
       "\u001b[0;31mType:\u001b[0m        list\n",
       "\u001b[0;31mString form:\u001b[0m [1, 2, 3]\n",
       "\u001b[0;31mLength:\u001b[0m      3\n",
       "\u001b[0;31mDocstring:\u001b[0m  \n",
       "Built-in mutable sequence.\n",
       "\n",
       "If no argument is given, the constructor creates a new empty list.\n",
       "The argument must be an iterable if specified."
      ]
     },
     "metadata": {},
     "output_type": "display_data"
    }
   ],
   "source": [
    "L?"
   ]
  },
  {
   "cell_type": "markdown",
   "id": "e50104a2-0196-4e6d-84ee-1ad7c51e9405",
   "metadata": {},
   "source": [
    "adding such inline documentation to the code you write."
   ]
  },
  {
   "cell_type": "code",
   "execution_count": 7,
   "id": "6f32625b-e770-4f35-ba84-7d4491a9db63",
   "metadata": {
    "tags": []
   },
   "outputs": [],
   "source": [
    "def square(a):\n",
    "    ''' Return the square of a.'''\n",
    "    return a ** 2 "
   ]
  },
  {
   "cell_type": "code",
   "execution_count": 8,
   "id": "9d2c8d9f-fc6b-4e54-935b-aba90bb25023",
   "metadata": {
    "tags": []
   },
   "outputs": [
    {
     "data": {
      "text/plain": [
       "\u001b[0;31mSignature:\u001b[0m \u001b[0msquare\u001b[0m\u001b[0;34m(\u001b[0m\u001b[0ma\u001b[0m\u001b[0;34m)\u001b[0m\u001b[0;34m\u001b[0m\u001b[0;34m\u001b[0m\u001b[0m\n",
       "\u001b[0;31mDocstring:\u001b[0m Return the square of a.\n",
       "\u001b[0;31mFile:\u001b[0m      /var/folders/bt/35f6qmss40lcsmbmj3srx0zc0000gn/T/ipykernel_13987/3859910450.py\n",
       "\u001b[0;31mType:\u001b[0m      function"
      ]
     },
     "metadata": {},
     "output_type": "display_data"
    }
   ],
   "source": [
    "square?"
   ]
  },
  {
   "cell_type": "code",
   "execution_count": 9,
   "id": "a3400280-8534-4e3b-9a2b-779685ce0b36",
   "metadata": {
    "tags": []
   },
   "outputs": [
    {
     "data": {
      "text/plain": [
       "25"
      ]
     },
     "execution_count": 9,
     "metadata": {},
     "output_type": "execute_result"
    }
   ],
   "source": [
    "square(5)"
   ]
  },
  {
   "cell_type": "markdown",
   "id": "42fbc538-d711-47b3-af55-5b01d6472f4c",
   "metadata": {},
   "source": [
    "Accessing Source Code with ??"
   ]
  },
  {
   "cell_type": "code",
   "execution_count": 11,
   "id": "64a581ce-cb4d-4788-b290-f804a2a5290b",
   "metadata": {
    "tags": []
   },
   "outputs": [
    {
     "data": {
      "text/plain": [
       "\u001b[0;31mSignature:\u001b[0m \u001b[0msquare\u001b[0m\u001b[0;34m(\u001b[0m\u001b[0ma\u001b[0m\u001b[0;34m)\u001b[0m\u001b[0;34m\u001b[0m\u001b[0;34m\u001b[0m\u001b[0m\n",
       "\u001b[0;31mSource:\u001b[0m   \n",
       "\u001b[0;32mdef\u001b[0m \u001b[0msquare\u001b[0m\u001b[0;34m(\u001b[0m\u001b[0ma\u001b[0m\u001b[0;34m)\u001b[0m\u001b[0;34m:\u001b[0m\u001b[0;34m\u001b[0m\n",
       "\u001b[0;34m\u001b[0m    \u001b[0;34m''' Return the square of a.'''\u001b[0m\u001b[0;34m\u001b[0m\n",
       "\u001b[0;34m\u001b[0m    \u001b[0;32mreturn\u001b[0m \u001b[0ma\u001b[0m \u001b[0;34m**\u001b[0m \u001b[0;36m2\u001b[0m\u001b[0;34m\u001b[0m\u001b[0;34m\u001b[0m\u001b[0m\n",
       "\u001b[0;31mFile:\u001b[0m      /var/folders/bt/35f6qmss40lcsmbmj3srx0zc0000gn/T/ipykernel_13987/3859910450.py\n",
       "\u001b[0;31mType:\u001b[0m      function"
      ]
     },
     "metadata": {},
     "output_type": "display_data"
    }
   ],
   "source": [
    "square??"
   ]
  },
  {
   "cell_type": "markdown",
   "id": "f761e8f2-3a5b-46bf-b337-fae86cda34cf",
   "metadata": {},
   "source": [
    "Exploring Modules with Tab Completion"
   ]
  },
  {
   "cell_type": "code",
   "execution_count": null,
   "id": "f8edc0d1-1f36-4d16-baaa-c7093b0bfd59",
   "metadata": {
    "tags": []
   },
   "outputs": [],
   "source": [
    "L.<Press TAB in Keyboard>"
   ]
  },
  {
   "cell_type": "code",
   "execution_count": null,
   "id": "2403e601-8b2b-4639-acc8-f4b4e65da65d",
   "metadata": {},
   "outputs": [],
   "source": [
    "L.c<Press TAB in Keyboard> #It narrow downs to specific command"
   ]
  },
  {
   "cell_type": "markdown",
   "id": "6c6553c1-f387-4c53-a079-93ecaee6d078",
   "metadata": {},
   "source": [
    "dunder” methods"
   ]
  },
  {
   "cell_type": "code",
   "execution_count": null,
   "id": "9681c22c-ebd0-4f58-84eb-f9bfe0578fe0",
   "metadata": {},
   "outputs": [],
   "source": [
    "L._<Press TAB in Keyboard>"
   ]
  },
  {
   "cell_type": "code",
   "execution_count": 13,
   "id": "cfc7173e-6b1f-4d3f-97d6-b1f7f4f289c2",
   "metadata": {
    "tags": []
   },
   "outputs": [
    {
     "data": {
      "text/plain": [
       "\u001b[0;31mSignature:\u001b[0m      \u001b[0mL\u001b[0m\u001b[0;34m.\u001b[0m\u001b[0m__add__\u001b[0m\u001b[0;34m(\u001b[0m\u001b[0mvalue\u001b[0m\u001b[0;34m,\u001b[0m \u001b[0;34m/\u001b[0m\u001b[0;34m)\u001b[0m\u001b[0;34m\u001b[0m\u001b[0;34m\u001b[0m\u001b[0m\n",
       "\u001b[0;31mCall signature:\u001b[0m \u001b[0mL\u001b[0m\u001b[0;34m.\u001b[0m\u001b[0m__add__\u001b[0m\u001b[0;34m(\u001b[0m\u001b[0;34m*\u001b[0m\u001b[0margs\u001b[0m\u001b[0;34m,\u001b[0m \u001b[0;34m**\u001b[0m\u001b[0mkwargs\u001b[0m\u001b[0;34m)\u001b[0m\u001b[0;34m\u001b[0m\u001b[0;34m\u001b[0m\u001b[0m\n",
       "\u001b[0;31mType:\u001b[0m           method-wrapper\n",
       "\u001b[0;31mString form:\u001b[0m    <method-wrapper '__add__' of list object at 0x1062b86c0>\n",
       "\u001b[0;31mDocstring:\u001b[0m      Return self+value."
      ]
     },
     "metadata": {},
     "output_type": "display_data"
    }
   ],
   "source": [
    "L.__add__?"
   ]
  },
  {
   "cell_type": "code",
   "execution_count": null,
   "id": "86d9fe46-a1f0-425b-bc81-99cf8bd48e12",
   "metadata": {},
   "outputs": [],
   "source": [
    "from itertools import co<TAB>"
   ]
  },
  {
   "cell_type": "markdown",
   "id": "e5adb8a8-de22-472c-8f22-1370922d0302",
   "metadata": {},
   "source": [
    "you can use tab-completion to see which imports are available on your sys‐ tem "
   ]
  },
  {
   "cell_type": "code",
   "execution_count": null,
   "id": "8780fc14-d604-44e0-9817-781b40f48627",
   "metadata": {},
   "outputs": [],
   "source": [
    "import <TAB>"
   ]
  },
  {
   "cell_type": "code",
   "execution_count": null,
   "id": "290a551e-0101-4d09-99e1-d3b7c07446ad",
   "metadata": {},
   "outputs": [],
   "source": [
    "import h<TAB>"
   ]
  },
  {
   "cell_type": "markdown",
   "id": "9f11f7c3-f234-49b8-b215-47510575a327",
   "metadata": {},
   "source": [
    "'*' character matches any string, including the empty string."
   ]
  },
  {
   "cell_type": "code",
   "execution_count": 14,
   "id": "5f04a370-a622-4748-8195-0a7cc818c8cb",
   "metadata": {
    "tags": []
   },
   "outputs": [
    {
     "data": {
      "text/plain": [
       "BytesWarning\n",
       "DeprecationWarning\n",
       "EncodingWarning\n",
       "FutureWarning\n",
       "ImportWarning\n",
       "PendingDeprecationWarning\n",
       "ResourceWarning\n",
       "RuntimeWarning\n",
       "SyntaxWarning\n",
       "UnicodeWarning\n",
       "UserWarning\n",
       "Warning"
      ]
     },
     "metadata": {},
     "output_type": "display_data"
    }
   ],
   "source": [
    "*Warning?"
   ]
  },
  {
   "cell_type": "code",
   "execution_count": 16,
   "id": "e4c85d8e-96a6-4598-b7a2-1d863b7ab9de",
   "metadata": {
    "tags": []
   },
   "outputs": [
    {
     "data": {
      "text/plain": [
       "str.find\n",
       "str.rfind"
      ]
     },
     "metadata": {},
     "output_type": "display_data"
    }
   ],
   "source": [
    "str.*find*?"
   ]
  },
  {
   "cell_type": "code",
   "execution_count": 18,
   "id": "d2d2b5f2-b774-4929-993e-003133ab5394",
   "metadata": {
    "tags": []
   },
   "outputs": [
    {
     "data": {
      "text/plain": [
       "str.__add__"
      ]
     },
     "metadata": {},
     "output_type": "display_data"
    }
   ],
   "source": [
    "str.*add*?"
   ]
  },
  {
   "cell_type": "markdown",
   "id": "68bcc070-ffe7-4451-a74f-c35d7c32b4ab",
   "metadata": {},
   "source": [
    "Navigation Shortcuts"
   ]
  },
  {
   "cell_type": "markdown",
   "id": "2b541617-fbc1-4039-81a6-dcc985f4cb47",
   "metadata": {},
   "source": [
    "Ctrl-a : Move cursor to beginning of line\n",
    "\n",
    "Ctrl-e : Move cursor to end of the line\n",
    "\n",
    "Ctrl-b or the left arrow key : Move cursor back one character\n",
    "\n",
    "Ctrl-f or the right arrow key : Move cursor forward one character\n",
    "\n",
    "\n",
    "   "
   ]
  },
  {
   "cell_type": "markdown",
   "id": "322585bc-f752-43dc-a0cf-b4333cac8a01",
   "metadata": {},
   "source": [
    "Text Entry Shortcuts"
   ]
  },
  {
   "cell_type": "markdown",
   "id": "ba7a5ef9-bb35-4d1e-afe4-238962ff2067",
   "metadata": {},
   "source": [
    "Ctrl-d : Delete next character in line\n",
    "\n",
    "Ctrl-k : Cut text from cursor to end of line\n",
    "\n",
    "Ctrl-u : Cut text from beginning of line to cursor\n",
    "\n",
    "Ctrl-y : Yank (i.e., paste) text that was previously cut\n",
    "\n",
    "Ctrl-t : Transpose (i.e., switch) previous two characters"
   ]
  },
  {
   "cell_type": "markdown",
   "id": "878f0c9b-9fa1-4093-968f-fd7f8ec03a3a",
   "metadata": {},
   "source": [
    "Miscellaneous Shortcuts"
   ]
  },
  {
   "cell_type": "markdown",
   "id": "d81b28f4-846a-47b9-bb1a-d45e9a29871e",
   "metadata": {},
   "source": [
    "Ctrl-l : Clear terminal screen\n",
    "\n",
    "Ctrl-c : Interrupt current Python command \n",
    "\n",
    "Ctrl-d : Exit IPython session"
   ]
  },
  {
   "cell_type": "markdown",
   "id": "b35e9446-f23e-45b2-9da3-51229746cb5e",
   "metadata": {
    "jp-MarkdownHeadingCollapsed": true,
    "tags": []
   },
   "source": [
    "# IPython Magic Commands"
   ]
  },
  {
   "cell_type": "markdown",
   "id": "056ffa56-d8ba-422e-ae3e-2721b65d6d43",
   "metadata": {},
   "source": [
    "These magic commands are designed to succinctly solve various common problems in standard data analysis."
   ]
  },
  {
   "cell_type": "markdown",
   "id": "7fbd16be-8adc-444c-a887-99738a706948",
   "metadata": {},
   "source": [
    "Running External Code: %run"
   ]
  },
  {
   "cell_type": "markdown",
   "id": "e406e77d-265f-4e24-a899-c1f2d55d9645",
   "metadata": {},
   "source": [
    " created a myscript.py file"
   ]
  },
  {
   "cell_type": "code",
   "execution_count": 35,
   "id": "7439a3a5-fc80-44d2-bcfe-1fc33ec8c67a",
   "metadata": {
    "tags": []
   },
   "outputs": [
    {
     "name": "stdout",
     "output_type": "stream",
     "text": [
      "1 square is 1\n",
      "2 square is 4\n",
      "3 square is 9\n"
     ]
    }
   ],
   "source": [
    "%run /Users/rahulsingh/Desktop/python_book/myscript.py"
   ]
  },
  {
   "cell_type": "markdown",
   "id": "148a18b0-803b-48a7-b994-93b86e1b3fcf",
   "metadata": {},
   "source": [
    "Note also that after you’ve run this script, any functions defined within it are available for use in your IPython session:"
   ]
  },
  {
   "cell_type": "code",
   "execution_count": 36,
   "id": "820c1585-6d1a-4095-a857-cc482d09f375",
   "metadata": {
    "tags": []
   },
   "outputs": [
    {
     "data": {
      "text/plain": [
       "625"
      ]
     },
     "execution_count": 36,
     "metadata": {},
     "output_type": "execute_result"
    }
   ],
   "source": [
    "square(25)"
   ]
  },
  {
   "cell_type": "code",
   "execution_count": null,
   "id": "3ed27149-31ad-46f1-8841-c657ee063082",
   "metadata": {},
   "outputs": [],
   "source": [
    "%run?"
   ]
  },
  {
   "cell_type": "code",
   "execution_count": 30,
   "id": "7b706a22-d7d4-4184-a85b-b9e84319e70c",
   "metadata": {
    "tags": []
   },
   "outputs": [
    {
     "name": "stdout",
     "output_type": "stream",
     "text": [
      "47.4 µs ± 628 ns per loop (mean ± std. dev. of 7 runs, 10,000 loops each)\n"
     ]
    }
   ],
   "source": [
    "%timeit L = [n ** 2 for n in range(1000)]"
   ]
  },
  {
   "cell_type": "markdown",
   "id": "a95902ad-528e-4d78-aaf1-d6bb7cb2d4c1",
   "metadata": {},
   "source": [
    "For multiline statements, adding a second % sign will turn this into a cell magic that can handle multiple lines of input. For example, here’s the equivalent construction with a for loop:\n"
   ]
  },
  {
   "cell_type": "code",
   "execution_count": 31,
   "id": "b5b455e0-304e-43ff-9ef9-395a9b42c24b",
   "metadata": {
    "tags": []
   },
   "outputs": [
    {
     "name": "stdout",
     "output_type": "stream",
     "text": [
      "50.4 µs ± 370 ns per loop (mean ± std. dev. of 7 runs, 10,000 loops each)\n"
     ]
    }
   ],
   "source": [
    "%%timeit\n",
    "L = []\n",
    "for n in range(1000):\n",
    "    L.append(n ** 2)"
   ]
  },
  {
   "cell_type": "markdown",
   "id": "ac04a377-6423-46a5-91a6-a17884855889",
   "metadata": {},
   "source": [
    "We can immediately see that list comprehensions are about 10% faster than the equivalent for loop construction in this case. We’ll explore %timeit and other approaches to timing and profiling code"
   ]
  },
  {
   "cell_type": "code",
   "execution_count": 38,
   "id": "a8f00ac9-0abd-437f-92ca-a04417e2214c",
   "metadata": {
    "tags": []
   },
   "outputs": [
    {
     "data": {
      "application/json": {
       "cell": {
        "!": "OSMagics",
        "HTML": "Other",
        "SVG": "Other",
        "bash": "Other",
        "capture": "ExecutionMagics",
        "debug": "ExecutionMagics",
        "file": "Other",
        "html": "DisplayMagics",
        "javascript": "DisplayMagics",
        "js": "DisplayMagics",
        "latex": "DisplayMagics",
        "markdown": "DisplayMagics",
        "perl": "Other",
        "prun": "ExecutionMagics",
        "pypy": "Other",
        "python": "Other",
        "python2": "Other",
        "python3": "Other",
        "ruby": "Other",
        "script": "ScriptMagics",
        "sh": "Other",
        "svg": "DisplayMagics",
        "sx": "OSMagics",
        "system": "OSMagics",
        "time": "ExecutionMagics",
        "timeit": "ExecutionMagics",
        "writefile": "OSMagics"
       },
       "line": {
        "alias": "OSMagics",
        "alias_magic": "BasicMagics",
        "autoawait": "AsyncMagics",
        "autocall": "AutoMagics",
        "automagic": "AutoMagics",
        "autosave": "KernelMagics",
        "bookmark": "OSMagics",
        "cat": "Other",
        "cd": "OSMagics",
        "clear": "KernelMagics",
        "colors": "BasicMagics",
        "conda": "PackagingMagics",
        "config": "ConfigMagics",
        "connect_info": "KernelMagics",
        "cp": "Other",
        "debug": "ExecutionMagics",
        "dhist": "OSMagics",
        "dirs": "OSMagics",
        "doctest_mode": "BasicMagics",
        "ed": "Other",
        "edit": "KernelMagics",
        "env": "OSMagics",
        "gui": "BasicMagics",
        "hist": "Other",
        "history": "HistoryMagics",
        "killbgscripts": "ScriptMagics",
        "ldir": "Other",
        "less": "KernelMagics",
        "lf": "Other",
        "lk": "Other",
        "ll": "Other",
        "load": "CodeMagics",
        "load_ext": "ExtensionMagics",
        "loadpy": "CodeMagics",
        "logoff": "LoggingMagics",
        "logon": "LoggingMagics",
        "logstart": "LoggingMagics",
        "logstate": "LoggingMagics",
        "logstop": "LoggingMagics",
        "ls": "Other",
        "lsmagic": "BasicMagics",
        "lx": "Other",
        "macro": "ExecutionMagics",
        "magic": "BasicMagics",
        "man": "KernelMagics",
        "matplotlib": "PylabMagics",
        "mkdir": "Other",
        "more": "KernelMagics",
        "mv": "Other",
        "notebook": "BasicMagics",
        "page": "BasicMagics",
        "pastebin": "CodeMagics",
        "pdb": "ExecutionMagics",
        "pdef": "NamespaceMagics",
        "pdoc": "NamespaceMagics",
        "pfile": "NamespaceMagics",
        "pinfo": "NamespaceMagics",
        "pinfo2": "NamespaceMagics",
        "pip": "PackagingMagics",
        "popd": "OSMagics",
        "pprint": "BasicMagics",
        "precision": "BasicMagics",
        "prun": "ExecutionMagics",
        "psearch": "NamespaceMagics",
        "psource": "NamespaceMagics",
        "pushd": "OSMagics",
        "pwd": "OSMagics",
        "pycat": "OSMagics",
        "pylab": "PylabMagics",
        "qtconsole": "KernelMagics",
        "quickref": "BasicMagics",
        "recall": "HistoryMagics",
        "rehashx": "OSMagics",
        "reload_ext": "ExtensionMagics",
        "rep": "Other",
        "rerun": "HistoryMagics",
        "reset": "NamespaceMagics",
        "reset_selective": "NamespaceMagics",
        "rm": "Other",
        "rmdir": "Other",
        "run": "ExecutionMagics",
        "save": "CodeMagics",
        "sc": "OSMagics",
        "set_env": "OSMagics",
        "store": "StoreMagics",
        "sx": "OSMagics",
        "system": "OSMagics",
        "tb": "ExecutionMagics",
        "time": "ExecutionMagics",
        "timeit": "ExecutionMagics",
        "unalias": "OSMagics",
        "unload_ext": "ExtensionMagics",
        "who": "NamespaceMagics",
        "who_ls": "NamespaceMagics",
        "whos": "NamespaceMagics",
        "xdel": "NamespaceMagics",
        "xmode": "BasicMagics"
       }
      },
      "text/plain": [
       "Available line magics:\n",
       "%alias  %alias_magic  %autoawait  %autocall  %automagic  %autosave  %bookmark  %cat  %cd  %clear  %colors  %conda  %config  %connect_info  %cp  %debug  %dhist  %dirs  %doctest_mode  %ed  %edit  %env  %gui  %hist  %history  %killbgscripts  %ldir  %less  %lf  %lk  %ll  %load  %load_ext  %loadpy  %logoff  %logon  %logstart  %logstate  %logstop  %ls  %lsmagic  %lx  %macro  %magic  %man  %matplotlib  %mkdir  %more  %mv  %notebook  %page  %pastebin  %pdb  %pdef  %pdoc  %pfile  %pinfo  %pinfo2  %pip  %popd  %pprint  %precision  %prun  %psearch  %psource  %pushd  %pwd  %pycat  %pylab  %qtconsole  %quickref  %recall  %rehashx  %reload_ext  %rep  %rerun  %reset  %reset_selective  %rm  %rmdir  %run  %save  %sc  %set_env  %store  %sx  %system  %tb  %time  %timeit  %unalias  %unload_ext  %who  %who_ls  %whos  %xdel  %xmode\n",
       "\n",
       "Available cell magics:\n",
       "%%!  %%HTML  %%SVG  %%bash  %%capture  %%debug  %%file  %%html  %%javascript  %%js  %%latex  %%markdown  %%perl  %%prun  %%pypy  %%python  %%python2  %%python3  %%ruby  %%script  %%sh  %%svg  %%sx  %%system  %%time  %%timeit  %%writefile\n",
       "\n",
       "Automagic is ON, % prefix IS NOT needed for line magics."
      ]
     },
     "execution_count": 38,
     "metadata": {},
     "output_type": "execute_result"
    }
   ],
   "source": [
    "# %magic\n",
    "%lsmagic"
   ]
  },
  {
   "cell_type": "markdown",
   "id": "7ae27b7d-9064-4ac3-b25c-8bf67ba4ebb5",
   "metadata": {},
   "source": [
    "IPython’s In and Out Objects"
   ]
  },
  {
   "cell_type": "code",
   "execution_count": 40,
   "id": "c659665d-539f-4b91-be81-4d4eb301f4f0",
   "metadata": {
    "tags": []
   },
   "outputs": [],
   "source": [
    "import math"
   ]
  },
  {
   "cell_type": "code",
   "execution_count": 41,
   "id": "8b3c715e-a0b1-4994-8a7d-80b8e4e1fe37",
   "metadata": {
    "tags": []
   },
   "outputs": [
    {
     "data": {
      "text/plain": [
       "0.9092974268256817"
      ]
     },
     "execution_count": 41,
     "metadata": {},
     "output_type": "execute_result"
    }
   ],
   "source": [
    "math.sin(2)"
   ]
  },
  {
   "cell_type": "code",
   "execution_count": 42,
   "id": "393ff881-e843-473a-8c85-6f51cb92f032",
   "metadata": {
    "tags": []
   },
   "outputs": [
    {
     "data": {
      "text/plain": [
       "-0.4161468365471424"
      ]
     },
     "execution_count": 42,
     "metadata": {},
     "output_type": "execute_result"
    }
   ],
   "source": [
    "math.cos(2)"
   ]
  },
  {
   "cell_type": "markdown",
   "id": "15e97cd8-313c-4217-8985-ed3e7ff1a7dd",
   "metadata": {},
   "source": [
    "IPython actually creates some Python variables called In and Out that are automatically updated to reflect this history:"
   ]
  },
  {
   "cell_type": "code",
   "execution_count": 43,
   "id": "3ddc9022-bbfc-4206-90d1-58d6218f4a9f",
   "metadata": {
    "collapsed": true,
    "jupyter": {
     "outputs_hidden": true
    },
    "tags": []
   },
   "outputs": [
    {
     "data": {
      "text/plain": [
       "['',\n",
       " 'print(\"hello, world!\")',\n",
       " 'help(len)',\n",
       " \"get_ipython().run_line_magic('pinfo', 'len')\",\n",
       " 'L = [1,2,3]',\n",
       " \"get_ipython().run_line_magic('pinfo', 'L.insert')\",\n",
       " \"get_ipython().run_line_magic('pinfo', 'L')\",\n",
       " \"def square(a):\\n    ''' Return the square of a.'''\\n    return a ** 2 \",\n",
       " \"get_ipython().run_line_magic('pinfo', 'square')\",\n",
       " 'square(5)',\n",
       " \"get_ipython().run_line_magic('pinfo', 'square')\",\n",
       " \"get_ipython().run_line_magic('pinfo2', 'square')\",\n",
       " 'L.<TAB>',\n",
       " \"get_ipython().run_line_magic('pinfo', 'L.__add__')\",\n",
       " \"get_ipython().run_line_magic('psearch', '*Warning')\",\n",
       " \"get_ipython().run_line_magic('psearch', '*add')\",\n",
       " \"get_ipython().run_line_magic('psearch', 'str.*find*')\",\n",
       " \"get_ipython().run_line_magic('psearch', 'str.*add')\",\n",
       " \"get_ipython().run_line_magic('psearch', 'str.*add*')\",\n",
       " \"get_ipython().run_line_magic('psearch', 'str.*append')\",\n",
       " \"get_ipython().run_line_magic('psearch', 'str.*append*')\",\n",
       " \"get_ipython().run_line_magic('run', 'myscript.py')\",\n",
       " '# file: myscript.py\\n\\ndef square(x):\\n    \\'\\'\\'Square a number\\'\\'\\'\\n    return x ** 2\\n\\nfor N in range(1,4):\\n    print(f\"{N} square is {square(N)}\")',\n",
       " \"get_ipython().run_line_magic('run', 'myscript.py')\",\n",
       " \"get_ipython().run_line_magic('pinfo', '%run')\",\n",
       " \"get_ipython().run_line_magic('pinfo2', '%run')\",\n",
       " \"get_ipython().run_line_magic('run', '')\",\n",
       " 'get_ipython().run_line_magic(\\'run\\', \\'def square(x):\\')\\n    \\'\\'\\'Square a number\\'\\'\\'\\n    return x ** 2\\n\\nfor N in range(1,4):\\n    print(f\"{N} square is {square(N)}\")',\n",
       " 'get_ipython().run_line_magic(\\'run\\', \\'def square(x):\\')\\n        return x ** 2\\n\\nfor N in range(1,4):\\n    print(f\"{N} square is {square(N)}\")',\n",
       " \"get_ipython().run_line_magic('run', 'myscript.py')\",\n",
       " \"get_ipython().run_line_magic('timeit', 'L = [n ** 2 for n in range(1000)]')\",\n",
       " \"get_ipython().run_cell_magic('timeit', '', 'L = []\\\\nfor n in range(1000):\\\\n    L.append(n ** 2)\\\\n')\",\n",
       " 'get_ipython().show_usage()',\n",
       " \"get_ipython().run_line_magic('pinfo', '%run')\",\n",
       " 'get_ipython().run_line_magic(\\'run\\', \\'\"myscript.py\"\\')',\n",
       " \"get_ipython().run_line_magic('run', '/Users/rahulsingh/Desktop/python_book/myscript.py')\",\n",
       " 'square(25)',\n",
       " \"get_ipython().run_line_magic('magic', '')\",\n",
       " \"# %magic\\nget_ipython().run_line_magic('lsmagic', '')\",\n",
       " \"get_ipython().run_line_magic('pinfo', '%pdb')\",\n",
       " 'import math',\n",
       " 'math.sin(2)',\n",
       " 'math.cos(2)',\n",
       " 'In']"
      ]
     },
     "execution_count": 43,
     "metadata": {},
     "output_type": "execute_result"
    }
   ],
   "source": [
    "In"
   ]
  },
  {
   "cell_type": "code",
   "execution_count": 56,
   "id": "aa647e0a-1749-4083-9f0e-c0e6616d2b4a",
   "metadata": {
    "collapsed": true,
    "jupyter": {
     "outputs_hidden": true
    },
    "tags": []
   },
   "outputs": [
    {
     "data": {
      "text/plain": [
       "{9: 25,\n",
       " 36: 625,\n",
       " 38: Available line magics:\n",
       "%alias  %alias_magic  %autoawait  %autocall  %automagic  %autosave  %bookmark  %cat  %cd  %clear  %colors  %conda  %config  %connect_info  %cp  %debug  %dhist  %dirs  %doctest_mode  %ed  %edit  %env  %gui  %hist  %history  %killbgscripts  %ldir  %less  %lf  %lk  %ll  %load  %load_ext  %loadpy  %logoff  %logon  %logstart  %logstate  %logstop  %ls  %lsmagic  %lx  %macro  %magic  %man  %matplotlib  %mkdir  %more  %mv  %notebook  %page  %pastebin  %pdb  %pdef  %pdoc  %pfile  %pinfo  %pinfo2  %pip  %popd  %pprint  %precision  %prun  %psearch  %psource  %pushd  %pwd  %pycat  %pylab  %qtconsole  %quickref  %recall  %rehashx  %reload_ext  %rep  %rerun  %reset  %reset_selective  %rm  %rmdir  %run  %save  %sc  %set_env  %store  %sx  %system  %tb  %time  %timeit  %unalias  %unload_ext  %who  %who_ls  %whos  %xdel  %xmode\n",
       "\n",
       "Available cell magics:\n",
       "%%!  %%HTML  %%SVG  %%bash  %%capture  %%debug  %%file  %%html  %%javascript  %%js  %%latex  %%markdown  %%perl  %%prun  %%pypy  %%python  %%python2  %%python3  %%ruby  %%script  %%sh  %%svg  %%sx  %%system  %%time  %%timeit  %%writefile\n",
       "\n",
       "Automagic is ON, % prefix IS NOT needed for line magics.,\n",
       " 41: 0.9092974268256817,\n",
       " 42: -0.4161468365471424,\n",
       " 43: ['',\n",
       "  'print(\"hello, world!\")',\n",
       "  'help(len)',\n",
       "  \"get_ipython().run_line_magic('pinfo', 'len')\",\n",
       "  'L = [1,2,3]',\n",
       "  \"get_ipython().run_line_magic('pinfo', 'L.insert')\",\n",
       "  \"get_ipython().run_line_magic('pinfo', 'L')\",\n",
       "  \"def square(a):\\n    ''' Return the square of a.'''\\n    return a ** 2 \",\n",
       "  \"get_ipython().run_line_magic('pinfo', 'square')\",\n",
       "  'square(5)',\n",
       "  \"get_ipython().run_line_magic('pinfo', 'square')\",\n",
       "  \"get_ipython().run_line_magic('pinfo2', 'square')\",\n",
       "  'L.<TAB>',\n",
       "  \"get_ipython().run_line_magic('pinfo', 'L.__add__')\",\n",
       "  \"get_ipython().run_line_magic('psearch', '*Warning')\",\n",
       "  \"get_ipython().run_line_magic('psearch', '*add')\",\n",
       "  \"get_ipython().run_line_magic('psearch', 'str.*find*')\",\n",
       "  \"get_ipython().run_line_magic('psearch', 'str.*add')\",\n",
       "  \"get_ipython().run_line_magic('psearch', 'str.*add*')\",\n",
       "  \"get_ipython().run_line_magic('psearch', 'str.*append')\",\n",
       "  \"get_ipython().run_line_magic('psearch', 'str.*append*')\",\n",
       "  \"get_ipython().run_line_magic('run', 'myscript.py')\",\n",
       "  '# file: myscript.py\\n\\ndef square(x):\\n    \\'\\'\\'Square a number\\'\\'\\'\\n    return x ** 2\\n\\nfor N in range(1,4):\\n    print(f\"{N} square is {square(N)}\")',\n",
       "  \"get_ipython().run_line_magic('run', 'myscript.py')\",\n",
       "  \"get_ipython().run_line_magic('pinfo', '%run')\",\n",
       "  \"get_ipython().run_line_magic('pinfo2', '%run')\",\n",
       "  \"get_ipython().run_line_magic('run', '')\",\n",
       "  'get_ipython().run_line_magic(\\'run\\', \\'def square(x):\\')\\n    \\'\\'\\'Square a number\\'\\'\\'\\n    return x ** 2\\n\\nfor N in range(1,4):\\n    print(f\"{N} square is {square(N)}\")',\n",
       "  'get_ipython().run_line_magic(\\'run\\', \\'def square(x):\\')\\n        return x ** 2\\n\\nfor N in range(1,4):\\n    print(f\"{N} square is {square(N)}\")',\n",
       "  \"get_ipython().run_line_magic('run', 'myscript.py')\",\n",
       "  \"get_ipython().run_line_magic('timeit', 'L = [n ** 2 for n in range(1000)]')\",\n",
       "  \"get_ipython().run_cell_magic('timeit', '', 'L = []\\\\nfor n in range(1000):\\\\n    L.append(n ** 2)\\\\n')\",\n",
       "  'get_ipython().show_usage()',\n",
       "  \"get_ipython().run_line_magic('pinfo', '%run')\",\n",
       "  'get_ipython().run_line_magic(\\'run\\', \\'\"myscript.py\"\\')',\n",
       "  \"get_ipython().run_line_magic('run', '/Users/rahulsingh/Desktop/python_book/myscript.py')\",\n",
       "  'square(25)',\n",
       "  \"get_ipython().run_line_magic('magic', '')\",\n",
       "  \"# %magic\\nget_ipython().run_line_magic('lsmagic', '')\",\n",
       "  \"get_ipython().run_line_magic('pinfo', '%pdb')\",\n",
       "  'import math',\n",
       "  'math.sin(2)',\n",
       "  'math.cos(2)',\n",
       "  'In',\n",
       "  'Out',\n",
       "  'print(In[1])',\n",
       "  'print(Out[2])',\n",
       "  'print(Out[2])',\n",
       "  'print(Out[35])',\n",
       "  'print(Out[1])',\n",
       "  'print(Out[2])',\n",
       "  'print(Out[3])',\n",
       "  'print(In[1])',\n",
       "  'print(Out[1])',\n",
       "  'print(Out[90])',\n",
       "  'print(Out[100])',\n",
       "  'Out']}"
      ]
     },
     "execution_count": 56,
     "metadata": {},
     "output_type": "execute_result"
    }
   ],
   "source": [
    "Out"
   ]
  },
  {
   "cell_type": "markdown",
   "id": "17d85c9c-9268-4368-9f19-318de0e56aa1",
   "metadata": {
    "tags": []
   },
   "source": [
    "The In object is a list, which keeps track of the commands in order (the first item in the list is a placeholder so that In [1] can refer to the first command):"
   ]
  },
  {
   "cell_type": "code",
   "execution_count": 45,
   "id": "ef050897-8d44-4eef-a1ec-5bab3b06217c",
   "metadata": {
    "tags": []
   },
   "outputs": [
    {
     "name": "stdout",
     "output_type": "stream",
     "text": [
      "print(\"hello, world!\")\n"
     ]
    }
   ],
   "source": [
    "print(In[1])"
   ]
  },
  {
   "cell_type": "markdown",
   "id": "4d7482e1-3ff3-4709-8a1b-d83e46597a61",
   "metadata": {
    "tags": []
   },
   "source": [
    "The Out object is not a list but a dictionary mapping input numbers to their outputs (if any):"
   ]
  },
  {
   "cell_type": "code",
   "execution_count": 64,
   "id": "b5f62889-75b1-4cbe-a0a8-46000ec111bd",
   "metadata": {
    "tags": []
   },
   "outputs": [
    {
     "data": {
      "text/plain": [
       "0.9092974268256817"
      ]
     },
     "execution_count": 64,
     "metadata": {},
     "output_type": "execute_result"
    }
   ],
   "source": [
    "Out[41]"
   ]
  },
  {
   "cell_type": "code",
   "execution_count": 65,
   "id": "489fa138-e4df-46d4-b465-316737e38d33",
   "metadata": {
    "tags": []
   },
   "outputs": [
    {
     "data": {
      "text/plain": [
       "1.0"
      ]
     },
     "execution_count": 65,
     "metadata": {},
     "output_type": "execute_result"
    }
   ],
   "source": [
    "Out[41] ** 2 + Out[42] ** 2"
   ]
  },
  {
   "cell_type": "markdown",
   "id": "ba94b1de-96de-405a-b924-7d8518c8b954",
   "metadata": {},
   "source": [
    "Probably is not necessary, but it can become quite handy if you execute a very expensive computation and for"
   ]
  },
  {
   "cell_type": "markdown",
   "id": "d2678658-81c3-4326-8cf9-edca22e0849c",
   "metadata": {},
   "source": [
    "Underscore Shortcuts and Previous Outputs"
   ]
  },
  {
   "cell_type": "markdown",
   "id": "9fd7c8a6-3cd8-416a-9d79-022f62335c72",
   "metadata": {},
   "source": [
    "The standard Python shell contains just one simple shortcut for accessing previous output: the variable _ (i.e., a single underscore) is kept updated with the previous out‐ put. "
   ]
  },
  {
   "cell_type": "code",
   "execution_count": 66,
   "id": "7e7cc159-7f93-4e18-94bd-317867f41097",
   "metadata": {
    "tags": []
   },
   "outputs": [
    {
     "name": "stdout",
     "output_type": "stream",
     "text": [
      "1.0\n"
     ]
    }
   ],
   "source": [
    "print(_)"
   ]
  },
  {
   "cell_type": "markdown",
   "id": "3f56f966-88dd-4a06-a1e1-663a309d8c2b",
   "metadata": {},
   "source": [
    "you can use a double underscore to access the second-to-last output, and a triple underscore to access the third-to-last output (skip‐ ping any commands with no output):"
   ]
  },
  {
   "cell_type": "code",
   "execution_count": 71,
   "id": "b15ab62d-3efc-4152-a57b-a4c3a01f7975",
   "metadata": {
    "tags": []
   },
   "outputs": [
    {
     "name": "stdout",
     "output_type": "stream",
     "text": [
      "0.9092974268256817\n"
     ]
    }
   ],
   "source": [
    "print(__) # double underscore"
   ]
  },
  {
   "cell_type": "code",
   "execution_count": 72,
   "id": "08a598ac-d8ff-4087-b7bc-ed2db661d2e4",
   "metadata": {
    "collapsed": true,
    "jupyter": {
     "outputs_hidden": true
    },
    "tags": []
   },
   "outputs": [
    {
     "name": "stdout",
     "output_type": "stream",
     "text": [
      "['', 'print(\"hello, world!\")', 'help(len)', \"get_ipython().run_line_magic('pinfo', 'len')\", 'L = [1,2,3]', \"get_ipython().run_line_magic('pinfo', 'L.insert')\", \"get_ipython().run_line_magic('pinfo', 'L')\", \"def square(a):\\n    ''' Return the square of a.'''\\n    return a ** 2 \", \"get_ipython().run_line_magic('pinfo', 'square')\", 'square(5)', \"get_ipython().run_line_magic('pinfo', 'square')\", \"get_ipython().run_line_magic('pinfo2', 'square')\", 'L.<TAB>', \"get_ipython().run_line_magic('pinfo', 'L.__add__')\", \"get_ipython().run_line_magic('psearch', '*Warning')\", \"get_ipython().run_line_magic('psearch', '*add')\", \"get_ipython().run_line_magic('psearch', 'str.*find*')\", \"get_ipython().run_line_magic('psearch', 'str.*add')\", \"get_ipython().run_line_magic('psearch', 'str.*add*')\", \"get_ipython().run_line_magic('psearch', 'str.*append')\", \"get_ipython().run_line_magic('psearch', 'str.*append*')\", \"get_ipython().run_line_magic('run', 'myscript.py')\", '# file: myscript.py\\n\\ndef square(x):\\n    \\'\\'\\'Square a number\\'\\'\\'\\n    return x ** 2\\n\\nfor N in range(1,4):\\n    print(f\"{N} square is {square(N)}\")', \"get_ipython().run_line_magic('run', 'myscript.py')\", \"get_ipython().run_line_magic('pinfo', '%run')\", \"get_ipython().run_line_magic('pinfo2', '%run')\", \"get_ipython().run_line_magic('run', '')\", 'get_ipython().run_line_magic(\\'run\\', \\'def square(x):\\')\\n    \\'\\'\\'Square a number\\'\\'\\'\\n    return x ** 2\\n\\nfor N in range(1,4):\\n    print(f\"{N} square is {square(N)}\")', 'get_ipython().run_line_magic(\\'run\\', \\'def square(x):\\')\\n        return x ** 2\\n\\nfor N in range(1,4):\\n    print(f\"{N} square is {square(N)}\")', \"get_ipython().run_line_magic('run', 'myscript.py')\", \"get_ipython().run_line_magic('timeit', 'L = [n ** 2 for n in range(1000)]')\", \"get_ipython().run_cell_magic('timeit', '', 'L = []\\\\nfor n in range(1000):\\\\n    L.append(n ** 2)\\\\n')\", 'get_ipython().show_usage()', \"get_ipython().run_line_magic('pinfo', '%run')\", 'get_ipython().run_line_magic(\\'run\\', \\'\"myscript.py\"\\')', \"get_ipython().run_line_magic('run', '/Users/rahulsingh/Desktop/python_book/myscript.py')\", 'square(25)', \"get_ipython().run_line_magic('magic', '')\", \"# %magic\\nget_ipython().run_line_magic('lsmagic', '')\", \"get_ipython().run_line_magic('pinfo', '%pdb')\", 'import math', 'math.sin(2)', 'math.cos(2)', 'In', 'Out', 'print(In[1])', 'print(Out[2])', 'print(Out[2])', 'print(Out[35])', 'print(Out[1])', 'print(Out[2])', 'print(Out[3])', 'print(In[1])', 'print(Out[1])', 'print(Out[90])', 'print(Out[100])', 'Out', 'print(Out[66])', 'Out[66]', 'Out[1]', 'Out[Out.keys()]', 'Out[Out.key()]', 'Out[]', 'Out', 'Out[41]', 'Out[41] ** 2 + Out[42] ** 2', 'print(_)', 'print(__)', 'print(___)', 'print(____)', 'print(___)', 'print(__) # double underscore', 'print(___) # triple underscore']\n"
     ]
    }
   ],
   "source": [
    "print(___) # triple underscore"
   ]
  },
  {
   "cell_type": "markdown",
   "id": "0678780e-cf7b-41dd-b99a-f96c8a14d1a1",
   "metadata": {},
   "source": [
    "a single underscore followed by the line number"
   ]
  },
  {
   "cell_type": "code",
   "execution_count": 76,
   "id": "e38bd437-88de-4f9a-81d9-cb0ecf671234",
   "metadata": {
    "tags": []
   },
   "outputs": [
    {
     "data": {
      "text/plain": [
       "0.9092974268256817"
      ]
     },
     "execution_count": 76,
     "metadata": {},
     "output_type": "execute_result"
    }
   ],
   "source": [
    "Out[41]"
   ]
  },
  {
   "cell_type": "code",
   "execution_count": 77,
   "id": "6e01c9e1-59cb-45c9-adb1-ff199d3aa25a",
   "metadata": {
    "tags": []
   },
   "outputs": [
    {
     "data": {
      "text/plain": [
       "0.9092974268256817"
      ]
     },
     "execution_count": 77,
     "metadata": {},
     "output_type": "execute_result"
    }
   ],
   "source": [
    "_41"
   ]
  },
  {
   "cell_type": "markdown",
   "id": "cb370ab5-64a2-4876-98ef-2401f584ce63",
   "metadata": {},
   "source": [
    "Suppressing Output "
   ]
  },
  {
   "cell_type": "markdown",
   "id": "b3cecfa4-668b-4149-aba3-48e7aaef8247",
   "metadata": {},
   "source": [
    "Sometimes you might wish to suppress the output of a statement (this is perhaps most common with the plotting commands\n",
    "\n",
    "The easiest way to suppress the output of a command is to add a semicolon to the end of the line:"
   ]
  },
  {
   "cell_type": "code",
   "execution_count": 78,
   "id": "2c738fe7-6ee7-479a-a083-d3af9b9e4144",
   "metadata": {
    "tags": []
   },
   "outputs": [
    {
     "data": {
      "text/plain": [
       "0.4931505902785393"
      ]
     },
     "execution_count": 78,
     "metadata": {},
     "output_type": "execute_result"
    }
   ],
   "source": [
    "math.sin(2) + math.cos(2)"
   ]
  },
  {
   "cell_type": "code",
   "execution_count": 79,
   "id": "2c4c9ef1-bd98-4723-a8dd-a8b9c112249e",
   "metadata": {
    "tags": []
   },
   "outputs": [],
   "source": [
    "math.sin(2) + math.cos(2);"
   ]
  },
  {
   "cell_type": "markdown",
   "id": "206a12c7-5a4e-4a15-8268-a329a172abee",
   "metadata": {},
   "source": [
    "The result is computed silently, and the output is neither displayed on the screen nor\n",
    "stored in the Out dictionary:"
   ]
  },
  {
   "cell_type": "code",
   "execution_count": 80,
   "id": "d6b5762c-1bc9-40e0-9f18-6cfeca1e3323",
   "metadata": {
    "tags": []
   },
   "outputs": [
    {
     "data": {
      "text/plain": [
       "False"
      ]
     },
     "execution_count": 80,
     "metadata": {},
     "output_type": "execute_result"
    }
   ],
   "source": [
    "79 in Out"
   ]
  },
  {
   "cell_type": "markdown",
   "id": "c1afb0bc-cbac-49de-bf48-cb4dcdb0d0f0",
   "metadata": {},
   "source": [
    "Related Magic Commands\n",
    "\n",
    "For accessing a batch of previous inputs at once, the %history magic command is very helpful. "
   ]
  },
  {
   "cell_type": "code",
   "execution_count": 81,
   "id": "540f7dec-b8d3-481e-934c-d0ffa9839745",
   "metadata": {
    "tags": []
   },
   "outputs": [
    {
     "name": "stdout",
     "output_type": "stream",
     "text": [
      "   1: print(\"hello, world!\")\n",
      "   2: help(len)\n",
      "   3: len?\n"
     ]
    }
   ],
   "source": [
    "%history -n 1-3"
   ]
  },
  {
   "cell_type": "markdown",
   "id": "7a7ca414-95da-4bd1-b332-d9f9f90e8a17",
   "metadata": {},
   "source": [
    "## IPython and Shell Commands"
   ]
  },
  {
   "cell_type": "markdown",
   "id": "8bc30871-0f2d-4458-963e-712ef6263415",
   "metadata": {},
   "source": [
    "Syntax for executing shell commands directly from within the IPython terminal.\n",
    "\n",
    "The magic hap‐ pens with the exclamation point: anything appearing after ! on a line will be executed not by the Python kernel, but by the system command line."
   ]
  },
  {
   "cell_type": "code",
   "execution_count": 89,
   "id": "b4a5d103-8a54-44fc-9cdf-5b55a6dea9a6",
   "metadata": {
    "collapsed": true,
    "jupyter": {
     "outputs_hidden": true
    },
    "tags": []
   },
   "outputs": [
    {
     "name": "stdout",
     "output_type": "stream",
     "text": [
      "\u001b[34mApplications\u001b[m\u001b[m               \u001b[34mPublic\u001b[m\u001b[m\n",
      "\u001b[34mDesktop\u001b[m\u001b[m                    \u001b[34mai_overlay_tmp\u001b[m\u001b[m\n",
      "\u001b[34mDocuments\u001b[m\u001b[m                  \u001b[34manaconda3\u001b[m\u001b[m\n",
      "\u001b[34mDownloads\u001b[m\u001b[m                  convert_dicom_to_jpeg.py\n",
      "\u001b[34mLibrary\u001b[m\u001b[m                    convert_dicom_to_jpeg2.py\n",
      "\u001b[34mMovies\u001b[m\u001b[m                     \u001b[34mcrud-with-mongodb\u001b[m\u001b[m\n",
      "\u001b[34mMusic\u001b[m\u001b[m                      feature_extractor.py\n",
      "\u001b[35mOneDrive - Pace University\u001b[m\u001b[m features_reduction.ipynb\n",
      "\u001b[34mPictures\u001b[m\u001b[m                   \u001b[34mmy-new-app\u001b[m\u001b[m\n",
      "\u001b[34mPostman\u001b[m\u001b[m                    new_merged.csv\n",
      "\u001b[34mProjects\u001b[m\u001b[m\n"
     ]
    }
   ],
   "source": [
    "!ls"
   ]
  },
  {
   "cell_type": "code",
   "execution_count": 90,
   "id": "dd7ff0bc-fb1c-4f86-b5b3-3af7756ca718",
   "metadata": {
    "tags": []
   },
   "outputs": [
    {
     "name": "stdout",
     "output_type": "stream",
     "text": [
      "/Users/rahulsingh\n"
     ]
    }
   ],
   "source": [
    "!pwd"
   ]
  },
  {
   "cell_type": "code",
   "execution_count": 91,
   "id": "1a5e5170-0fcf-482c-9877-0d2cc9bd2922",
   "metadata": {
    "tags": []
   },
   "outputs": [
    {
     "name": "stdout",
     "output_type": "stream",
     "text": [
      "Printing from the shell\n"
     ]
    }
   ],
   "source": [
    "!echo \"Printing from the shell\""
   ]
  },
  {
   "cell_type": "code",
   "execution_count": 92,
   "id": "f3bcce33-6139-404d-ac26-8c7822f8fbc3",
   "metadata": {
    "tags": []
   },
   "outputs": [],
   "source": [
    "contents = !ls"
   ]
  },
  {
   "cell_type": "code",
   "execution_count": 93,
   "id": "a4a06ee9-adea-4f55-90e5-95a32c60146c",
   "metadata": {
    "tags": []
   },
   "outputs": [
    {
     "name": "stdout",
     "output_type": "stream",
     "text": [
      "['\\x1b[34mApplications\\x1b[m\\x1b[m', '\\x1b[34mDesktop\\x1b[m\\x1b[m', '\\x1b[34mDocuments\\x1b[m\\x1b[m', '\\x1b[34mDownloads\\x1b[m\\x1b[m', '\\x1b[34mLibrary\\x1b[m\\x1b[m', '\\x1b[34mMovies\\x1b[m\\x1b[m', '\\x1b[34mMusic\\x1b[m\\x1b[m', '\\x1b[35mOneDrive - Pace University\\x1b[m\\x1b[m', '\\x1b[34mPictures\\x1b[m\\x1b[m', '\\x1b[34mPostman\\x1b[m\\x1b[m', '\\x1b[34mProjects\\x1b[m\\x1b[m', '\\x1b[34mPublic\\x1b[m\\x1b[m', '\\x1b[34mai_overlay_tmp\\x1b[m\\x1b[m', '\\x1b[34manaconda3\\x1b[m\\x1b[m', 'convert_dicom_to_jpeg.py', 'convert_dicom_to_jpeg2.py', '\\x1b[34mcrud-with-mongodb\\x1b[m\\x1b[m', 'feature_extractor.py', 'features_reduction.ipynb', '\\x1b[34mmy-new-app\\x1b[m\\x1b[m', 'new_merged.csv']\n"
     ]
    }
   ],
   "source": [
    "print(contents)"
   ]
  },
  {
   "cell_type": "code",
   "execution_count": 94,
   "id": "ed8e5336-0988-41d3-8782-041e911e74f8",
   "metadata": {
    "tags": []
   },
   "outputs": [],
   "source": [
    "directory = !pwd"
   ]
  },
  {
   "cell_type": "code",
   "execution_count": 95,
   "id": "0816a1b9-76bf-40e3-9c47-7c51673a5d25",
   "metadata": {
    "tags": []
   },
   "outputs": [
    {
     "name": "stdout",
     "output_type": "stream",
     "text": [
      "['/Users/rahulsingh']\n"
     ]
    }
   ],
   "source": [
    "print(directory)"
   ]
  },
  {
   "cell_type": "markdown",
   "id": "9331cba1-ce2e-421a-bf4f-00f7b41f9d05",
   "metadata": {},
   "source": [
    "These results are not returned as lists, but as a special shell return type defined in IPython:"
   ]
  },
  {
   "cell_type": "code",
   "execution_count": 96,
   "id": "5f8d5366-a959-420a-bbbf-fb9f2a0873fc",
   "metadata": {
    "tags": []
   },
   "outputs": [
    {
     "data": {
      "text/plain": [
       "IPython.utils.text.SList"
      ]
     },
     "execution_count": 96,
     "metadata": {},
     "output_type": "execute_result"
    }
   ],
   "source": [
    "type(directory)"
   ]
  },
  {
   "cell_type": "code",
   "execution_count": 97,
   "id": "7459827f-d9d0-49bd-accb-8cb7a76fc943",
   "metadata": {
    "tags": []
   },
   "outputs": [],
   "source": [
    "message = \"Hello from Python\""
   ]
  },
  {
   "cell_type": "code",
   "execution_count": 98,
   "id": "aaf841e9-bc67-4349-96ae-7bdf1d79cc6c",
   "metadata": {
    "tags": []
   },
   "outputs": [
    {
     "name": "stdout",
     "output_type": "stream",
     "text": [
      "Hello from Python\n"
     ]
    }
   ],
   "source": [
    "!echo {message}"
   ]
  },
  {
   "cell_type": "markdown",
   "id": "59e8b846-f49e-4111-99eb-d6022047cf87",
   "metadata": {},
   "source": [
    "Shell-Related Magic Commands"
   ]
  },
  {
   "cell_type": "markdown",
   "id": "89943331-b47a-4c88-aad0-68b1a48dbd82",
   "metadata": {},
   "source": [
    "navigate the filesystem"
   ]
  },
  {
   "cell_type": "code",
   "execution_count": 99,
   "id": "64d6d823-c503-40dd-97a4-1992a181815c",
   "metadata": {
    "tags": []
   },
   "outputs": [
    {
     "name": "stdout",
     "output_type": "stream",
     "text": [
      "/Users/rahulsingh\n"
     ]
    }
   ],
   "source": [
    "!pwd"
   ]
  },
  {
   "cell_type": "code",
   "execution_count": 100,
   "id": "56941c16-4b7f-4d7d-86eb-ecdf806bf82e",
   "metadata": {
    "tags": []
   },
   "outputs": [],
   "source": [
    "!cd .."
   ]
  },
  {
   "cell_type": "code",
   "execution_count": 101,
   "id": "5d9969b8-5384-48c9-babc-2cc03680c0fa",
   "metadata": {
    "tags": []
   },
   "outputs": [
    {
     "name": "stdout",
     "output_type": "stream",
     "text": [
      "/Users/rahulsingh\n"
     ]
    }
   ],
   "source": [
    "!pwd"
   ]
  },
  {
   "cell_type": "markdown",
   "id": "a4e4c6c3-205a-4d0a-a10a-f641a111d0c0",
   "metadata": {},
   "source": [
    "If you’d like to change the working directory in a more enduring way, you can use the %cd magic command:\n"
   ]
  },
  {
   "cell_type": "code",
   "execution_count": 102,
   "id": "4a0a2a7c-1b2a-49a8-85ed-310dce7ae552",
   "metadata": {
    "tags": []
   },
   "outputs": [
    {
     "name": "stdout",
     "output_type": "stream",
     "text": [
      "/Users\n"
     ]
    }
   ],
   "source": [
    "%cd .."
   ]
  },
  {
   "cell_type": "code",
   "execution_count": 104,
   "id": "a5f931be-65ee-48d1-b0af-927578f4ca7d",
   "metadata": {
    "tags": []
   },
   "outputs": [
    {
     "name": "stdout",
     "output_type": "stream",
     "text": [
      "/Users/rahulsingh\n"
     ]
    }
   ],
   "source": [
    "cd rahulsingh"
   ]
  },
  {
   "cell_type": "markdown",
   "id": "fa7af34f-1288-45d0-ab63-8c52858263b9",
   "metadata": {},
   "source": [
    "Besides %cd, other available shell-like magic functions are %cat, %cp, %env, %ls, %man, %mkdir, %more, %mv, %pwd, %rm, and %rmdir, any of which can be used without the % sign if automagic is on."
   ]
  },
  {
   "cell_type": "code",
   "execution_count": null,
   "id": "b3f1954d-d280-4971-ae16-d4cad04c1239",
   "metadata": {},
   "outputs": [],
   "source": [
    "mkdir tmp"
   ]
  },
  {
   "cell_type": "code",
   "execution_count": 105,
   "id": "35d749a7-c11a-4c99-a7d0-86e00ec1a8ec",
   "metadata": {
    "tags": []
   },
   "outputs": [
    {
     "name": "stdout",
     "output_type": "stream",
     "text": [
      "\u001b[34mApplications\u001b[m\u001b[m/               \u001b[34mPublic\u001b[m\u001b[m/\n",
      "\u001b[34mDesktop\u001b[m\u001b[m/                    \u001b[34mai_overlay_tmp\u001b[m\u001b[m/\n",
      "\u001b[34mDocuments\u001b[m\u001b[m/                  \u001b[34manaconda3\u001b[m\u001b[m/\n",
      "\u001b[34mDownloads\u001b[m\u001b[m/                  convert_dicom_to_jpeg.py\n",
      "\u001b[34mLibrary\u001b[m\u001b[m/                    convert_dicom_to_jpeg2.py\n",
      "\u001b[34mMovies\u001b[m\u001b[m/                     \u001b[34mcrud-with-mongodb\u001b[m\u001b[m/\n",
      "\u001b[34mMusic\u001b[m\u001b[m/                      feature_extractor.py\n",
      "\u001b[35mOneDrive - Pace University\u001b[m\u001b[m@ features_reduction.ipynb\n",
      "\u001b[34mPictures\u001b[m\u001b[m/                   \u001b[34mmy-new-app\u001b[m\u001b[m/\n",
      "\u001b[34mPostman\u001b[m\u001b[m/                    new_merged.csv\n",
      "\u001b[34mProjects\u001b[m\u001b[m/\n"
     ]
    }
   ],
   "source": [
    "ls"
   ]
  },
  {
   "cell_type": "code",
   "execution_count": null,
   "id": "2482df56-febe-4c35-bf93-66117d3b3014",
   "metadata": {},
   "outputs": [],
   "source": [
    "cp myproject.txt tmp/"
   ]
  },
  {
   "cell_type": "code",
   "execution_count": null,
   "id": "82ada0bb-2519-47d2-80b7-73b2caa71d70",
   "metadata": {},
   "outputs": [],
   "source": [
    "ls tmp"
   ]
  },
  {
   "cell_type": "code",
   "execution_count": null,
   "id": "935114c3-b793-4194-93d2-60365e465b2b",
   "metadata": {},
   "outputs": [],
   "source": [
    " rm -r tmp"
   ]
  },
  {
   "cell_type": "markdown",
   "id": "71a4327f-f432-4d47-b311-57156439d5c7",
   "metadata": {},
   "source": [
    "# Debugging and Profiling"
   ]
  },
  {
   "cell_type": "code",
   "execution_count": null,
   "id": "fa954925-d62e-4e9d-994c-5213f8e358af",
   "metadata": {},
   "outputs": [],
   "source": []
  }
 ],
 "metadata": {
  "kernelspec": {
   "display_name": "Python 3 (ipykernel)",
   "language": "python",
   "name": "python3"
  },
  "language_info": {
   "codemirror_mode": {
    "name": "ipython",
    "version": 3
   },
   "file_extension": ".py",
   "mimetype": "text/x-python",
   "name": "python",
   "nbconvert_exporter": "python",
   "pygments_lexer": "ipython3",
   "version": "3.11.0"
  }
 },
 "nbformat": 4,
 "nbformat_minor": 5
}
