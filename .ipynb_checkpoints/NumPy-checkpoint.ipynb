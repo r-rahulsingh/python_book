{
 "cells": [
  {
   "cell_type": "markdown",
   "id": "4999987d-8b05-47cc-8154-34d3c58f9103",
   "metadata": {
    "jp-MarkdownHeadingCollapsed": true,
    "tags": []
   },
   "source": [
    "# Intro"
   ]
  },
  {
   "cell_type": "code",
   "execution_count": 1,
   "id": "048de8ee-674d-44df-be26-0d3fda617340",
   "metadata": {
    "tags": []
   },
   "outputs": [
    {
     "name": "stdout",
     "output_type": "stream",
     "text": [
      "/Users/rahulsingh/Desktop/python_book\n"
     ]
    }
   ],
   "source": [
    "!pwd"
   ]
  },
  {
   "cell_type": "code",
   "execution_count": 2,
   "id": "5a926acb-05b6-480f-9f94-6a7e8c906e81",
   "metadata": {
    "tags": []
   },
   "outputs": [
    {
     "name": "stdout",
     "output_type": "stream",
     "text": [
      "Jupyter.ipynb Notes.txt     NumPy.ipynb   hello.py      myscript.py\n"
     ]
    }
   ],
   "source": [
    "!ls"
   ]
  },
  {
   "cell_type": "markdown",
   "id": "b428b90e-9219-4ac3-bd78-459031b64635",
   "metadata": {},
   "source": [
    "images—particularly digital images can be thought of as simply two- dimensional arrays of numbers representing pixel brightness across the area.\n",
    "\n",
    "Sound clips can be thought of as one-dimensional arrays of intensity versus time.\n",
    "\n",
    "Text can be converted in various ways into numerical representations, such as binary digits representing the frequency of certain words or pairs of words. "
   ]
  },
  {
   "cell_type": "markdown",
   "id": "8f98fdd8-a099-48b4-8d5c-4ecb6bfd8083",
   "metadata": {},
   "source": [
    "NumPy (short for Numerical Python) provides an efficient interface to store and operate on dense data buffers.\n",
    "\n",
    "NumPy arrays are like Python’s built-in list type, but NumPy arrays provide much more efficient storage and data operations as the arrays grow larger in size."
   ]
  },
  {
   "cell_type": "code",
   "execution_count": 5,
   "id": "d5c531a0-394d-446c-b774-f32e5968fe5f",
   "metadata": {
    "tags": []
   },
   "outputs": [],
   "source": [
    "import numpy as np"
   ]
  },
  {
   "cell_type": "code",
   "execution_count": 6,
   "id": "08bb12e2-8460-4fe4-ae01-105da7697236",
   "metadata": {
    "tags": []
   },
   "outputs": [
    {
     "data": {
      "text/plain": [
       "'1.26.4'"
      ]
     },
     "execution_count": 6,
     "metadata": {},
     "output_type": "execute_result"
    }
   ],
   "source": [
    "np.__version__"
   ]
  },
  {
   "cell_type": "code",
   "execution_count": 7,
   "id": "a68ada0e-9250-429b-9768-2d5182c59179",
   "metadata": {
    "tags": []
   },
   "outputs": [
    {
     "data": {
      "text/plain": [
       "'np.__version__'"
      ]
     },
     "execution_count": 7,
     "metadata": {},
     "output_type": "execute_result"
    }
   ],
   "source": [
    "In[6]"
   ]
  },
  {
   "cell_type": "code",
   "execution_count": 8,
   "id": "63e878b3-889a-48ba-ac70-9172c8e85d1c",
   "metadata": {
    "tags": []
   },
   "outputs": [
    {
     "data": {
      "text/plain": [
       "'1.26.4'"
      ]
     },
     "execution_count": 8,
     "metadata": {},
     "output_type": "execute_result"
    }
   ],
   "source": [
    "Out[6]"
   ]
  },
  {
   "cell_type": "markdown",
   "id": "12b215ef-326f-4cfe-b50a-c4102c9f58f7",
   "metadata": {
    "jp-MarkdownHeadingCollapsed": true,
    "tags": []
   },
   "source": [
    "# Understanding Data Types in Python"
   ]
  },
  {
   "cell_type": "code",
   "execution_count": 9,
   "id": "47a6a62b-cc73-4d49-892b-b667693ad33e",
   "metadata": {
    "tags": []
   },
   "outputs": [],
   "source": [
    "L = list(range(10))"
   ]
  },
  {
   "cell_type": "code",
   "execution_count": 10,
   "id": "5893f39d-8f48-49ae-9a03-9edf135b4bef",
   "metadata": {
    "tags": []
   },
   "outputs": [
    {
     "data": {
      "text/plain": [
       "[0, 1, 2, 3, 4, 5, 6, 7, 8, 9]"
      ]
     },
     "execution_count": 10,
     "metadata": {},
     "output_type": "execute_result"
    }
   ],
   "source": [
    "L"
   ]
  },
  {
   "cell_type": "code",
   "execution_count": 11,
   "id": "dd86daf8-871d-484f-bd64-7e4f210a2382",
   "metadata": {
    "tags": []
   },
   "outputs": [
    {
     "data": {
      "text/plain": [
       "int"
      ]
     },
     "execution_count": 11,
     "metadata": {},
     "output_type": "execute_result"
    }
   ],
   "source": [
    "type(L[0])"
   ]
  },
  {
   "cell_type": "code",
   "execution_count": 12,
   "id": "efdb9881-f338-4caf-b8f3-d9566730ab04",
   "metadata": {
    "tags": []
   },
   "outputs": [
    {
     "data": {
      "text/plain": [
       "['0', '1', '2', '3', '4', '5', '6', '7', '8', '9']"
      ]
     },
     "execution_count": 12,
     "metadata": {},
     "output_type": "execute_result"
    }
   ],
   "source": [
    "L2 = [str(c) for c in L]\n",
    "L2"
   ]
  },
  {
   "cell_type": "code",
   "execution_count": 13,
   "id": "69a40c2d-ac6d-4b7b-8958-9c2555f52f7f",
   "metadata": {
    "tags": []
   },
   "outputs": [
    {
     "data": {
      "text/plain": [
       "str"
      ]
     },
     "execution_count": 13,
     "metadata": {},
     "output_type": "execute_result"
    }
   ],
   "source": [
    "type(L2[0])"
   ]
  },
  {
   "cell_type": "code",
   "execution_count": 14,
   "id": "ca61b821-0d45-4a44-9871-eb16a1d3017a",
   "metadata": {
    "tags": []
   },
   "outputs": [
    {
     "data": {
      "text/plain": [
       "[bool, str, float, int]"
      ]
     },
     "execution_count": 14,
     "metadata": {},
     "output_type": "execute_result"
    }
   ],
   "source": [
    "L3 = [True, \"2\", 3.0, 4]\n",
    "[type(item) for item in L3]"
   ]
  },
  {
   "cell_type": "code",
   "execution_count": 15,
   "id": "243861a7-3bb0-4b98-a861-57a8c26c1471",
   "metadata": {
    "tags": []
   },
   "outputs": [
    {
     "data": {
      "text/plain": [
       "array('i', [0, 1, 2, 3, 4, 5, 6, 7, 8, 9])"
      ]
     },
     "execution_count": 15,
     "metadata": {},
     "output_type": "execute_result"
    }
   ],
   "source": [
    "import array\n",
    "L = list(range(10))\n",
    "A = array.array('i',L)\n",
    "A"
   ]
  },
  {
   "cell_type": "markdown",
   "id": "71437e90-795d-4a3a-9661-0602256760d6",
   "metadata": {},
   "source": [
    "Here, 'i' is a type code indicating the contents are integers."
   ]
  },
  {
   "cell_type": "code",
   "execution_count": 16,
   "id": "6ac8562c-24ab-4188-8f70-f085ada09d56",
   "metadata": {
    "tags": []
   },
   "outputs": [
    {
     "data": {
      "text/plain": [
       "array([1, 2, 3, 4])"
      ]
     },
     "execution_count": 16,
     "metadata": {},
     "output_type": "execute_result"
    }
   ],
   "source": [
    "np.array([1,2,3,4])"
   ]
  },
  {
   "cell_type": "markdown",
   "id": "dd6c217f-612e-478e-877c-609e036eed94",
   "metadata": {},
   "source": [
    "Remember that unlike Python lists, NumPy arrays can only contain data of the same type. \n",
    "\n",
    "If the types do not match, NumPy will upcast them according to its type promo‐ tion rules; here, integers are upcast to floating point:"
   ]
  },
  {
   "cell_type": "code",
   "execution_count": 17,
   "id": "241198d9-745e-4fdd-be81-d0c9304a7315",
   "metadata": {
    "tags": []
   },
   "outputs": [
    {
     "data": {
      "text/plain": [
       "array([3.14, 4.  , 5.  , 6.  ])"
      ]
     },
     "execution_count": 17,
     "metadata": {},
     "output_type": "execute_result"
    }
   ],
   "source": [
    "np.array([3.14,4,5,6])"
   ]
  },
  {
   "cell_type": "markdown",
   "id": "c8b86e5e-0550-4240-80bf-b7be8d0b71da",
   "metadata": {},
   "source": [
    "If we want to explicitly set the data type of the resulting array, we can use the dtype keyword:"
   ]
  },
  {
   "cell_type": "code",
   "execution_count": 18,
   "id": "623bbaf8-fd06-43bc-9e80-80224a7d6f57",
   "metadata": {
    "tags": []
   },
   "outputs": [
    {
     "data": {
      "text/plain": [
       "array([1., 2., 3., 4.], dtype=float32)"
      ]
     },
     "execution_count": 18,
     "metadata": {},
     "output_type": "execute_result"
    }
   ],
   "source": [
    "np.array([1,2,3,4],dtype=np.float32)"
   ]
  },
  {
   "cell_type": "markdown",
   "id": "46526d06-1524-4f98-8232-186679f4422b",
   "metadata": {},
   "source": [
    "Finally, unlike Python lists, which are always one-dimensional sequences, NumPy arrays can be multidimensional."
   ]
  },
  {
   "cell_type": "code",
   "execution_count": 24,
   "id": "b4bfd53d-1d3d-49aa-b8bd-a4dac15d4306",
   "metadata": {
    "tags": []
   },
   "outputs": [
    {
     "data": {
      "text/plain": [
       "array([[2, 3, 4],\n",
       "       [4, 5, 6],\n",
       "       [6, 7, 8]])"
      ]
     },
     "execution_count": 24,
     "metadata": {},
     "output_type": "execute_result"
    }
   ],
   "source": [
    "np.array([range(i,i+3) for i in [2,4,6]])"
   ]
  },
  {
   "cell_type": "markdown",
   "id": "aba02c59-6c31-405e-89f5-4f1319d58a5c",
   "metadata": {},
   "source": [
    "Creating Arrays from Scratch"
   ]
  },
  {
   "cell_type": "code",
   "execution_count": 25,
   "id": "0313d54a-1228-42a7-b9cb-50173c4425bd",
   "metadata": {
    "tags": []
   },
   "outputs": [
    {
     "data": {
      "text/plain": [
       "array([0, 0, 0, 0, 0, 0, 0, 0, 0, 0])"
      ]
     },
     "execution_count": 25,
     "metadata": {},
     "output_type": "execute_result"
    }
   ],
   "source": [
    "# Create a length-10 integer array filled with 0s\n",
    "np.zeros(10,dtype=int)"
   ]
  },
  {
   "cell_type": "code",
   "execution_count": 27,
   "id": "cb471f48-8cfb-42d0-954e-eab766502f81",
   "metadata": {
    "tags": []
   },
   "outputs": [
    {
     "data": {
      "text/plain": [
       "array([[1., 1., 1., 1., 1.],\n",
       "       [1., 1., 1., 1., 1.],\n",
       "       [1., 1., 1., 1., 1.]])"
      ]
     },
     "execution_count": 27,
     "metadata": {},
     "output_type": "execute_result"
    }
   ],
   "source": [
    "# Create a 3x5 floating-point array filled with 1s\n",
    "np.ones((3,5),dtype=float)"
   ]
  },
  {
   "cell_type": "code",
   "execution_count": 28,
   "id": "12f10bc0-94fd-4e33-8462-e6a58f633147",
   "metadata": {
    "tags": []
   },
   "outputs": [
    {
     "data": {
      "text/plain": [
       "array([[3.14, 3.14, 3.14, 3.14, 3.14],\n",
       "       [3.14, 3.14, 3.14, 3.14, 3.14],\n",
       "       [3.14, 3.14, 3.14, 3.14, 3.14]])"
      ]
     },
     "execution_count": 28,
     "metadata": {},
     "output_type": "execute_result"
    }
   ],
   "source": [
    "# Create a 3x5 array filled with 3.14\n",
    "np.full((3,5),3.14)"
   ]
  },
  {
   "cell_type": "code",
   "execution_count": 29,
   "id": "c685adc5-4a8b-4c17-90fa-84b96e0e937e",
   "metadata": {
    "tags": []
   },
   "outputs": [
    {
     "data": {
      "text/plain": [
       "array([ 0,  2,  4,  6,  8, 10, 12, 14, 16, 18])"
      ]
     },
     "execution_count": 29,
     "metadata": {},
     "output_type": "execute_result"
    }
   ],
   "source": [
    "# Create an array filled with a linear sequence\n",
    "# starting at 0, ending at 20, stepping by 2\n",
    "# (this is similar to the built-in range function)\n",
    "np.arange(0,20,2)"
   ]
  },
  {
   "cell_type": "code",
   "execution_count": 30,
   "id": "7f8eedbc-3083-42f2-99e4-1b36d3236c68",
   "metadata": {
    "tags": []
   },
   "outputs": [
    {
     "data": {
      "text/plain": [
       "array([0.  , 0.25, 0.5 , 0.75, 1.  ])"
      ]
     },
     "execution_count": 30,
     "metadata": {},
     "output_type": "execute_result"
    }
   ],
   "source": [
    "# Create an array of five values evenly spaced between 0 and 1\n",
    "np.linspace(0,1,5)"
   ]
  },
  {
   "cell_type": "code",
   "execution_count": 33,
   "id": "ed382c54-b08e-4184-98d1-6d8b3695ac37",
   "metadata": {
    "tags": []
   },
   "outputs": [
    {
     "data": {
      "text/plain": [
       "array([[0.98581261, 0.10458764, 0.78748059],\n",
       "       [0.37019616, 0.14428973, 0.47215449],\n",
       "       [0.43975316, 0.51274027, 0.52396253]])"
      ]
     },
     "execution_count": 33,
     "metadata": {},
     "output_type": "execute_result"
    }
   ],
   "source": [
    "# Create a 3x3 array of uniformly distributed \\\n",
    "# pseudorandom values between 0 and 1\n",
    "np.random.random((3,3))"
   ]
  },
  {
   "cell_type": "code",
   "execution_count": 35,
   "id": "3886b434-72b3-412f-beae-87769a035d8e",
   "metadata": {
    "tags": []
   },
   "outputs": [
    {
     "data": {
      "text/plain": [
       "array([[-1.43137961, -0.31984503,  0.1385818 ],\n",
       "       [ 1.19654725, -0.29374762,  2.85815754],\n",
       "       [-0.85123982, -0.33820729, -0.4910674 ]])"
      ]
     },
     "execution_count": 35,
     "metadata": {},
     "output_type": "execute_result"
    }
   ],
   "source": [
    "# Create a 3x3 array of uniformly distributed \n",
    "# pseudorandom values between 0 and 1\n",
    "np.random.normal(0,1,(3,3))"
   ]
  },
  {
   "cell_type": "code",
   "execution_count": 36,
   "id": "4feee5a2-ad88-4b83-add0-47b57d8f8a9f",
   "metadata": {
    "tags": []
   },
   "outputs": [
    {
     "data": {
      "text/plain": [
       "array([[1, 9, 2],\n",
       "       [0, 3, 4],\n",
       "       [6, 2, 9]])"
      ]
     },
     "execution_count": 36,
     "metadata": {},
     "output_type": "execute_result"
    }
   ],
   "source": [
    "# Create a 3x3 array of pseudorandom integers in the interval [0, 10)\n",
    "np.random.randint(0,10,(3,3))"
   ]
  },
  {
   "cell_type": "code",
   "execution_count": 37,
   "id": "ea0245ea-2c34-4f06-9dfc-94c06f8c6a1b",
   "metadata": {
    "tags": []
   },
   "outputs": [
    {
     "data": {
      "text/plain": [
       "array([[1., 0., 0.],\n",
       "       [0., 1., 0.],\n",
       "       [0., 0., 1.]])"
      ]
     },
     "execution_count": 37,
     "metadata": {},
     "output_type": "execute_result"
    }
   ],
   "source": [
    "# Create a 3x3 identity matrix\n",
    "np.eye(3)"
   ]
  },
  {
   "cell_type": "code",
   "execution_count": 38,
   "id": "28c64e8c-c7a9-40c6-8c3e-10f5bd53b483",
   "metadata": {
    "tags": []
   },
   "outputs": [
    {
     "data": {
      "text/plain": [
       "array([1., 1., 1.])"
      ]
     },
     "execution_count": 38,
     "metadata": {},
     "output_type": "execute_result"
    }
   ],
   "source": [
    "# Create an uninitialized array of three integers; the values will be \n",
    "# whatever happens to already exist at that memory location\n",
    "np.empty(3)"
   ]
  },
  {
   "cell_type": "markdown",
   "id": "4e814273-b934-445a-bd89-455e33874b58",
   "metadata": {},
   "source": [
    "NumPy Standard Data Types"
   ]
  },
  {
   "cell_type": "code",
   "execution_count": 39,
   "id": "e7d82732-52ec-40f7-aa4c-a0511d398098",
   "metadata": {
    "tags": []
   },
   "outputs": [
    {
     "data": {
      "text/plain": [
       "array([0, 0, 0, 0, 0, 0, 0, 0, 0, 0], dtype=int16)"
      ]
     },
     "execution_count": 39,
     "metadata": {},
     "output_type": "execute_result"
    }
   ],
   "source": [
    "np.zeros(10, dtype='int16')"
   ]
  },
  {
   "cell_type": "code",
   "execution_count": 40,
   "id": "e2ff53b2-0709-4227-818c-b36c785cf496",
   "metadata": {
    "tags": []
   },
   "outputs": [
    {
     "data": {
      "text/plain": [
       "array([0, 0, 0, 0, 0, 0, 0, 0, 0, 0], dtype=int16)"
      ]
     },
     "execution_count": 40,
     "metadata": {},
     "output_type": "execute_result"
    }
   ],
   "source": [
    " np.zeros(10, dtype=np.int16)"
   ]
  },
  {
   "cell_type": "markdown",
   "id": "20ed4933-800b-49a1-b440-2b34ae6e7798",
   "metadata": {
    "jp-MarkdownHeadingCollapsed": true,
    "tags": []
   },
   "source": [
    "# The Basics of NumPy Arrays"
   ]
  },
  {
   "cell_type": "markdown",
   "id": "a74c3d12-f926-482d-be82-61185f5e12b3",
   "metadata": {},
   "source": [
    "Attributes of arrays\n",
    "\n",
    "Determining the size, shape, memory consumption, and data types of arrays"
   ]
  },
  {
   "cell_type": "code",
   "execution_count": 47,
   "id": "1b7f390b-7506-4716-8df1-d39a54191903",
   "metadata": {
    "tags": []
   },
   "outputs": [],
   "source": [
    "rng = np.random.default_rng(seed=1701) # seed for reproducibility\n",
    "\n",
    "x1 = rng.integers(10, size =6) # 1D array\n",
    "x2 = rng.integers(10, size =(3,4)) # 2D array\n",
    "x3 = rng.integers(10, size =(3,4,5)) # 3D array # 3 arrays, 4 rows in each array, 5 columns in each array"
   ]
  },
  {
   "cell_type": "code",
   "execution_count": 43,
   "id": "8fa41d46-ea11-4679-ac2b-c06ab8a9fd00",
   "metadata": {
    "tags": []
   },
   "outputs": [
    {
     "data": {
      "text/plain": [
       "array([9, 4, 0, 3, 8, 6])"
      ]
     },
     "execution_count": 43,
     "metadata": {},
     "output_type": "execute_result"
    }
   ],
   "source": [
    "x1"
   ]
  },
  {
   "cell_type": "code",
   "execution_count": 45,
   "id": "c9d9ccee-97cc-49c3-9b2e-6742f3d274b7",
   "metadata": {
    "tags": []
   },
   "outputs": [
    {
     "data": {
      "text/plain": [
       "array([[3, 1, 3, 7],\n",
       "       [4, 0, 2, 3],\n",
       "       [0, 0, 6, 9]])"
      ]
     },
     "execution_count": 45,
     "metadata": {},
     "output_type": "execute_result"
    }
   ],
   "source": [
    "x2"
   ]
  },
  {
   "cell_type": "code",
   "execution_count": 46,
   "id": "acb7ec70-c4fb-47dc-b34c-80bb5a1852e5",
   "metadata": {
    "collapsed": true,
    "jupyter": {
     "outputs_hidden": true
    },
    "tags": []
   },
   "outputs": [
    {
     "data": {
      "text/plain": [
       "array([[[4, 3, 5, 5, 0],\n",
       "        [8, 3, 5, 2, 2],\n",
       "        [1, 8, 8, 5, 3],\n",
       "        [0, 0, 8, 5, 8]],\n",
       "\n",
       "       [[5, 1, 6, 2, 3],\n",
       "        [1, 2, 5, 6, 2],\n",
       "        [5, 2, 7, 9, 3],\n",
       "        [5, 6, 0, 2, 0]],\n",
       "\n",
       "       [[2, 9, 4, 3, 9],\n",
       "        [9, 2, 2, 4, 0],\n",
       "        [0, 3, 0, 0, 2],\n",
       "        [3, 2, 7, 4, 7]]])"
      ]
     },
     "execution_count": 46,
     "metadata": {},
     "output_type": "execute_result"
    }
   ],
   "source": [
    "x3"
   ]
  },
  {
   "cell_type": "code",
   "execution_count": 49,
   "id": "7154e001-2e9b-43b6-8ffb-1c47a0cde33c",
   "metadata": {
    "tags": []
   },
   "outputs": [
    {
     "name": "stdout",
     "output_type": "stream",
     "text": [
      "x3 ndim:  3\n",
      "x3 shape:  (3, 4, 5)\n",
      "x3 size:  60\n",
      "dtype:  int64\n"
     ]
    }
   ],
   "source": [
    "print(\"x3 ndim: \", x3.ndim)\n",
    "print(\"x3 shape: \", x3.shape)\n",
    "print(\"x3 size: \", x3.size)\n",
    "print(\"dtype: \", x3.dtype)"
   ]
  },
  {
   "cell_type": "markdown",
   "id": "e0cfb64a-9fe9-4af5-a8c6-9df35f313942",
   "metadata": {},
   "source": [
    "Indexing of arrays\n",
    "\n",
    "Getting and setting the values of individual array elements"
   ]
  },
  {
   "cell_type": "code",
   "execution_count": 50,
   "id": "bafb402e-e8ae-4610-b5e0-25864700650f",
   "metadata": {
    "tags": []
   },
   "outputs": [
    {
     "data": {
      "text/plain": [
       "9"
      ]
     },
     "execution_count": 50,
     "metadata": {},
     "output_type": "execute_result"
    }
   ],
   "source": [
    "x1[0]"
   ]
  },
  {
   "cell_type": "code",
   "execution_count": 51,
   "id": "2fe19af4-36b1-4c26-a534-09ee453b26e5",
   "metadata": {
    "tags": []
   },
   "outputs": [
    {
     "data": {
      "text/plain": [
       "6"
      ]
     },
     "execution_count": 51,
     "metadata": {},
     "output_type": "execute_result"
    }
   ],
   "source": [
    "x1[-1]"
   ]
  },
  {
   "cell_type": "code",
   "execution_count": 52,
   "id": "fd36c64c-69b0-44ae-8e8f-d81bb426a687",
   "metadata": {
    "tags": []
   },
   "outputs": [
    {
     "data": {
      "text/plain": [
       "3"
      ]
     },
     "execution_count": 52,
     "metadata": {},
     "output_type": "execute_result"
    }
   ],
   "source": [
    "x2[0,0]"
   ]
  },
  {
   "cell_type": "code",
   "execution_count": 54,
   "id": "24b170c1-5a71-4a6a-826d-8da5e85fd9e4",
   "metadata": {
    "tags": []
   },
   "outputs": [
    {
     "data": {
      "text/plain": [
       "0"
      ]
     },
     "execution_count": 54,
     "metadata": {},
     "output_type": "execute_result"
    }
   ],
   "source": [
    "x2[2,0]"
   ]
  },
  {
   "cell_type": "code",
   "execution_count": 55,
   "id": "54d5904a-b3c1-41da-bf13-a413f4c37f04",
   "metadata": {
    "tags": []
   },
   "outputs": [
    {
     "data": {
      "text/plain": [
       "9"
      ]
     },
     "execution_count": 55,
     "metadata": {},
     "output_type": "execute_result"
    }
   ],
   "source": [
    "x2[2,3]"
   ]
  },
  {
   "cell_type": "code",
   "execution_count": 53,
   "id": "5e342e31-f6eb-46c9-bd45-0b1cb041c045",
   "metadata": {
    "tags": []
   },
   "outputs": [
    {
     "data": {
      "text/plain": [
       "9"
      ]
     },
     "execution_count": 53,
     "metadata": {},
     "output_type": "execute_result"
    }
   ],
   "source": [
    "x2[2,-1]"
   ]
  },
  {
   "cell_type": "markdown",
   "id": "82ba0689-2573-41f2-ada4-184a5abb5006",
   "metadata": {},
   "source": [
    "Values can also be modified using any of the preceding index notation:\n"
   ]
  },
  {
   "cell_type": "code",
   "execution_count": 56,
   "id": "aca85c4a-156a-4b37-b830-eee50719d4b0",
   "metadata": {
    "tags": []
   },
   "outputs": [
    {
     "data": {
      "text/plain": [
       "array([[12,  1,  3,  7],\n",
       "       [ 4,  0,  2,  3],\n",
       "       [ 0,  0,  6,  9]])"
      ]
     },
     "execution_count": 56,
     "metadata": {},
     "output_type": "execute_result"
    }
   ],
   "source": [
    "x2[0,0] = 12\n",
    "x2"
   ]
  },
  {
   "cell_type": "markdown",
   "id": "95729712-7fd2-4395-9943-daa8496c70ec",
   "metadata": {},
   "source": [
    "Keep in mind that, unlike Python lists, NumPy arrays have a fixed type. \n",
    "\n",
    "This means, for example, that if you attempt to insert a floating-point value into an integer array, the value will be silently truncated. \n",
    "\n",
    "Don’t be caught unaware by this behavior!"
   ]
  },
  {
   "cell_type": "code",
   "execution_count": 59,
   "id": "8e1538d8-4ad4-4a80-9438-99acf9c06e2b",
   "metadata": {
    "tags": []
   },
   "outputs": [
    {
     "name": "stdout",
     "output_type": "stream",
     "text": [
      "x1 = [9 4 0 3 8 6]\n"
     ]
    }
   ],
   "source": [
    "print(f\"x1 = {Out[43]}\")"
   ]
  },
  {
   "cell_type": "code",
   "execution_count": 62,
   "id": "183063ca-1d1e-4ece-b1d5-55ec8137fd13",
   "metadata": {
    "tags": []
   },
   "outputs": [
    {
     "name": "stdout",
     "output_type": "stream",
     "text": [
      "x1 updated = [3 4 0 3 8 6]\n"
     ]
    }
   ],
   "source": [
    "x1[0] = 3.14159 # this will be truncated!\n",
    "print(f\"x1 updated = {x1}\")"
   ]
  },
  {
   "cell_type": "markdown",
   "id": "662b9ed6-225a-4fed-890c-6263a7072115",
   "metadata": {},
   "source": [
    "Slicing of arrays\n",
    "\n",
    "Getting and setting smaller subarrays within a larger array\n",
    "\n",
    "x[start:stop:step]\n",
    "\n",
    "If any of these are unspecified, they default to the values start=0, stop=size of dimension, step=1."
   ]
  },
  {
   "cell_type": "code",
   "execution_count": 63,
   "id": "11a30a5b-e7fb-46cb-9349-06852c968a3c",
   "metadata": {
    "tags": []
   },
   "outputs": [
    {
     "data": {
      "text/plain": [
       "array([3, 4, 0, 3, 8, 6])"
      ]
     },
     "execution_count": 63,
     "metadata": {},
     "output_type": "execute_result"
    }
   ],
   "source": [
    "# 1D Subarrays\n",
    "\n",
    "x1"
   ]
  },
  {
   "cell_type": "code",
   "execution_count": 64,
   "id": "71c1abfd-7d50-423f-a000-f38b9615f7cd",
   "metadata": {
    "tags": []
   },
   "outputs": [
    {
     "data": {
      "text/plain": [
       "array([3, 4, 0])"
      ]
     },
     "execution_count": 64,
     "metadata": {},
     "output_type": "execute_result"
    }
   ],
   "source": [
    "x1[:3]"
   ]
  },
  {
   "cell_type": "code",
   "execution_count": 65,
   "id": "a40cf54f-a51a-4cd0-919e-02381fbd3878",
   "metadata": {
    "tags": []
   },
   "outputs": [
    {
     "data": {
      "text/plain": [
       "array([3, 8, 6])"
      ]
     },
     "execution_count": 65,
     "metadata": {},
     "output_type": "execute_result"
    }
   ],
   "source": [
    "x1[3:]"
   ]
  },
  {
   "cell_type": "code",
   "execution_count": 66,
   "id": "d0c71218-50e3-4d1e-8240-6a51bf6cec1a",
   "metadata": {
    "tags": []
   },
   "outputs": [
    {
     "data": {
      "text/plain": [
       "array([4, 0, 3])"
      ]
     },
     "execution_count": 66,
     "metadata": {},
     "output_type": "execute_result"
    }
   ],
   "source": [
    "x1[1:4]"
   ]
  },
  {
   "cell_type": "code",
   "execution_count": 67,
   "id": "7f184075-c766-4d06-8d76-9e30e8ac6f4a",
   "metadata": {
    "tags": []
   },
   "outputs": [
    {
     "data": {
      "text/plain": [
       "array([3, 0, 8])"
      ]
     },
     "execution_count": 67,
     "metadata": {},
     "output_type": "execute_result"
    }
   ],
   "source": [
    "x1[::2]"
   ]
  },
  {
   "cell_type": "code",
   "execution_count": 68,
   "id": "ad3f9b46-ba79-4053-8b96-5718356494df",
   "metadata": {
    "tags": []
   },
   "outputs": [
    {
     "data": {
      "text/plain": [
       "array([4, 3, 6])"
      ]
     },
     "execution_count": 68,
     "metadata": {},
     "output_type": "execute_result"
    }
   ],
   "source": [
    "x1[1::2]"
   ]
  },
  {
   "cell_type": "markdown",
   "id": "9bc428c7-c5bf-4baa-b701-2cfca1e7d7ab",
   "metadata": {
    "tags": []
   },
   "source": [
    "A potentially confusing case is when the step value is negative. \n",
    "\n",
    "In this case, the defaults for start and stop are swapped.\n",
    "\n",
    "This becomes a convenient way to reverse an array:"
   ]
  },
  {
   "cell_type": "code",
   "execution_count": 74,
   "id": "8696518b-f4eb-4517-9fc9-ab8633723d2d",
   "metadata": {
    "tags": []
   },
   "outputs": [
    {
     "data": {
      "text/plain": [
       "array([3, 4, 0, 3, 8, 6])"
      ]
     },
     "execution_count": 74,
     "metadata": {},
     "output_type": "execute_result"
    }
   ],
   "source": [
    "x1"
   ]
  },
  {
   "cell_type": "code",
   "execution_count": 77,
   "id": "35e35c32-a8e6-4b79-94d5-87c6bbad0ed7",
   "metadata": {
    "tags": []
   },
   "outputs": [
    {
     "data": {
      "text/plain": [
       "array([6, 8, 3, 0, 4, 3])"
      ]
     },
     "execution_count": 77,
     "metadata": {},
     "output_type": "execute_result"
    }
   ],
   "source": [
    "x1[::-1] #all elements, reversed"
   ]
  },
  {
   "cell_type": "code",
   "execution_count": 83,
   "id": "17cc154b-dd64-4313-a3b2-db49ddee1e33",
   "metadata": {
    "tags": []
   },
   "outputs": [
    {
     "data": {
      "text/plain": [
       "array([8, 0, 3])"
      ]
     },
     "execution_count": 83,
     "metadata": {},
     "output_type": "execute_result"
    }
   ],
   "source": [
    "x1[4::-2] # every second element from index 4, reversed"
   ]
  },
  {
   "cell_type": "code",
   "execution_count": 79,
   "id": "7800da70-0f61-4a74-b4d8-23c43dd35ad0",
   "metadata": {
    "tags": []
   },
   "outputs": [
    {
     "data": {
      "text/plain": [
       "array([0, 3])"
      ]
     },
     "execution_count": 79,
     "metadata": {},
     "output_type": "execute_result"
    }
   ],
   "source": [
    "x1[2::-2] # every second element from index 4, reversed"
   ]
  },
  {
   "cell_type": "markdown",
   "id": "5ca18f88-d193-4f3e-82f7-bfd5c4ea6a35",
   "metadata": {},
   "source": [
    "Multidimensional Subarrays"
   ]
  },
  {
   "cell_type": "code",
   "execution_count": 84,
   "id": "a2b3f8ec-aaf1-4858-8ba5-d7826c29b3fe",
   "metadata": {
    "tags": []
   },
   "outputs": [
    {
     "data": {
      "text/plain": [
       "array([[12,  1,  3,  7],\n",
       "       [ 4,  0,  2,  3],\n",
       "       [ 0,  0,  6,  9]])"
      ]
     },
     "execution_count": 84,
     "metadata": {},
     "output_type": "execute_result"
    }
   ],
   "source": [
    "x2"
   ]
  },
  {
   "cell_type": "code",
   "execution_count": 85,
   "id": "e40a4096-b621-4ea9-b439-9157708c0d4c",
   "metadata": {
    "tags": []
   },
   "outputs": [
    {
     "data": {
      "text/plain": [
       "array([[12,  1,  3],\n",
       "       [ 4,  0,  2]])"
      ]
     },
     "execution_count": 85,
     "metadata": {},
     "output_type": "execute_result"
    }
   ],
   "source": [
    "x2[:2,:3] #first two rows & three coloum"
   ]
  },
  {
   "cell_type": "code",
   "execution_count": 86,
   "id": "61e69d44-1b72-440c-89d3-4bb2bc2d5b0f",
   "metadata": {
    "tags": []
   },
   "outputs": [
    {
     "data": {
      "text/plain": [
       "array([[12,  3],\n",
       "       [ 4,  2],\n",
       "       [ 0,  6]])"
      ]
     },
     "execution_count": 86,
     "metadata": {},
     "output_type": "execute_result"
    }
   ],
   "source": [
    "x2[:3,::2] #three rows, every second column"
   ]
  },
  {
   "cell_type": "code",
   "execution_count": 88,
   "id": "244ddbd9-6d4f-4748-a81f-94bf6bdcf8ed",
   "metadata": {
    "tags": []
   },
   "outputs": [
    {
     "data": {
      "text/plain": [
       "array([[ 9,  6,  0,  0],\n",
       "       [ 3,  2,  0,  4],\n",
       "       [ 7,  3,  1, 12]])"
      ]
     },
     "execution_count": 88,
     "metadata": {},
     "output_type": "execute_result"
    }
   ],
   "source": [
    "x2[::-1,::-1] # all rows and columns reversed"
   ]
  },
  {
   "cell_type": "markdown",
   "id": "85b0f263-b621-427a-b0f1-b369e1e7f970",
   "metadata": {},
   "source": [
    "Accessing single rows or columns of an array. \n",
    "\n",
    "This can be done by combining indexing and slicing, using an empty slice marked by a single colon (:):"
   ]
  },
  {
   "cell_type": "code",
   "execution_count": 89,
   "id": "ec042331-464b-4b12-aedf-bac7ef5e20d6",
   "metadata": {
    "tags": []
   },
   "outputs": [
    {
     "data": {
      "text/plain": [
       "array([12,  4,  0])"
      ]
     },
     "execution_count": 89,
     "metadata": {},
     "output_type": "execute_result"
    }
   ],
   "source": [
    "x2[:,0] # first column of x2"
   ]
  },
  {
   "cell_type": "code",
   "execution_count": 90,
   "id": "99238c2b-1f00-4bcb-b15c-167536700a32",
   "metadata": {
    "tags": []
   },
   "outputs": [
    {
     "data": {
      "text/plain": [
       "array([12,  1,  3,  7])"
      ]
     },
     "execution_count": 90,
     "metadata": {},
     "output_type": "execute_result"
    }
   ],
   "source": [
    "x2[0,:] # first row of x2"
   ]
  },
  {
   "cell_type": "code",
   "execution_count": 91,
   "id": "f1b84eb8-37fd-4f06-aa3e-10c7c8181aff",
   "metadata": {
    "tags": []
   },
   "outputs": [
    {
     "data": {
      "text/plain": [
       "array([12,  1,  3,  7])"
      ]
     },
     "execution_count": 91,
     "metadata": {},
     "output_type": "execute_result"
    }
   ],
   "source": [
    "x2[0] # same as x2[0,:]"
   ]
  },
  {
   "cell_type": "markdown",
   "id": "0a56b03a-a94b-4dda-90d1-b2cab30d5667",
   "metadata": {},
   "source": [
    "Subarrays as No-Copy Views\n",
    "\n",
    "Unlike Python list slices, NumPy array slices are returned as views rather than copies of the array data. "
   ]
  },
  {
   "cell_type": "code",
   "execution_count": 92,
   "id": "d50dce05-cccf-4845-9600-45e524211019",
   "metadata": {
    "tags": []
   },
   "outputs": [
    {
     "data": {
      "text/plain": [
       "array([[12,  1,  3,  7],\n",
       "       [ 4,  0,  2,  3],\n",
       "       [ 0,  0,  6,  9]])"
      ]
     },
     "execution_count": 92,
     "metadata": {},
     "output_type": "execute_result"
    }
   ],
   "source": [
    "x2"
   ]
  },
  {
   "cell_type": "code",
   "execution_count": 94,
   "id": "bae5131a-fb6a-42f8-b2f4-32fae194b437",
   "metadata": {
    "tags": []
   },
   "outputs": [
    {
     "data": {
      "text/plain": [
       "array([[12,  1],\n",
       "       [ 4,  0]])"
      ]
     },
     "execution_count": 94,
     "metadata": {},
     "output_type": "execute_result"
    }
   ],
   "source": [
    "x2_sub = x2[:2,:2]\n",
    "x2_sub"
   ]
  },
  {
   "cell_type": "code",
   "execution_count": 95,
   "id": "5f72efa8-4332-40ab-a432-48cd7ac4709a",
   "metadata": {
    "tags": []
   },
   "outputs": [
    {
     "data": {
      "text/plain": [
       "array([[99,  1],\n",
       "       [ 4,  0]])"
      ]
     },
     "execution_count": 95,
     "metadata": {},
     "output_type": "execute_result"
    }
   ],
   "source": [
    "x2_sub[0,0] = 99\n",
    "x2_sub"
   ]
  },
  {
   "cell_type": "code",
   "execution_count": 96,
   "id": "1898c42c-874b-46dc-a977-796cdc35825f",
   "metadata": {
    "tags": []
   },
   "outputs": [
    {
     "data": {
      "text/plain": [
       "array([[99,  1,  3,  7],\n",
       "       [ 4,  0,  2,  3],\n",
       "       [ 0,  0,  6,  9]])"
      ]
     },
     "execution_count": 96,
     "metadata": {},
     "output_type": "execute_result"
    }
   ],
   "source": [
    "x2"
   ]
  },
  {
   "cell_type": "markdown",
   "id": "d44f60da-262a-415e-899d-0774736b5bb8",
   "metadata": {},
   "source": [
    "This is surprising but advantageous: \n",
    "\n",
    "For example, when working with large datasets, we can access and process pieces of these datasets without the need to copy the underlying data buffer."
   ]
  },
  {
   "cell_type": "markdown",
   "id": "bfc97d49-59a8-4359-93ce-f1043552a9d2",
   "metadata": {},
   "source": [
    "Creating Copies of Arrays"
   ]
  },
  {
   "cell_type": "code",
   "execution_count": 97,
   "id": "72c84e4c-244f-4939-9e43-8ad13e2e18d5",
   "metadata": {
    "tags": []
   },
   "outputs": [
    {
     "data": {
      "text/plain": [
       "array([[99,  1],\n",
       "       [ 4,  0]])"
      ]
     },
     "execution_count": 97,
     "metadata": {},
     "output_type": "execute_result"
    }
   ],
   "source": [
    "x2_sub_copy = x2[:2,:2].copy()\n",
    "x2_sub_copy"
   ]
  },
  {
   "cell_type": "markdown",
   "id": "b26a282d-6c54-4a41-8f9e-17c17855e96b",
   "metadata": {},
   "source": [
    "If we now modify this subarray, the original array is not touched:"
   ]
  },
  {
   "cell_type": "code",
   "execution_count": 98,
   "id": "46dfcfce-97d4-4b94-b2a1-1db803611ca0",
   "metadata": {
    "tags": []
   },
   "outputs": [
    {
     "data": {
      "text/plain": [
       "array([[42,  1],\n",
       "       [ 4,  0]])"
      ]
     },
     "execution_count": 98,
     "metadata": {},
     "output_type": "execute_result"
    }
   ],
   "source": [
    "x2_sub_copy[0,0] = 42\n",
    "x2_sub_copy"
   ]
  },
  {
   "cell_type": "code",
   "execution_count": 99,
   "id": "af6c1dbb-f31d-4897-85ac-f79fb36fe34a",
   "metadata": {
    "tags": []
   },
   "outputs": [
    {
     "data": {
      "text/plain": [
       "array([[99,  1,  3,  7],\n",
       "       [ 4,  0,  2,  3],\n",
       "       [ 0,  0,  6,  9]])"
      ]
     },
     "execution_count": 99,
     "metadata": {},
     "output_type": "execute_result"
    }
   ],
   "source": [
    "x2"
   ]
  },
  {
   "cell_type": "markdown",
   "id": "253309f8-b2af-4972-a02b-07a699819b93",
   "metadata": {},
   "source": [
    "Reshaping of arrays\n",
    "\n",
    "Changing the shape of a given array"
   ]
  },
  {
   "cell_type": "code",
   "execution_count": 100,
   "id": "fbcde0fa-1ff0-4379-b6a5-96693ff37c9e",
   "metadata": {
    "tags": []
   },
   "outputs": [
    {
     "data": {
      "text/plain": [
       "array([1, 2, 3, 4, 5, 6, 7, 8, 9])"
      ]
     },
     "execution_count": 100,
     "metadata": {},
     "output_type": "execute_result"
    }
   ],
   "source": [
    "grid = np.arange(1,10)\n",
    "grid"
   ]
  },
  {
   "cell_type": "code",
   "execution_count": 101,
   "id": "7c42bcca-9ac1-4ffd-882f-b56dc33ee55e",
   "metadata": {
    "tags": []
   },
   "outputs": [
    {
     "data": {
      "text/plain": [
       "array([[1, 2, 3],\n",
       "       [4, 5, 6],\n",
       "       [7, 8, 9]])"
      ]
     },
     "execution_count": 101,
     "metadata": {},
     "output_type": "execute_result"
    }
   ],
   "source": [
    "grid.reshape(3,3)"
   ]
  },
  {
   "cell_type": "markdown",
   "id": "7abd07e9-707d-4dae-9903-b0e72fc91a26",
   "metadata": {},
   "source": [
    "Note that for this to work, the size of the initial array must match the size of the reshaped array"
   ]
  },
  {
   "cell_type": "code",
   "execution_count": 106,
   "id": "5a7e3f4d-148b-4ac2-9282-3fba8b49f48d",
   "metadata": {
    "tags": []
   },
   "outputs": [
    {
     "data": {
      "text/plain": [
       "array([[1, 2, 3]])"
      ]
     },
     "execution_count": 106,
     "metadata": {},
     "output_type": "execute_result"
    }
   ],
   "source": [
    "x = np.array([1,2,3])\n",
    "x.reshape((1,3)) # row vector via reshape"
   ]
  },
  {
   "cell_type": "code",
   "execution_count": 107,
   "id": "370f1b32-649f-4aab-84d3-8c641ead61c5",
   "metadata": {
    "tags": []
   },
   "outputs": [
    {
     "data": {
      "text/plain": [
       "array([[1],\n",
       "       [2],\n",
       "       [3]])"
      ]
     },
     "execution_count": 107,
     "metadata": {},
     "output_type": "execute_result"
    }
   ],
   "source": [
    "x.reshape((3, 1)) # column vector via reshape"
   ]
  },
  {
   "cell_type": "code",
   "execution_count": 108,
   "id": "b708ff74-f59c-47ef-9c99-b7d6bf59d015",
   "metadata": {
    "tags": []
   },
   "outputs": [
    {
     "data": {
      "text/plain": [
       "array([[1, 2, 3]])"
      ]
     },
     "execution_count": 108,
     "metadata": {},
     "output_type": "execute_result"
    }
   ],
   "source": [
    "x[np.newaxis, :] # row vector via newaxis"
   ]
  },
  {
   "cell_type": "code",
   "execution_count": 109,
   "id": "da5794e1-1ae7-4be2-b119-153bca8823c5",
   "metadata": {
    "tags": []
   },
   "outputs": [
    {
     "data": {
      "text/plain": [
       "array([[1],\n",
       "       [2],\n",
       "       [3]])"
      ]
     },
     "execution_count": 109,
     "metadata": {},
     "output_type": "execute_result"
    }
   ],
   "source": [
    "x[:, np.newaxis] # column vector via newaxis"
   ]
  },
  {
   "cell_type": "markdown",
   "id": "daae8506-c4d0-4d72-930c-2d1faa4c2396",
   "metadata": {},
   "source": [
    "Concatenation of Arrays"
   ]
  },
  {
   "cell_type": "code",
   "execution_count": 115,
   "id": "161e80c1-e1cd-4c0c-ac67-b8a5cb26cf90",
   "metadata": {
    "tags": []
   },
   "outputs": [
    {
     "data": {
      "text/plain": [
       "array([1, 2, 3, 3, 2, 1])"
      ]
     },
     "execution_count": 115,
     "metadata": {},
     "output_type": "execute_result"
    }
   ],
   "source": [
    "x = np.array([1,2,3])\n",
    "y = np.array([3,2,1])\n",
    "np.concatenate([x,y])"
   ]
  },
  {
   "cell_type": "code",
   "execution_count": 116,
   "id": "dc7c3162-a1af-4ab3-92b9-5c8b3d4423ad",
   "metadata": {
    "tags": []
   },
   "outputs": [
    {
     "data": {
      "text/plain": [
       "array([ 1,  2,  3,  3,  2,  1, 99, 99, 23])"
      ]
     },
     "execution_count": 116,
     "metadata": {},
     "output_type": "execute_result"
    }
   ],
   "source": [
    "z = np.array([99,99,23])\n",
    "np.concatenate([x,y,z])"
   ]
  },
  {
   "cell_type": "code",
   "execution_count": 117,
   "id": "0684c0bf-08af-4ace-94a9-86495b504c82",
   "metadata": {
    "tags": []
   },
   "outputs": [],
   "source": [
    "grid = np.array([[1,2,3],[4,5,6]])"
   ]
  },
  {
   "cell_type": "code",
   "execution_count": 118,
   "id": "ee868d58-cd96-416b-be18-718493222504",
   "metadata": {
    "tags": []
   },
   "outputs": [
    {
     "data": {
      "text/plain": [
       "array([[1, 2, 3],\n",
       "       [4, 5, 6],\n",
       "       [1, 2, 3],\n",
       "       [4, 5, 6]])"
      ]
     },
     "execution_count": 118,
     "metadata": {},
     "output_type": "execute_result"
    }
   ],
   "source": [
    "np.concatenate([grid,grid])"
   ]
  },
  {
   "cell_type": "code",
   "execution_count": 119,
   "id": "6f1624c5-802e-4113-b2d6-cb6dc24b8537",
   "metadata": {
    "tags": []
   },
   "outputs": [
    {
     "data": {
      "text/plain": [
       "array([[1, 2, 3, 1, 2, 3],\n",
       "       [4, 5, 6, 4, 5, 6]])"
      ]
     },
     "execution_count": 119,
     "metadata": {},
     "output_type": "execute_result"
    }
   ],
   "source": [
    "# concatenate along the second axis (zero-indexed)\n",
    "np.concatenate([grid, grid], axis=1)"
   ]
  },
  {
   "cell_type": "markdown",
   "id": "138a3c17-3860-4dbe-a0fd-d2cc2c4dc73f",
   "metadata": {},
   "source": [
    "use the np.vstack (vertical stack) and np.hstack (horizontal stack) functions:"
   ]
  },
  {
   "cell_type": "code",
   "execution_count": 120,
   "id": "d6fe7910-b2d3-4bfd-9a0b-080fcfd2e54f",
   "metadata": {
    "tags": []
   },
   "outputs": [
    {
     "data": {
      "text/plain": [
       "array([[1, 2, 3],\n",
       "       [1, 2, 3],\n",
       "       [4, 5, 6]])"
      ]
     },
     "execution_count": 120,
     "metadata": {},
     "output_type": "execute_result"
    }
   ],
   "source": [
    "# vertically stack the arrays\n",
    "np.vstack([x, grid])"
   ]
  },
  {
   "cell_type": "code",
   "execution_count": 121,
   "id": "3006e1d9-dadb-4040-9f3a-75296c27becd",
   "metadata": {
    "tags": []
   },
   "outputs": [
    {
     "data": {
      "text/plain": [
       "array([[ 1,  2,  3, 99],\n",
       "       [ 4,  5,  6, 99]])"
      ]
     },
     "execution_count": 121,
     "metadata": {},
     "output_type": "execute_result"
    }
   ],
   "source": [
    "# horizontally stack the arrays \n",
    "y = np.array([[99],\n",
    "             [99]])\n",
    "np.hstack([grid, y])"
   ]
  },
  {
   "cell_type": "markdown",
   "id": "f6f12dd2-fc48-447c-8537-e8e6a124364b",
   "metadata": {},
   "source": [
    "For higher-dimensional arrays, np.dstack will stack arrays along the third axis."
   ]
  },
  {
   "cell_type": "markdown",
   "id": "fd1f3839-cd37-4f4f-86c5-a60b11120088",
   "metadata": {},
   "source": [
    "Joining and splitting of arrays\n",
    "\n",
    "Combining multiple arrays into one, and splitting one array into many"
   ]
  },
  {
   "cell_type": "markdown",
   "id": "3703f773-bc84-42ec-bd9a-f45a7157d2f4",
   "metadata": {},
   "source": [
    "The opposite of concatenation is splitting, which is implemented by the functions np.split, np.hsplit, and np.vsplit. \n",
    "\n",
    "For each of these, we can pass a list of indices giving the split points."
   ]
  },
  {
   "cell_type": "code",
   "execution_count": 125,
   "id": "54a2aae4-9b0a-4113-96e3-58efbdf37a23",
   "metadata": {
    "tags": []
   },
   "outputs": [
    {
     "name": "stdout",
     "output_type": "stream",
     "text": [
      "[1 2 3] [99 99] [3 2 1]\n"
     ]
    }
   ],
   "source": [
    "x = [1, 2, 3, 99, 99, 3, 2, 1]\n",
    "x1, x2, x3 = np.split(x, [3, 5])\n",
    "print(x1,x2,x3)"
   ]
  },
  {
   "cell_type": "markdown",
   "id": "efe50f1f-34fd-4a53-a5bd-74a2c3c3d720",
   "metadata": {},
   "source": [
    "In this case, x is split into three parts using the positions [3, 5]. Here's how it works:\n",
    "\n",
    "x1: The elements from the beginning up to the index 3 are taken. So, x1 contains [1, 2, 3].\n",
    "\n",
    "x2: The elements from index 3 to index 5 (exclusive) are taken. So, x2 contains [99, 99].\n",
    "\n",
    "x3: The elements from index 5 to the end are taken. So, x3 contains [3, 2, 1]"
   ]
  },
  {
   "cell_type": "code",
   "execution_count": 127,
   "id": "7521b2d0-7d90-48e6-b804-ce3fa2b39bb1",
   "metadata": {
    "collapsed": true,
    "jupyter": {
     "outputs_hidden": true
    },
    "tags": []
   },
   "outputs": [
    {
     "data": {
      "text/plain": [
       "\u001b[0;31mSignature:\u001b[0m       \u001b[0mnp\u001b[0m\u001b[0;34m.\u001b[0m\u001b[0msplit\u001b[0m\u001b[0;34m(\u001b[0m\u001b[0mary\u001b[0m\u001b[0;34m,\u001b[0m \u001b[0mindices_or_sections\u001b[0m\u001b[0;34m,\u001b[0m \u001b[0maxis\u001b[0m\u001b[0;34m=\u001b[0m\u001b[0;36m0\u001b[0m\u001b[0;34m)\u001b[0m\u001b[0;34m\u001b[0m\u001b[0;34m\u001b[0m\u001b[0m\n",
       "\u001b[0;31mCall signature:\u001b[0m  \u001b[0mnp\u001b[0m\u001b[0;34m.\u001b[0m\u001b[0msplit\u001b[0m\u001b[0;34m(\u001b[0m\u001b[0;34m*\u001b[0m\u001b[0margs\u001b[0m\u001b[0;34m,\u001b[0m \u001b[0;34m**\u001b[0m\u001b[0mkwargs\u001b[0m\u001b[0;34m)\u001b[0m\u001b[0;34m\u001b[0m\u001b[0;34m\u001b[0m\u001b[0m\n",
       "\u001b[0;31mType:\u001b[0m            _ArrayFunctionDispatcher\n",
       "\u001b[0;31mString form:\u001b[0m     <function split at 0x106b4afc0>\n",
       "\u001b[0;31mFile:\u001b[0m            ~/anaconda3/lib/python3.11/site-packages/numpy/lib/shape_base.py\n",
       "\u001b[0;31mSource:\u001b[0m         \n",
       "\u001b[0;34m@\u001b[0m\u001b[0marray_function_dispatch\u001b[0m\u001b[0;34m(\u001b[0m\u001b[0m_split_dispatcher\u001b[0m\u001b[0;34m)\u001b[0m\u001b[0;34m\u001b[0m\n",
       "\u001b[0;34m\u001b[0m\u001b[0;32mdef\u001b[0m \u001b[0msplit\u001b[0m\u001b[0;34m(\u001b[0m\u001b[0mary\u001b[0m\u001b[0;34m,\u001b[0m \u001b[0mindices_or_sections\u001b[0m\u001b[0;34m,\u001b[0m \u001b[0maxis\u001b[0m\u001b[0;34m=\u001b[0m\u001b[0;36m0\u001b[0m\u001b[0;34m)\u001b[0m\u001b[0;34m:\u001b[0m\u001b[0;34m\u001b[0m\n",
       "\u001b[0;34m\u001b[0m    \u001b[0;34m\"\"\"\u001b[0m\n",
       "\u001b[0;34m    Split an array into multiple sub-arrays as views into `ary`.\u001b[0m\n",
       "\u001b[0;34m\u001b[0m\n",
       "\u001b[0;34m    Parameters\u001b[0m\n",
       "\u001b[0;34m    ----------\u001b[0m\n",
       "\u001b[0;34m    ary : ndarray\u001b[0m\n",
       "\u001b[0;34m        Array to be divided into sub-arrays.\u001b[0m\n",
       "\u001b[0;34m    indices_or_sections : int or 1-D array\u001b[0m\n",
       "\u001b[0;34m        If `indices_or_sections` is an integer, N, the array will be divided\u001b[0m\n",
       "\u001b[0;34m        into N equal arrays along `axis`.  If such a split is not possible,\u001b[0m\n",
       "\u001b[0;34m        an error is raised.\u001b[0m\n",
       "\u001b[0;34m\u001b[0m\n",
       "\u001b[0;34m        If `indices_or_sections` is a 1-D array of sorted integers, the entries\u001b[0m\n",
       "\u001b[0;34m        indicate where along `axis` the array is split.  For example,\u001b[0m\n",
       "\u001b[0;34m        ``[2, 3]`` would, for ``axis=0``, result in\u001b[0m\n",
       "\u001b[0;34m\u001b[0m\n",
       "\u001b[0;34m          - ary[:2]\u001b[0m\n",
       "\u001b[0;34m          - ary[2:3]\u001b[0m\n",
       "\u001b[0;34m          - ary[3:]\u001b[0m\n",
       "\u001b[0;34m\u001b[0m\n",
       "\u001b[0;34m        If an index exceeds the dimension of the array along `axis`,\u001b[0m\n",
       "\u001b[0;34m        an empty sub-array is returned correspondingly.\u001b[0m\n",
       "\u001b[0;34m    axis : int, optional\u001b[0m\n",
       "\u001b[0;34m        The axis along which to split, default is 0.\u001b[0m\n",
       "\u001b[0;34m\u001b[0m\n",
       "\u001b[0;34m    Returns\u001b[0m\n",
       "\u001b[0;34m    -------\u001b[0m\n",
       "\u001b[0;34m    sub-arrays : list of ndarrays\u001b[0m\n",
       "\u001b[0;34m        A list of sub-arrays as views into `ary`.\u001b[0m\n",
       "\u001b[0;34m\u001b[0m\n",
       "\u001b[0;34m    Raises\u001b[0m\n",
       "\u001b[0;34m    ------\u001b[0m\n",
       "\u001b[0;34m    ValueError\u001b[0m\n",
       "\u001b[0;34m        If `indices_or_sections` is given as an integer, but\u001b[0m\n",
       "\u001b[0;34m        a split does not result in equal division.\u001b[0m\n",
       "\u001b[0;34m\u001b[0m\n",
       "\u001b[0;34m    See Also\u001b[0m\n",
       "\u001b[0;34m    --------\u001b[0m\n",
       "\u001b[0;34m    array_split : Split an array into multiple sub-arrays of equal or\u001b[0m\n",
       "\u001b[0;34m                  near-equal size.  Does not raise an exception if\u001b[0m\n",
       "\u001b[0;34m                  an equal division cannot be made.\u001b[0m\n",
       "\u001b[0;34m    hsplit : Split array into multiple sub-arrays horizontally (column-wise).\u001b[0m\n",
       "\u001b[0;34m    vsplit : Split array into multiple sub-arrays vertically (row wise).\u001b[0m\n",
       "\u001b[0;34m    dsplit : Split array into multiple sub-arrays along the 3rd axis (depth).\u001b[0m\n",
       "\u001b[0;34m    concatenate : Join a sequence of arrays along an existing axis.\u001b[0m\n",
       "\u001b[0;34m    stack : Join a sequence of arrays along a new axis.\u001b[0m\n",
       "\u001b[0;34m    hstack : Stack arrays in sequence horizontally (column wise).\u001b[0m\n",
       "\u001b[0;34m    vstack : Stack arrays in sequence vertically (row wise).\u001b[0m\n",
       "\u001b[0;34m    dstack : Stack arrays in sequence depth wise (along third dimension).\u001b[0m\n",
       "\u001b[0;34m\u001b[0m\n",
       "\u001b[0;34m    Examples\u001b[0m\n",
       "\u001b[0;34m    --------\u001b[0m\n",
       "\u001b[0;34m    >>> x = np.arange(9.0)\u001b[0m\n",
       "\u001b[0;34m    >>> np.split(x, 3)\u001b[0m\n",
       "\u001b[0;34m    [array([0.,  1.,  2.]), array([3.,  4.,  5.]), array([6.,  7.,  8.])]\u001b[0m\n",
       "\u001b[0;34m\u001b[0m\n",
       "\u001b[0;34m    >>> x = np.arange(8.0)\u001b[0m\n",
       "\u001b[0;34m    >>> np.split(x, [3, 5, 6, 10])\u001b[0m\n",
       "\u001b[0;34m    [array([0.,  1.,  2.]),\u001b[0m\n",
       "\u001b[0;34m     array([3.,  4.]),\u001b[0m\n",
       "\u001b[0;34m     array([5.]),\u001b[0m\n",
       "\u001b[0;34m     array([6.,  7.]),\u001b[0m\n",
       "\u001b[0;34m     array([], dtype=float64)]\u001b[0m\n",
       "\u001b[0;34m\u001b[0m\n",
       "\u001b[0;34m    \"\"\"\u001b[0m\u001b[0;34m\u001b[0m\n",
       "\u001b[0;34m\u001b[0m    \u001b[0;32mtry\u001b[0m\u001b[0;34m:\u001b[0m\u001b[0;34m\u001b[0m\n",
       "\u001b[0;34m\u001b[0m        \u001b[0mlen\u001b[0m\u001b[0;34m(\u001b[0m\u001b[0mindices_or_sections\u001b[0m\u001b[0;34m)\u001b[0m\u001b[0;34m\u001b[0m\n",
       "\u001b[0;34m\u001b[0m    \u001b[0;32mexcept\u001b[0m \u001b[0mTypeError\u001b[0m\u001b[0;34m:\u001b[0m\u001b[0;34m\u001b[0m\n",
       "\u001b[0;34m\u001b[0m        \u001b[0msections\u001b[0m \u001b[0;34m=\u001b[0m \u001b[0mindices_or_sections\u001b[0m\u001b[0;34m\u001b[0m\n",
       "\u001b[0;34m\u001b[0m        \u001b[0mN\u001b[0m \u001b[0;34m=\u001b[0m \u001b[0mary\u001b[0m\u001b[0;34m.\u001b[0m\u001b[0mshape\u001b[0m\u001b[0;34m[\u001b[0m\u001b[0maxis\u001b[0m\u001b[0;34m]\u001b[0m\u001b[0;34m\u001b[0m\n",
       "\u001b[0;34m\u001b[0m        \u001b[0;32mif\u001b[0m \u001b[0mN\u001b[0m \u001b[0;34m%\u001b[0m \u001b[0msections\u001b[0m\u001b[0;34m:\u001b[0m\u001b[0;34m\u001b[0m\n",
       "\u001b[0;34m\u001b[0m            \u001b[0;32mraise\u001b[0m \u001b[0mValueError\u001b[0m\u001b[0;34m(\u001b[0m\u001b[0;34m\u001b[0m\n",
       "\u001b[0;34m\u001b[0m                \u001b[0;34m'array split does not result in an equal division'\u001b[0m\u001b[0;34m)\u001b[0m \u001b[0;32mfrom\u001b[0m \u001b[0;32mNone\u001b[0m\u001b[0;34m\u001b[0m\n",
       "\u001b[0;34m\u001b[0m    \u001b[0;32mreturn\u001b[0m \u001b[0marray_split\u001b[0m\u001b[0;34m(\u001b[0m\u001b[0mary\u001b[0m\u001b[0;34m,\u001b[0m \u001b[0mindices_or_sections\u001b[0m\u001b[0;34m,\u001b[0m \u001b[0maxis\u001b[0m\u001b[0;34m)\u001b[0m\u001b[0;34m\u001b[0m\u001b[0;34m\u001b[0m\u001b[0m\n",
       "\u001b[0;31mClass docstring:\u001b[0m\n",
       "Class to wrap functions with checks for __array_function__ overrides.\n",
       "\n",
       "All arguments are required, and can only be passed by position.\n",
       "\n",
       "Parameters\n",
       "----------\n",
       "dispatcher : function or None\n",
       "    The dispatcher function that returns a single sequence-like object\n",
       "    of all arguments relevant.  It must have the same signature (except\n",
       "    the default values) as the actual implementation.\n",
       "    If ``None``, this is a ``like=`` dispatcher and the\n",
       "    ``_ArrayFunctionDispatcher`` must be called with ``like`` as the\n",
       "    first (additional and positional) argument.\n",
       "implementation : function\n",
       "    Function that implements the operation on NumPy arrays without\n",
       "    overrides.  Arguments passed calling the ``_ArrayFunctionDispatcher``\n",
       "    will be forwarded to this (and the ``dispatcher``) as if using\n",
       "    ``*args, **kwargs``.\n",
       "\n",
       "Attributes\n",
       "----------\n",
       "_implementation : function\n",
       "    The original implementation passed in."
      ]
     },
     "metadata": {},
     "output_type": "display_data"
    }
   ],
   "source": [
    "np.split??"
   ]
  },
  {
   "cell_type": "code",
   "execution_count": 128,
   "id": "5361e4b6-0fb5-4cf6-bf1c-8310cb8e8694",
   "metadata": {
    "tags": []
   },
   "outputs": [
    {
     "data": {
      "text/plain": [
       "array([[ 0,  1,  2,  3],\n",
       "       [ 4,  5,  6,  7],\n",
       "       [ 8,  9, 10, 11],\n",
       "       [12, 13, 14, 15]])"
      ]
     },
     "execution_count": 128,
     "metadata": {},
     "output_type": "execute_result"
    }
   ],
   "source": [
    "grid = np.arange(16).reshape((4, 4))\n",
    "grid"
   ]
  },
  {
   "cell_type": "code",
   "execution_count": 131,
   "id": "729ddb9d-71ad-4a08-bd23-6cf4ce1ab568",
   "metadata": {
    "tags": []
   },
   "outputs": [
    {
     "name": "stdout",
     "output_type": "stream",
     "text": [
      "[[0 1 2 3]\n",
      " [4 5 6 7]]\n",
      "[[ 8  9 10 11]\n",
      " [12 13 14 15]]\n"
     ]
    }
   ],
   "source": [
    "upper, lower = np.vsplit(grid, [2])\n",
    "print(upper)\n",
    "print(lower)"
   ]
  },
  {
   "cell_type": "code",
   "execution_count": 132,
   "id": "41514c89-a691-4ecf-a056-d562b7bfd73a",
   "metadata": {
    "tags": []
   },
   "outputs": [
    {
     "name": "stdout",
     "output_type": "stream",
     "text": [
      "[[ 0  1]\n",
      " [ 4  5]\n",
      " [ 8  9]\n",
      " [12 13]]\n",
      "[[ 2  3]\n",
      " [ 6  7]\n",
      " [10 11]\n",
      " [14 15]]\n"
     ]
    }
   ],
   "source": [
    "left, right = np.hsplit(grid, [2])\n",
    "print(left)\n",
    "print(right)"
   ]
  },
  {
   "cell_type": "markdown",
   "id": "8aaa3e30-e147-4bf7-af45-1b54aeb6657e",
   "metadata": {},
   "source": [
    "Similarly, for higher-dimensional arrays, np.dsplit will split arrays along the third\n",
    "axis."
   ]
  },
  {
   "cell_type": "markdown",
   "id": "95f35bed-621e-4e2f-8924-1938f4cd0ad9",
   "metadata": {
    "jp-MarkdownHeadingCollapsed": true,
    "tags": []
   },
   "source": [
    "# Computation on NumPy Arrays: Universal Functions"
   ]
  },
  {
   "cell_type": "code",
   "execution_count": 134,
   "id": "28c3ef67-2261-4b29-8f97-25478131776b",
   "metadata": {
    "tags": []
   },
   "outputs": [
    {
     "data": {
      "text/plain": [
       "array([0.11111111, 0.25      , 1.        , 0.33333333, 0.125     ])"
      ]
     },
     "execution_count": 134,
     "metadata": {},
     "output_type": "execute_result"
    }
   ],
   "source": [
    "import numpy as np\n",
    "rng = np.random.default_rng(seed=1701)\n",
    "\n",
    "def compute_reciprocals(values): \n",
    "    output = np.empty(len(values)) \n",
    "    for i in range(len(values)):\n",
    "        output[i] = 1.0 / values[i] \n",
    "    return output\n",
    "values = rng.integers(1, 10, size=5)\n",
    "compute_reciprocals(values)"
   ]
  },
  {
   "cell_type": "code",
   "execution_count": 135,
   "id": "5a4e6bec-a54e-45fd-866a-f6d4ce9340e4",
   "metadata": {
    "tags": []
   },
   "outputs": [
    {
     "name": "stdout",
     "output_type": "stream",
     "text": [
      "1.14 s ± 3.48 ms per loop (mean ± std. dev. of 7 runs, 1 loop each)\n"
     ]
    }
   ],
   "source": [
    "big_array = rng.integers(1, 100, size=1000000) \n",
    "%timeit compute_reciprocals(big_array)"
   ]
  },
  {
   "cell_type": "markdown",
   "id": "b5a538af-06ad-467f-83ea-da689e28d6da",
   "metadata": {},
   "source": [
    "Ufuncs - This vectorized approach is designed to push the loop into the compiled layer that underlies NumPy, leading to much faster execution."
   ]
  },
  {
   "cell_type": "code",
   "execution_count": 136,
   "id": "c91d7e51-990c-4325-9ff8-45d95bfa5737",
   "metadata": {
    "tags": []
   },
   "outputs": [
    {
     "name": "stdout",
     "output_type": "stream",
     "text": [
      "[0.11111111 0.25       1.         0.33333333 0.125     ]\n",
      "[0.11111111 0.25       1.         0.33333333 0.125     ]\n"
     ]
    }
   ],
   "source": [
    "print(compute_reciprocals(values))\n",
    "print(1.0/values)"
   ]
  },
  {
   "cell_type": "code",
   "execution_count": 137,
   "id": "624bee28-0998-48ad-aaa3-0109558550c6",
   "metadata": {
    "tags": []
   },
   "outputs": [
    {
     "name": "stdout",
     "output_type": "stream",
     "text": [
      "1 ms ± 8.65 µs per loop (mean ± std. dev. of 7 runs, 1,000 loops each)\n"
     ]
    }
   ],
   "source": [
    "%timeit (1.0/big_array)"
   ]
  },
  {
   "cell_type": "markdown",
   "id": "bf0b831d-8f07-4496-98cf-a91470fd9fdc",
   "metadata": {},
   "source": [
    "Much Much Faster execition"
   ]
  },
  {
   "cell_type": "code",
   "execution_count": 138,
   "id": "8ef743d8-aca6-42d0-adac-3da029d04207",
   "metadata": {
    "tags": []
   },
   "outputs": [
    {
     "data": {
      "text/plain": [
       "array([0.        , 0.5       , 0.66666667, 0.75      , 0.8       ])"
      ]
     },
     "execution_count": 138,
     "metadata": {},
     "output_type": "execute_result"
    }
   ],
   "source": [
    "np.arange(5) / np.arange(1, 6)"
   ]
  },
  {
   "cell_type": "code",
   "execution_count": 141,
   "id": "0e5fe352-b67f-4f0c-9374-d423835ab425",
   "metadata": {
    "tags": []
   },
   "outputs": [
    {
     "name": "stdout",
     "output_type": "stream",
     "text": [
      "[[0 1 2]\n",
      " [3 4 5]\n",
      " [6 7 8]]\n",
      "----\n"
     ]
    },
    {
     "data": {
      "text/plain": [
       "array([[  1,   2,   4],\n",
       "       [  8,  16,  32],\n",
       "       [ 64, 128, 256]])"
      ]
     },
     "execution_count": 141,
     "metadata": {},
     "output_type": "execute_result"
    }
   ],
   "source": [
    "x = np.arange(9).reshape((3, 3))\n",
    "print(x)\n",
    "print(\"----\")\n",
    "2 ** x"
   ]
  },
  {
   "cell_type": "code",
   "execution_count": 156,
   "id": "312ddb04-5add-4ae5-bfc3-a098987b80e1",
   "metadata": {
    "tags": []
   },
   "outputs": [
    {
     "name": "stdout",
     "output_type": "stream",
     "text": [
      "x       = [0 1 2 3]\n",
      "x + 5   = [5 6 7 8]\n",
      "x - 5   = [-5 -4 -3 -2]\n",
      "x * 2   = [0 2 4 6]\n",
      "x / 2   = [0.  0.5 1.  1.5]\n",
      "x // 2  = [0 0 1 1]\n",
      "-x      = [ 0 -1 -2 -3]\n",
      "x ** 2  = [0 1 4 9]\n",
      "x % 2   = [0 1 0 1]\n"
     ]
    }
   ],
   "source": [
    "# Array Arithmetic\n",
    "x = np.arange(4)\n",
    "print(\"x       =\",x)\n",
    "print(\"x + 5   =\",x+5)\n",
    "print(\"x - 5   =\",x-5)\n",
    "print(\"x * 2   =\",x*2)\n",
    "print(\"x / 2   =\",x/2)\n",
    "print(\"x // 2  =\",x//2)\n",
    "print(\"-x      =\",-x)\n",
    "print(\"x ** 2  =\",x ** 2)\n",
    "print(\"x % 2   =\",x % 2)"
   ]
  },
  {
   "cell_type": "code",
   "execution_count": 157,
   "id": "8e0af3c5-e1ed-4ab1-9119-5fa2be3c25d4",
   "metadata": {
    "tags": []
   },
   "outputs": [
    {
     "data": {
      "text/plain": [
       "array([-1.  , -2.25, -4.  , -6.25])"
      ]
     },
     "execution_count": 157,
     "metadata": {},
     "output_type": "execute_result"
    }
   ],
   "source": [
    "-(0.5*x + 1) ** 2"
   ]
  },
  {
   "cell_type": "code",
   "execution_count": 158,
   "id": "41e49b17-44d3-499c-8d0b-8530f140b6c7",
   "metadata": {
    "tags": []
   },
   "outputs": [
    {
     "data": {
      "text/plain": [
       "array([2, 3, 4, 5])"
      ]
     },
     "execution_count": 158,
     "metadata": {},
     "output_type": "execute_result"
    }
   ],
   "source": [
    "np.add(x,2)"
   ]
  },
  {
   "cell_type": "code",
   "execution_count": 159,
   "id": "66abdd6b-c590-4ac9-bd7f-020095c824e0",
   "metadata": {
    "tags": []
   },
   "outputs": [
    {
     "data": {
      "text/plain": [
       "array([2, 1, 0, 1, 2])"
      ]
     },
     "execution_count": 159,
     "metadata": {},
     "output_type": "execute_result"
    }
   ],
   "source": [
    "# Absolute Values\n",
    "x = np.array([-2, -1, 0, 1, 2])\n",
    "abs(x)"
   ]
  },
  {
   "cell_type": "code",
   "execution_count": 160,
   "id": "be971710-0cc3-4f5e-b77a-021ddc1e0e9f",
   "metadata": {
    "tags": []
   },
   "outputs": [
    {
     "data": {
      "text/plain": [
       "array([2, 1, 0, 1, 2])"
      ]
     },
     "execution_count": 160,
     "metadata": {},
     "output_type": "execute_result"
    }
   ],
   "source": [
    "np.absolute(x)"
   ]
  },
  {
   "cell_type": "code",
   "execution_count": 161,
   "id": "e6487b30-5b22-45de-8a6a-d35dcdff0474",
   "metadata": {
    "tags": []
   },
   "outputs": [
    {
     "data": {
      "text/plain": [
       "array([2, 1, 0, 1, 2])"
      ]
     },
     "execution_count": 161,
     "metadata": {},
     "output_type": "execute_result"
    }
   ],
   "source": [
    "np.abs(x)"
   ]
  },
  {
   "cell_type": "code",
   "execution_count": 162,
   "id": "15efe225-a4ab-4288-984f-acb1771bd290",
   "metadata": {
    "tags": []
   },
   "outputs": [
    {
     "data": {
      "text/plain": [
       "array([5., 5., 2., 1.])"
      ]
     },
     "execution_count": 162,
     "metadata": {},
     "output_type": "execute_result"
    }
   ],
   "source": [
    "#complex data\n",
    "x = np.array([3 - 4j, 4 - 3j, 2 + 0j, 0 + 1j])\n",
    "np.abs(x)"
   ]
  },
  {
   "cell_type": "code",
   "execution_count": 164,
   "id": "e713d7b9-48b0-4b6c-b151-ec4285e0b488",
   "metadata": {
    "tags": []
   },
   "outputs": [],
   "source": [
    "#Trigonometric Functions\n",
    "theta = np.linspace(0, np.pi, 3)"
   ]
  },
  {
   "cell_type": "code",
   "execution_count": 165,
   "id": "47a17cf4-0b2d-4f5d-81ce-34e06d9532a9",
   "metadata": {
    "tags": []
   },
   "outputs": [
    {
     "name": "stdout",
     "output_type": "stream",
     "text": [
      "theta      =  [0.         1.57079633 3.14159265]\n",
      "sin(theta) =  [0.0000000e+00 1.0000000e+00 1.2246468e-16]\n",
      "cos(theta) =  [ 1.000000e+00  6.123234e-17 -1.000000e+00]\n",
      "tan(theta) =  [ 0.00000000e+00  1.63312394e+16 -1.22464680e-16]\n"
     ]
    }
   ],
   "source": [
    "print(\"theta      = \", theta)\n",
    "print(\"sin(theta) = \", np.sin(theta))\n",
    "print(\"cos(theta) = \", np.cos(theta))\n",
    "print(\"tan(theta) = \", np.tan(theta))"
   ]
  },
  {
   "cell_type": "code",
   "execution_count": 166,
   "id": "d0f1a9e2-ea61-4dfe-8b06-292ad68544c8",
   "metadata": {
    "collapsed": true,
    "jupyter": {
     "outputs_hidden": true
    },
    "tags": []
   },
   "outputs": [
    {
     "data": {
      "text/plain": [
       "\u001b[0;31mSignature:\u001b[0m      \n",
       "\u001b[0mnp\u001b[0m\u001b[0;34m.\u001b[0m\u001b[0mlinspace\u001b[0m\u001b[0;34m(\u001b[0m\u001b[0;34m\u001b[0m\n",
       "\u001b[0;34m\u001b[0m    \u001b[0mstart\u001b[0m\u001b[0;34m,\u001b[0m\u001b[0;34m\u001b[0m\n",
       "\u001b[0;34m\u001b[0m    \u001b[0mstop\u001b[0m\u001b[0;34m,\u001b[0m\u001b[0;34m\u001b[0m\n",
       "\u001b[0;34m\u001b[0m    \u001b[0mnum\u001b[0m\u001b[0;34m=\u001b[0m\u001b[0;36m50\u001b[0m\u001b[0;34m,\u001b[0m\u001b[0;34m\u001b[0m\n",
       "\u001b[0;34m\u001b[0m    \u001b[0mendpoint\u001b[0m\u001b[0;34m=\u001b[0m\u001b[0;32mTrue\u001b[0m\u001b[0;34m,\u001b[0m\u001b[0;34m\u001b[0m\n",
       "\u001b[0;34m\u001b[0m    \u001b[0mretstep\u001b[0m\u001b[0;34m=\u001b[0m\u001b[0;32mFalse\u001b[0m\u001b[0;34m,\u001b[0m\u001b[0;34m\u001b[0m\n",
       "\u001b[0;34m\u001b[0m    \u001b[0mdtype\u001b[0m\u001b[0;34m=\u001b[0m\u001b[0;32mNone\u001b[0m\u001b[0;34m,\u001b[0m\u001b[0;34m\u001b[0m\n",
       "\u001b[0;34m\u001b[0m    \u001b[0maxis\u001b[0m\u001b[0;34m=\u001b[0m\u001b[0;36m0\u001b[0m\u001b[0;34m,\u001b[0m\u001b[0;34m\u001b[0m\n",
       "\u001b[0;34m\u001b[0m\u001b[0;34m)\u001b[0m\u001b[0;34m\u001b[0m\u001b[0;34m\u001b[0m\u001b[0m\n",
       "\u001b[0;31mCall signature:\u001b[0m  \u001b[0mnp\u001b[0m\u001b[0;34m.\u001b[0m\u001b[0mlinspace\u001b[0m\u001b[0;34m(\u001b[0m\u001b[0;34m*\u001b[0m\u001b[0margs\u001b[0m\u001b[0;34m,\u001b[0m \u001b[0;34m**\u001b[0m\u001b[0mkwargs\u001b[0m\u001b[0;34m)\u001b[0m\u001b[0;34m\u001b[0m\u001b[0;34m\u001b[0m\u001b[0m\n",
       "\u001b[0;31mType:\u001b[0m            _ArrayFunctionDispatcher\n",
       "\u001b[0;31mString form:\u001b[0m     <function linspace at 0x106a4e480>\n",
       "\u001b[0;31mFile:\u001b[0m            ~/anaconda3/lib/python3.11/site-packages/numpy/core/function_base.py\n",
       "\u001b[0;31mDocstring:\u001b[0m      \n",
       "Return evenly spaced numbers over a specified interval.\n",
       "\n",
       "Returns `num` evenly spaced samples, calculated over the\n",
       "interval [`start`, `stop`].\n",
       "\n",
       "The endpoint of the interval can optionally be excluded.\n",
       "\n",
       ".. versionchanged:: 1.16.0\n",
       "    Non-scalar `start` and `stop` are now supported.\n",
       "\n",
       ".. versionchanged:: 1.20.0\n",
       "    Values are rounded towards ``-inf`` instead of ``0`` when an\n",
       "    integer ``dtype`` is specified. The old behavior can\n",
       "    still be obtained with ``np.linspace(start, stop, num).astype(int)``\n",
       "\n",
       "Parameters\n",
       "----------\n",
       "start : array_like\n",
       "    The starting value of the sequence.\n",
       "stop : array_like\n",
       "    The end value of the sequence, unless `endpoint` is set to False.\n",
       "    In that case, the sequence consists of all but the last of ``num + 1``\n",
       "    evenly spaced samples, so that `stop` is excluded.  Note that the step\n",
       "    size changes when `endpoint` is False.\n",
       "num : int, optional\n",
       "    Number of samples to generate. Default is 50. Must be non-negative.\n",
       "endpoint : bool, optional\n",
       "    If True, `stop` is the last sample. Otherwise, it is not included.\n",
       "    Default is True.\n",
       "retstep : bool, optional\n",
       "    If True, return (`samples`, `step`), where `step` is the spacing\n",
       "    between samples.\n",
       "dtype : dtype, optional\n",
       "    The type of the output array.  If `dtype` is not given, the data type\n",
       "    is inferred from `start` and `stop`. The inferred dtype will never be\n",
       "    an integer; `float` is chosen even if the arguments would produce an\n",
       "    array of integers.\n",
       "\n",
       "    .. versionadded:: 1.9.0\n",
       "\n",
       "axis : int, optional\n",
       "    The axis in the result to store the samples.  Relevant only if start\n",
       "    or stop are array-like.  By default (0), the samples will be along a\n",
       "    new axis inserted at the beginning. Use -1 to get an axis at the end.\n",
       "\n",
       "    .. versionadded:: 1.16.0\n",
       "\n",
       "Returns\n",
       "-------\n",
       "samples : ndarray\n",
       "    There are `num` equally spaced samples in the closed interval\n",
       "    ``[start, stop]`` or the half-open interval ``[start, stop)``\n",
       "    (depending on whether `endpoint` is True or False).\n",
       "step : float, optional\n",
       "    Only returned if `retstep` is True\n",
       "\n",
       "    Size of spacing between samples.\n",
       "\n",
       "\n",
       "See Also\n",
       "--------\n",
       "arange : Similar to `linspace`, but uses a step size (instead of the\n",
       "         number of samples).\n",
       "geomspace : Similar to `linspace`, but with numbers spaced evenly on a log\n",
       "            scale (a geometric progression).\n",
       "logspace : Similar to `geomspace`, but with the end points specified as\n",
       "           logarithms.\n",
       ":ref:`how-to-partition`\n",
       "\n",
       "Examples\n",
       "--------\n",
       ">>> np.linspace(2.0, 3.0, num=5)\n",
       "array([2.  , 2.25, 2.5 , 2.75, 3.  ])\n",
       ">>> np.linspace(2.0, 3.0, num=5, endpoint=False)\n",
       "array([2. ,  2.2,  2.4,  2.6,  2.8])\n",
       ">>> np.linspace(2.0, 3.0, num=5, retstep=True)\n",
       "(array([2.  ,  2.25,  2.5 ,  2.75,  3.  ]), 0.25)\n",
       "\n",
       "Graphical illustration:\n",
       "\n",
       ">>> import matplotlib.pyplot as plt\n",
       ">>> N = 8\n",
       ">>> y = np.zeros(N)\n",
       ">>> x1 = np.linspace(0, 10, N, endpoint=True)\n",
       ">>> x2 = np.linspace(0, 10, N, endpoint=False)\n",
       ">>> plt.plot(x1, y, 'o')\n",
       "[<matplotlib.lines.Line2D object at 0x...>]\n",
       ">>> plt.plot(x2, y + 0.5, 'o')\n",
       "[<matplotlib.lines.Line2D object at 0x...>]\n",
       ">>> plt.ylim([-0.5, 1])\n",
       "(-0.5, 1)\n",
       ">>> plt.show()\n",
       "\u001b[0;31mClass docstring:\u001b[0m\n",
       "Class to wrap functions with checks for __array_function__ overrides.\n",
       "\n",
       "All arguments are required, and can only be passed by position.\n",
       "\n",
       "Parameters\n",
       "----------\n",
       "dispatcher : function or None\n",
       "    The dispatcher function that returns a single sequence-like object\n",
       "    of all arguments relevant.  It must have the same signature (except\n",
       "    the default values) as the actual implementation.\n",
       "    If ``None``, this is a ``like=`` dispatcher and the\n",
       "    ``_ArrayFunctionDispatcher`` must be called with ``like`` as the\n",
       "    first (additional and positional) argument.\n",
       "implementation : function\n",
       "    Function that implements the operation on NumPy arrays without\n",
       "    overrides.  Arguments passed calling the ``_ArrayFunctionDispatcher``\n",
       "    will be forwarded to this (and the ``dispatcher``) as if using\n",
       "    ``*args, **kwargs``.\n",
       "\n",
       "Attributes\n",
       "----------\n",
       "_implementation : function\n",
       "    The original implementation passed in."
      ]
     },
     "metadata": {},
     "output_type": "display_data"
    }
   ],
   "source": [
    "np.linspace?"
   ]
  },
  {
   "cell_type": "code",
   "execution_count": 168,
   "id": "f88bf0f1-1e6c-49f2-a755-51b6f3df2ddc",
   "metadata": {
    "tags": []
   },
   "outputs": [
    {
     "name": "stdout",
     "output_type": "stream",
     "text": [
      "x         =  [-1, 0, 1]\n",
      "arcsin(x) =  [-1.57079633  0.          1.57079633]\n",
      "arccos(x) =  [3.14159265 1.57079633 0.        ]\n",
      "arctan(x) =  [-0.78539816  0.          0.78539816]\n"
     ]
    }
   ],
   "source": [
    "#Inverse trigonometric functions\n",
    "x = [-1, 0, 1]\n",
    "print(\"x         = \", x)\n",
    "print(\"arcsin(x) = \", np.arcsin(x))\n",
    "print(\"arccos(x) = \", np.arccos(x))\n",
    "print(\"arctan(x) = \", np.arctan(x))"
   ]
  },
  {
   "cell_type": "code",
   "execution_count": 169,
   "id": "b159b0a1-7d5b-451a-9af6-f0bd285d91c9",
   "metadata": {
    "tags": []
   },
   "outputs": [
    {
     "name": "stdout",
     "output_type": "stream",
     "text": [
      "x   = [1, 2, 3]\n",
      "e^x = [ 2.71828183  7.3890561  20.08553692]\n",
      "2^x = [2. 4. 8.]\n",
      "3^x = [ 3.  9. 27.]\n"
     ]
    }
   ],
   "source": [
    "#Exponents and Logarithms\n",
    "x = [1, 2, 3]\n",
    "print(\"x   =\", x)\n",
    "print(\"e^x =\", np.exp(x))\n",
    "print(\"2^x =\", np.exp2(x))\n",
    "print(\"3^x =\", np.power(3., x))"
   ]
  },
  {
   "cell_type": "code",
   "execution_count": 170,
   "id": "f62bb577-e852-43b5-a871-231b976c0708",
   "metadata": {
    "tags": []
   },
   "outputs": [
    {
     "name": "stdout",
     "output_type": "stream",
     "text": [
      "x        = [1, 2, 4, 10]\n",
      "ln(x)    = [0.         0.69314718 1.38629436 2.30258509]\n",
      "log2(x)  = [0.         1.         2.         3.32192809]\n",
      "log10(x) = [0.         0.30103    0.60205999 1.        ]\n"
     ]
    }
   ],
   "source": [
    "x = [1, 2, 4, 10]\n",
    "print(\"x        =\", x)\n",
    "print(\"ln(x)    =\", np.log(x))\n",
    "print(\"log2(x)  =\", np.log2(x))\n",
    "print(\"log10(x) =\", np.log10(x))"
   ]
  },
  {
   "cell_type": "code",
   "execution_count": 171,
   "id": "c5c3c107-bbaa-4fa5-b14a-1c803cfba71f",
   "metadata": {
    "tags": []
   },
   "outputs": [
    {
     "name": "stdout",
     "output_type": "stream",
     "text": [
      "exp(x) - 1 = [0.         0.0010005  0.01005017 0.10517092]\n",
      "log(1 + x) = [0.         0.0009995  0.00995033 0.09531018]\n"
     ]
    }
   ],
   "source": [
    "x = [0, 0.001, 0.01, 0.1]\n",
    "print(\"exp(x) - 1 =\", np.expm1(x))\n",
    "print(\"log(1 + x) =\", np.log1p(x))"
   ]
  },
  {
   "cell_type": "code",
   "execution_count": 172,
   "id": "b07bfb52-8c61-437e-b07d-15f757ac1975",
   "metadata": {
    "tags": []
   },
   "outputs": [],
   "source": [
    "# Special ufuncs\n",
    "from scipy import special"
   ]
  },
  {
   "cell_type": "code",
   "execution_count": 173,
   "id": "4415f87c-eb49-4788-8e9d-a7917936913f",
   "metadata": {
    "tags": []
   },
   "outputs": [
    {
     "name": "stdout",
     "output_type": "stream",
     "text": [
      "gamma(x)     = [1.0000e+00 2.4000e+01 3.6288e+05]\n",
      "ln|gamma(x)| = [ 0.          3.17805383 12.80182748]\n",
      "beta(x, 2)   = [0.5        0.03333333 0.00909091]\n"
     ]
    }
   ],
   "source": [
    "# Gamma functions (generalized factorials) and related functions\n",
    "x = [1, 5, 10]\n",
    "print(\"gamma(x)     =\", special.gamma(x))\n",
    "print(\"ln|gamma(x)| =\", special.gammaln(x))\n",
    "print(\"beta(x, 2)   =\", special.beta(x, 2))"
   ]
  },
  {
   "cell_type": "code",
   "execution_count": 174,
   "id": "4f59207d-e2e0-4c84-86d3-4843338ea252",
   "metadata": {
    "tags": []
   },
   "outputs": [
    {
     "name": "stdout",
     "output_type": "stream",
     "text": [
      "erf(x)  = [0.         0.32862676 0.67780119 0.84270079]\n",
      "erfc(x) = [1.         0.67137324 0.32219881 0.15729921]\n",
      "erfinv(x) = [0.         0.27246271 0.73286908        inf]\n"
     ]
    }
   ],
   "source": [
    "# Error function (integral of Gaussian), # its complement, and its inverse\n",
    "x = np.array([0, 0.3, 0.7, 1.0])\n",
    "print(\"erf(x)  =\", special.erf(x))\n",
    "print(\"erfc(x) =\", special.erfc(x))\n",
    "print(\"erfinv(x) =\", special.erfinv(x))"
   ]
  },
  {
   "cell_type": "code",
   "execution_count": 175,
   "id": "73500231-c02c-4dcf-b1b8-ece0ab02c258",
   "metadata": {
    "tags": []
   },
   "outputs": [
    {
     "name": "stdout",
     "output_type": "stream",
     "text": [
      "[ 0. 10. 20. 30. 40.]\n"
     ]
    }
   ],
   "source": [
    "x = np.arange(5)\n",
    "y = np.empty(5)\n",
    "np.multiply(x, 10, out=y)\n",
    "print(y)"
   ]
  },
  {
   "cell_type": "code",
   "execution_count": 176,
   "id": "680cde12-3f08-45e0-965b-c54e11a37cad",
   "metadata": {
    "tags": []
   },
   "outputs": [
    {
     "name": "stdout",
     "output_type": "stream",
     "text": [
      "[ 1.  0.  2.  0.  4.  0.  8.  0. 16.  0.]\n"
     ]
    }
   ],
   "source": [
    "y = np.zeros(10)\n",
    "np.power(2, x, out=y[::2])\n",
    "print(y)"
   ]
  },
  {
   "cell_type": "markdown",
   "id": "17aacd4d-5699-4b33-9906-731dcba53991",
   "metadata": {},
   "source": [
    "If we had instead written y[::2] = 2 ** x, this would have resulted in the creation of a temporary array to hold the results of 2 ** x, followed by a second operation copying those values into the y array. \n",
    "\n",
    "For very large arrays the memory savings from careful use of the out argument can be significant."
   ]
  },
  {
   "cell_type": "code",
   "execution_count": 177,
   "id": "1d02b8d0-45ab-4e31-8d6a-0bd728f8c066",
   "metadata": {
    "tags": []
   },
   "outputs": [
    {
     "data": {
      "text/plain": [
       "15"
      ]
     },
     "execution_count": 177,
     "metadata": {},
     "output_type": "execute_result"
    }
   ],
   "source": [
    "#Aggregations\n",
    "x = np.arange(1, 6)\n",
    "np.add.reduce(x)"
   ]
  },
  {
   "cell_type": "code",
   "execution_count": 178,
   "id": "2e7c9768-b271-4bfe-b8ab-fd52ad77eec7",
   "metadata": {
    "tags": []
   },
   "outputs": [
    {
     "data": {
      "text/plain": [
       "120"
      ]
     },
     "execution_count": 178,
     "metadata": {},
     "output_type": "execute_result"
    }
   ],
   "source": [
    "np.multiply.reduce(x)"
   ]
  },
  {
   "cell_type": "code",
   "execution_count": 181,
   "id": "89595e0a-1dce-4937-abfd-162c86df90b6",
   "metadata": {
    "tags": []
   },
   "outputs": [
    {
     "data": {
      "text/plain": [
       "array([ 1,  3,  6, 10, 15])"
      ]
     },
     "execution_count": 181,
     "metadata": {},
     "output_type": "execute_result"
    }
   ],
   "source": [
    "np.add.accumulate(x)"
   ]
  },
  {
   "cell_type": "code",
   "execution_count": 182,
   "id": "cb14f216-2c94-4461-8c3c-e7a81fe0c233",
   "metadata": {
    "tags": []
   },
   "outputs": [
    {
     "data": {
      "text/plain": [
       "array([  1,   2,   6,  24, 120])"
      ]
     },
     "execution_count": 182,
     "metadata": {},
     "output_type": "execute_result"
    }
   ],
   "source": [
    "np.multiply.accumulate(x)"
   ]
  },
  {
   "cell_type": "markdown",
   "id": "dd3d9295-d850-4e6f-8912-ed852b3823dd",
   "metadata": {
    "jp-MarkdownHeadingCollapsed": true,
    "tags": []
   },
   "source": [
    "# Aggregations: min, max, and Everything in Between"
   ]
  },
  {
   "cell_type": "markdown",
   "id": "a2935d15-d034-4387-906f-930333412d85",
   "metadata": {},
   "source": [
    "summary statistics are the mean and standard deviation, which allow you to summarize the “typical” values in a dataset, \n",
    "\n",
    "Other aggregations are useful as well (the sum, product, median, minimum and maximum, quantiles, etc.)."
   ]
  },
  {
   "cell_type": "code",
   "execution_count": 184,
   "id": "59c763f5-fcf3-4091-9967-5d26bd620753",
   "metadata": {
    "tags": []
   },
   "outputs": [
    {
     "data": {
      "text/plain": [
       "48.959805368006485"
      ]
     },
     "execution_count": 184,
     "metadata": {},
     "output_type": "execute_result"
    }
   ],
   "source": [
    "rng = np.random.default_rng()\n",
    "L = rng.random(100)\n",
    "sum(L)"
   ]
  },
  {
   "cell_type": "code",
   "execution_count": 185,
   "id": "3a535bb0-be3b-4810-bd7a-4af0f3520394",
   "metadata": {
    "tags": []
   },
   "outputs": [
    {
     "data": {
      "text/plain": [
       "48.9598053680065"
      ]
     },
     "execution_count": 185,
     "metadata": {},
     "output_type": "execute_result"
    }
   ],
   "source": [
    "np.sum(L)"
   ]
  },
  {
   "cell_type": "markdown",
   "id": "b7fe7e41-50f1-4dc5-9946-91f8b9e486af",
   "metadata": {},
   "source": [
    "The result is the same\n",
    "in the simplest case.\n",
    "\n",
    "NumPy’s version of the operation is computed much more quickly:"
   ]
  },
  {
   "cell_type": "code",
   "execution_count": 186,
   "id": "a9dba447-8426-4ece-b92f-76d613ea7d14",
   "metadata": {
    "tags": []
   },
   "outputs": [
    {
     "name": "stdout",
     "output_type": "stream",
     "text": [
      "623 ms ± 21 ms per loop (mean ± std. dev. of 7 runs, 1 loop each)\n",
      "4.05 ms ± 538 µs per loop (mean ± std. dev. of 7 runs, 100 loops each)\n"
     ]
    }
   ],
   "source": [
    "big_array = rng.random(10000000)\n",
    "%timeit sum(big_array)\n",
    "%timeit np.sum(big_array)"
   ]
  },
  {
   "cell_type": "markdown",
   "id": "ef1dc34d-7194-4291-bc70-b2fd731b01a3",
   "metadata": {},
   "source": [
    "Minimum and Maximum"
   ]
  },
  {
   "cell_type": "code",
   "execution_count": 187,
   "id": "e3d96a51-5eaa-4204-bf01-31a32b28374c",
   "metadata": {
    "tags": []
   },
   "outputs": [
    {
     "data": {
      "text/plain": [
       "(3.9711243626783244e-08, 0.9999999374322854)"
      ]
     },
     "execution_count": 187,
     "metadata": {},
     "output_type": "execute_result"
    }
   ],
   "source": [
    "min(big_array),max(big_array)"
   ]
  },
  {
   "cell_type": "code",
   "execution_count": 188,
   "id": "bb2012aa-26af-485c-a8af-8f3b9267b933",
   "metadata": {
    "tags": []
   },
   "outputs": [
    {
     "data": {
      "text/plain": [
       "(3.9711243626783244e-08, 0.9999999374322854)"
      ]
     },
     "execution_count": 188,
     "metadata": {},
     "output_type": "execute_result"
    }
   ],
   "source": [
    "np.min(big_array), np.max(big_array)"
   ]
  },
  {
   "cell_type": "code",
   "execution_count": 191,
   "id": "fc3f4f2e-1fb1-42cf-af28-9c428c6b8401",
   "metadata": {
    "tags": []
   },
   "outputs": [
    {
     "name": "stdout",
     "output_type": "stream",
     "text": [
      "442 ms ± 3.35 ms per loop (mean ± std. dev. of 7 runs, 1 loop each)\n",
      "2.98 ms ± 182 µs per loop (mean ± std. dev. of 7 runs, 1,000 loops each)\n"
     ]
    }
   ],
   "source": [
    "%timeit min(big_array) \n",
    "%timeit np.min(big_array)"
   ]
  },
  {
   "cell_type": "markdown",
   "id": "8f1b71ea-aff6-4aa3-a655-de9fe4266846",
   "metadata": {},
   "source": [
    "a shorter syntax is to use methods of the array object itself:"
   ]
  },
  {
   "cell_type": "code",
   "execution_count": 192,
   "id": "a71069a5-f314-4524-a205-a0ca8c747a8a",
   "metadata": {
    "tags": []
   },
   "outputs": [
    {
     "name": "stdout",
     "output_type": "stream",
     "text": [
      "3.9711243626783244e-08 0.9999999374322854 4999343.8677493585\n"
     ]
    }
   ],
   "source": [
    "print(big_array.min(), big_array.max(), big_array.sum())"
   ]
  },
  {
   "cell_type": "markdown",
   "id": "e0bf61ea-e8ff-4070-af64-77d3bc5e5c74",
   "metadata": {},
   "source": [
    "Multidimensional Aggregates"
   ]
  },
  {
   "cell_type": "code",
   "execution_count": 193,
   "id": "85ccbc96-4163-415f-8f09-f3430a0da87c",
   "metadata": {
    "tags": []
   },
   "outputs": [
    {
     "data": {
      "text/plain": [
       "array([[9, 7, 6, 6],\n",
       "       [1, 9, 0, 2],\n",
       "       [9, 8, 7, 2]])"
      ]
     },
     "execution_count": 193,
     "metadata": {},
     "output_type": "execute_result"
    }
   ],
   "source": [
    "M = rng.integers(0, 10, (3, 4))\n",
    "M"
   ]
  },
  {
   "cell_type": "code",
   "execution_count": 194,
   "id": "1307c8c4-384d-48d1-b12b-9af9797c4ad6",
   "metadata": {
    "tags": []
   },
   "outputs": [
    {
     "data": {
      "text/plain": [
       "66"
      ]
     },
     "execution_count": 194,
     "metadata": {},
     "output_type": "execute_result"
    }
   ],
   "source": [
    "M.sum()"
   ]
  },
  {
   "cell_type": "code",
   "execution_count": 198,
   "id": "5fecad9c-e875-4a18-8f08-74581bfb96dc",
   "metadata": {
    "tags": []
   },
   "outputs": [
    {
     "data": {
      "text/plain": [
       "array([1, 7, 0, 2])"
      ]
     },
     "execution_count": 198,
     "metadata": {},
     "output_type": "execute_result"
    }
   ],
   "source": [
    "M.min(axis=0) # find the minimum value within each \n",
    "              # column by specifying axis=0"
   ]
  },
  {
   "cell_type": "code",
   "execution_count": 199,
   "id": "920cd3f5-79ef-4da7-910d-95da3df96028",
   "metadata": {
    "tags": []
   },
   "outputs": [
    {
     "data": {
      "text/plain": [
       "array([6, 0, 2])"
      ]
     },
     "execution_count": 199,
     "metadata": {},
     "output_type": "execute_result"
    }
   ],
   "source": [
    "M.min(axis=1) # find the minimum value within each \n",
    "              # column by specifying axis=1"
   ]
  },
  {
   "cell_type": "markdown",
   "id": "38aa3275-b666-4084-bd50-0296f3b1b4c0",
   "metadata": {},
   "source": [
    "The axis keyword specifies the dimension of the array that will be collapsed, rather than the dimension that will be returned. So, specifying axis=0 means that axis 0 will be collapsed: for two-dimensional arrays, values within each column will be aggregated."
   ]
  },
  {
   "cell_type": "markdown",
   "id": "b098043e-1941-40fa-ba2d-736485829c79",
   "metadata": {
    "tags": []
   },
   "source": [
    "###  Average Height of US Presidents?"
   ]
  },
  {
   "cell_type": "code",
   "execution_count": 202,
   "id": "733266fa-4f5f-4a90-9574-1be88e4264a4",
   "metadata": {
    "tags": []
   },
   "outputs": [
    {
     "data": {
      "text/plain": [
       "'/Users/rahulsingh/Desktop/python_book'"
      ]
     },
     "execution_count": 202,
     "metadata": {},
     "output_type": "execute_result"
    }
   ],
   "source": [
    "pwd"
   ]
  },
  {
   "cell_type": "code",
   "execution_count": 209,
   "id": "e6236ea6-dc08-4488-a6c9-4618d6b0a9da",
   "metadata": {
    "collapsed": true,
    "jupyter": {
     "outputs_hidden": true
    },
    "tags": []
   },
   "outputs": [
    {
     "name": "stdout",
     "output_type": "stream",
     "text": [
      "[189 170 189 163 183 171 185 168 173 183 173 173 175 178 183 193 178 173\n",
      " 174 183 183 168 170 178 182 180 183 178 182 188 175 179 183 193 182 183\n",
      " 177 185 188 188 182 185 191 182]\n"
     ]
    }
   ],
   "source": [
    "import pandas  as pd\n",
    "data = pd.read_csv('data/president_heights.csv')\n",
    "height = np.array(data['height(cm)'])\n",
    "print(heights)"
   ]
  },
  {
   "cell_type": "markdown",
   "id": "ba7cab27-ccfe-4fa2-bbf7-601cf3806b56",
   "metadata": {},
   "source": [
    "Let's compute a variety of summary statistics:"
   ]
  },
  {
   "cell_type": "code",
   "execution_count": 210,
   "id": "4052d798-e055-497e-8494-611fc55d4c05",
   "metadata": {
    "collapsed": true,
    "jupyter": {
     "outputs_hidden": true
    },
    "tags": []
   },
   "outputs": [
    {
     "name": "stdout",
     "output_type": "stream",
     "text": [
      "Mean height             : 180.04545454545453\n",
      "Standard deviation      : 6.983599441335736\n",
      "Minimum height          : 163\n",
      "Maximum height          : 193\n",
      "25th percentile         : 174.75\n",
      "Median                  : 182.0\n",
      "75th percentile         : 183.5\n"
     ]
    }
   ],
   "source": [
    "print(\"Mean height             :\",height.mean())\n",
    "print(\"Standard deviation      :\",height.std())\n",
    "print(\"Minimum height          :\",height.min())\n",
    "print(\"Maximum height          :\",height.max())\n",
    "print(\"25th percentile         :\",np.percentile(heights, 25))\n",
    "print(\"Median                  :\",np.median(heights))\n",
    "print(\"75th percentile         :\",np.percentile(heights, 75))"
   ]
  },
  {
   "cell_type": "markdown",
   "id": "51c5c339-ad16-4a2e-8be1-ff852526684e",
   "metadata": {},
   "source": [
    "We see that the median height of US presidents is 182 cm, or just shy of six feet."
   ]
  },
  {
   "cell_type": "code",
   "execution_count": 214,
   "id": "f7fcf8ba-05c0-4fc4-8c8d-802b37f276bc",
   "metadata": {
    "tags": []
   },
   "outputs": [],
   "source": [
    "%matplotlib inline\n",
    "import matplotlib.pyplot as plt"
   ]
  },
  {
   "cell_type": "code",
   "execution_count": 213,
   "id": "cc58ff54-b92c-4085-8210-5e3588ff9948",
   "metadata": {
    "collapsed": true,
    "jupyter": {
     "outputs_hidden": true
    },
    "tags": []
   },
   "outputs": [
    {
     "data": {
      "image/png": "[encoded data removed]",
      "text/plain": [
       "<Figure size 640x480 with 1 Axes>"
      ]
     },
     "metadata": {},
     "output_type": "display_data"
    }
   ],
   "source": [
    "plt.hist(heights)\n",
    "plt.title('Height Distribution of US Presidents')\n",
    "plt.xlabel('height (cm)')\n",
    "plt.ylabel('number');"
   ]
  },
  {
   "cell_type": "markdown",
   "id": "b0f6cdff-2842-4645-9474-9540f5024b7e",
   "metadata": {},
   "source": [
    "# Computation on Arrays: Broadcasting"
   ]
  },
  {
   "cell_type": "code",
   "execution_count": null,
   "id": "aa5e7a9d-3e81-45f3-bc23-17fd0a4bfc53",
   "metadata": {},
   "outputs": [],
   "source": []
  }
 ],
 "metadata": {
  "kernelspec": {
   "display_name": "Python 3 (ipykernel)",
   "language": "python",
   "name": "python3"
  },
  "language_info": {
   "codemirror_mode": {
    "name": "ipython",
    "version": 3
   },
   "file_extension": ".py",
   "mimetype": "text/x-python",
   "name": "python",
   "nbconvert_exporter": "python",
   "pygments_lexer": "ipython3",
   "version": "3.11.0"
  }
 },
 "nbformat": 4,
 "nbformat_minor": 5
}
